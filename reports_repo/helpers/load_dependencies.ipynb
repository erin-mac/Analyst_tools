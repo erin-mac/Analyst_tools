{
 "cells": [
  {
   "cell_type": "code",
   "execution_count": null,
   "metadata": {},
   "outputs": [],
   "source": [
    "# Common dependencies\n",
    "\n",
    "import pandas as pd\n",
    "import requests as re\n",
    "import seabiscuit as sb\n",
    "import math\n",
    "import json\n",
    "import pathlib\n",
    "\n",
    "from datetime import datetime,timedelta,date\n",
    "import IPython\n",
    "pd.set_option('display.max_colwidth', None)"
   ]
  },
  {
   "cell_type": "code",
   "execution_count": null,
   "metadata": {},
   "outputs": [],
   "source": [
    "# activity report\n",
    "\n",
    "# from datetime import datetime"
   ]
  },
  {
   "cell_type": "code",
   "execution_count": null,
   "metadata": {},
   "outputs": [],
   "source": [
    "# botometer\n",
    "\n",
    "import threading\n",
    "from sys import argv\n",
    "from sys import exit\n",
    "import queue\n",
    "import os.path\n",
    "# from datetime import datetime, timedelta\n",
    "# import seabiscuit as sb\n",
    "# import pandas as pd\n",
    "# import math\n",
    "# import botometer"
   ]
  },
  {
   "cell_type": "code",
   "execution_count": null,
   "metadata": {},
   "outputs": [],
   "source": [
    "# connect_to_api\n",
    "\n",
    "import psycopg2\n",
    "from yaml import safe_load\n",
    "# import json\n",
    "# import pathlib\n",
    "\n",
    "graphika_env = 'production'"
   ]
  },
  {
   "cell_type": "code",
   "execution_count": null,
   "metadata": {},
   "outputs": [],
   "source": [
    "# graphika_trending\n",
    "\n",
    "# import requests as re\n",
    "# import pandas as pd\n",
    "import numpy as np\n",
    "from IPython.display import Image\n",
    "import matplotlib.pyplot as plt\n",
    "# from datetime import datetime, timedelta,date"
   ]
  },
  {
   "cell_type": "code",
   "execution_count": null,
   "metadata": {},
   "outputs": [],
   "source": [
    "# group_density_getter\n",
    "\n",
    "from collections import Counter\n",
    "from collections import defaultdict\n",
    "# import requests as re\n",
    "# import pandas as pd\n",
    "\n",
    "# map_id = input('Please enter a map ID: ')"
   ]
  },
  {
   "cell_type": "code",
   "execution_count": null,
   "metadata": {},
   "outputs": [],
   "source": [
    "# hit_getter\n",
    "\n",
    "# import pandas as pd\n",
    "# from datetime import datetime,timedelta"
   ]
  },
  {
   "cell_type": "code",
   "execution_count": null,
   "metadata": {},
   "outputs": [],
   "source": [
    "# misc_functions\n",
    "\n",
    "from IPython.display import display, HTML\n",
    "from gspread_pandas import Spread, Client  \n",
    "from slack_webhook import Slack\n",
    "# import pandas as pd"
   ]
  },
  {
   "cell_type": "code",
   "execution_count": null,
   "metadata": {},
   "outputs": [],
   "source": [
    "# live_analysis\n",
    "\n",
    "from lxml import etree\n",
    "import urllib\n",
    "from newspaper import Article"
   ]
  },
  {
   "cell_type": "code",
   "execution_count": null,
   "metadata": {},
   "outputs": [],
   "source": [
    "# tweepy_tweets_getter\n",
    "\n",
    "from __future__ import unicode_literals\n",
    "import csv\n",
    "import tweepy\n",
    "from tweepy import Cursor\n",
    "from tweepy import OAuthHandler\n",
    "from tweepy import API\n",
    "import time\n",
    "import yaml\n",
    "from twarc import Twarc\n",
    "# import json\n",
    "# import pprint\n",
    "# import pathlib\n",
    "# pp = pprint.PrettyPrinter(indent=4)\n",
    "                                                                     \n",
    "# import pprint as pp\n",
    "# import pandas as pd"
   ]
  },
  {
   "cell_type": "code",
   "execution_count": null,
   "metadata": {},
   "outputs": [],
   "source": [
    "# youtube_report\n",
    "\n",
    "import boto\n",
    "import zlib\n",
    "# import datetime\n",
    "# import pandas as pd\n",
    "# import seabiscuit as sb\n",
    "# from datetime import datetime,timedelta\n",
    "# import math\n",
    "# import requests as re\n",
    "# import json"
   ]
  },
  {
   "cell_type": "code",
   "execution_count": null,
   "metadata": {},
   "outputs": [],
   "source": [
    "# test_notebook\n",
    "\n",
    "from newspaper import Article"
   ]
  },
  {
   "cell_type": "code",
   "execution_count": null,
   "metadata": {},
   "outputs": [],
   "source": [
    "# live_dashboard\n",
    "\n",
    "from slack_webhook import Slack"
   ]
  },
  {
   "cell_type": "code",
   "execution_count": 1,
   "metadata": {},
   "outputs": [],
   "source": [
    "# # graphika_text_tools\n",
    "\n",
    "# from graphika_text_tools.nlp import GraphikaNLP\n",
    "\n",
    "# nlp = GraphikaNLP()\n",
    "\n",
    "# nlp.add_model(\"en\") #everything is default, model is named en\n",
    "\n",
    "# from graphika_text_tools.nlp import pmi_corpus\n",
    "# from graphika_text_tools.ranks import apply_counter_singlethread"
   ]
  },
  {
   "cell_type": "code",
   "execution_count": null,
   "metadata": {},
   "outputs": [],
   "source": [
    "plt.rcParams[\"figure.figsize\"] = (10,10)"
   ]
  }
 ],
 "metadata": {
  "kernelspec": {
   "display_name": "Python 3",
   "language": "python",
   "name": "python3"
  },
  "language_info": {
   "codemirror_mode": {
    "name": "ipython",
    "version": 3
   },
   "file_extension": ".py",
   "mimetype": "text/x-python",
   "name": "python",
   "nbconvert_exporter": "python",
   "pygments_lexer": "ipython3",
   "version": "3.9.2"
  }
 },
 "nbformat": 4,
 "nbformat_minor": 2
}
