{
 "cells": [
  {
   "cell_type": "code",
   "execution_count": 4,
   "metadata": {},
   "outputs": [],
   "source": [
    "import psycopg2\n",
    "import json\n",
    "import pathlib\n",
    "from yaml import safe_load\n",
    "graphika_env = 'production'"
   ]
  },
  {
   "cell_type": "code",
   "execution_count": 5,
   "metadata": {},
   "outputs": [],
   "source": [
    "# Collect Graphika API Creds\n",
    "'''\n",
    "create a file in your home directory named \"graphika_api_login.yml\",\n",
    "   using any text editor, in the following format: \n",
    "   \n",
    "production:\n",
    "    username: <your user name>\n",
    "    password: <your password>\n",
    "staging:\n",
    "    username: <your user name> \n",
    "    password: <your pass word> \n",
    "    \n",
    "'''\n",
    "api_creds_path = pathlib.Path.home()\n",
    "with open(api_creds_path.joinpath('graphika_api_login.yml'), 'r') as fi:\n",
    "    g_api_creds = safe_load(fi)\n",
    "g_api_uname = g_api_creds[graphika_env]['username']\n",
    "g_api_paswd = g_api_creds[graphika_env]['password']"
   ]
  },
  {
   "cell_type": "code",
   "execution_count": 6,
   "metadata": {},
   "outputs": [],
   "source": [
    "username = g_api_uname\n",
    "pswd = g_api_paswd"
   ]
  },
  {
   "cell_type": "code",
   "execution_count": 8,
   "metadata": {},
   "outputs": [],
   "source": [
    "# Collect postgres connection creds\n",
    "\n",
    "def connect_to_hitcache():\n",
    "    '''\n",
    "    Create a file in your home directory, using any text \n",
    "      editor, named \"pg_creds.yml\", with the following format: \n",
    "\n",
    "    general: \n",
    "        production: \n",
    "            username: <uname> \n",
    "            password: <pwd>\n",
    "            database: hitcache_production\n",
    "            port: <forwarded port in your .ssh/config> \n",
    "            host: localhost\n",
    "        staging:  \n",
    "            username:... (same set of info as above, but for staging)\n",
    "\n",
    "    '''\n",
    "    pg_creds_path = pathlib.Path.home()\n",
    "    service='general'\n",
    "    with open(pg_creds_path.joinpath('pg_creds.yml')) as fi: \n",
    "        pg_creds = safe_load(fi)\n",
    "    pg_username = pg_creds[service][graphika_env]['username']\n",
    "    pg_password = pg_creds[service][graphika_env]['password']\n",
    "    pg_database = pg_creds[service][graphika_env]['database']\n",
    "    pg_port     = pg_creds[service][graphika_env]['port']\n",
    "    pg_host     = pg_creds[service][graphika_env]['host']\n",
    "\n",
    "    conn = psycopg2.connect(host=pg_host, port=pg_port, user=pg_username, password=pg_password, dbname=pg_database)\n",
    "    return conn\n",
    "\n",
    "# cur = connect_to_hitcache()"
   ]
  },
  {
   "cell_type": "code",
   "execution_count": null,
   "metadata": {},
   "outputs": [],
   "source": []
  }
 ],
 "metadata": {
  "kernelspec": {
   "display_name": "Python 3",
   "language": "python",
   "name": "python3"
  },
  "language_info": {
   "codemirror_mode": {
    "name": "ipython",
    "version": 3
   },
   "file_extension": ".py",
   "mimetype": "text/x-python",
   "name": "python",
   "nbconvert_exporter": "python",
   "pygments_lexer": "ipython3",
   "version": "3.9.2"
  }
 },
 "nbformat": 4,
 "nbformat_minor": 2
}
