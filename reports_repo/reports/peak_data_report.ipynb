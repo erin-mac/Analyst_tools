{
 "cells": [
  {
   "cell_type": "code",
   "execution_count": 1,
   "metadata": {},
   "outputs": [],
   "source": [
    "%run connect_to_api.ipynb\n",
    "%run load_dependencies.ipynb\n",
    "%run misc_functions.ipynb"
   ]
  },
  {
   "cell_type": "code",
   "execution_count": 2,
   "metadata": {},
   "outputs": [],
   "source": [
    "def peak_data_report(map_ids, from_date = None, to_date = datetime.now(),num_days = 7,features = ['hashtags','post_url'],limit = None,sheet = False):\n",
    "    if limit == None:\n",
    "        limit = ''\n",
    "    else:\n",
    "        limit = '&limit='+str(limit)\n",
    "    if type(map_ids) != list:\n",
    "        map_ids = [map_ids]\n",
    "    to_write = {}\n",
    "    \n",
    "    for map_id in map_ids:\n",
    "        print(f'...Fetching peak objects for map {map_id}')\n",
    "        peak_items_df = pd.DataFrame()\n",
    "        groups = sb.Groups(map_id)\n",
    "        group_data = {}\n",
    "        from_date = to_date - timedelta(days = num_days)\n",
    "\n",
    "        for g in groups:\n",
    "            group_data[g['group_no']] = g['name']\n",
    "\n",
    "        for f in features:\n",
    "            for group in group_data:\n",
    "                url = (f\"https://api.graphika.com/focus/{map_id}/group/{group}/{f}?orderBy=engagement_count&orderDirection=-1&format=json{limit}&offset=0\")\n",
    "                r = re.get(url,auth=(username, pswd))\n",
    "                peak_items = r.json()\n",
    "                df = pd.DataFrame([n for n in peak_items[\"results\"]])\n",
    "                df['map_id'] = map_id\n",
    "                df.peak_date = pd.to_datetime(df['peak_date'])\n",
    "                df_peak = df[df[\"peak_date\"]>=from_date]\n",
    "                df_peak = df_peak[df_peak[\"peak_date\"]<to_date]\n",
    "                df_peak[\"hit_type\"] = f\n",
    "                df_peak[\"group\"] = group_data[group]\n",
    "\n",
    "                peak_items_df = pd.concat([peak_items_df,df_peak])\n",
    "        peak_items_df['starship'] = peak_items_df.apply(get_starship_links,axis = 1)\n",
    "        cols = [\"group\",\n",
    "            \"hit_type\",\n",
    "            \"engagement_count\",\n",
    "            \"peak_date\",\n",
    "            \"target\",\n",
    "            \"starship\",\n",
    "            \"focus\",\n",
    "            \"total_engagement_count\",\n",
    "            \"unique_source_count\",\n",
    "            \"peakedness\",\n",
    "            \"peak_hits_count\",\n",
    "            \"map_id\"]\n",
    "\n",
    "        if \"mentions\" in features:\n",
    "            peak_items_df.loc[peak_items_df.feature_type == \"mentions\",\"target\"] = \\\n",
    "            peak_items_df.loc[peak_items_df.feature_type == \"mentions\",\"target\"]\\\n",
    "            .apply(lambda x:f'=HYPERLINK(\"http://www.twitter.com/i/user/{x}\", \"{x}\")')\n",
    "\n",
    "            cols.extend[\"username\",\n",
    "                \"name\",\n",
    "                \"profile_image_url\",\n",
    "                \"num_following\",\n",
    "                \"num_followers\",\n",
    "                \"account_url\"]\n",
    "                #\"retweeted_text\"]\n",
    "\n",
    "        if \"retweets\" in features:\n",
    "            peak_items_df.loc[peak_items_df.hit_type == \"retweets\",\"username\"] = peak_items_df[peak_items_df.hit_type == \"retweets\"][\"retweeted_username\"] \n",
    "            peak_items_df.loc[peak_items_df.hit_type == \"retweets\",\"name\"] = peak_items_df[peak_items_df.hit_type == \"retweets\"][\"retweeted_user_name\"] \n",
    "\n",
    "            peak_items_df.loc[peak_items_df.feature_type == \"retweets\",\"target\"] = peak_items_df.loc[peak_items_df.feature_type == \"retweets\",\"target\"]\\\n",
    "            .apply(lambda x:f'=HYPERLINK(\"http://www.twitter.com/x/status/{x}\", \"{x}\")')\n",
    "\n",
    "            cols.append(\"retweeted_text\")\n",
    "        to_write[str(map_id)] = peak_items_df[cols]\n",
    "    \n",
    "    if sheet:\n",
    "#         write_to_sheet(to_write,\"Peak Objects Report {}\".format(str(datetime.now())[:10]))\n",
    "        write_to_sheet(to_write,'Peak Objects Report [Domestic Narrative Monitoring]')\n",
    "    else:\n",
    "        for k in to_write:\n",
    "            writer = pd.ExcelWriter(f'/Users/avneeshchandra/Downloads/peak_objects_report - {str(to_date)[:10]}.xlsx')\n",
    "            to_write[k].to_excel(writer,str(k),index = False)\n",
    "            writer.save()"
   ]
  },
  {
   "cell_type": "code",
   "execution_count": 3,
   "metadata": {},
   "outputs": [
    {
     "name": "stdout",
     "output_type": "stream",
     "text": [
      "...Fetching peak objects for map 2736\n",
      "...Fetching peak objects for map 2364\n",
      "...Fetching peak objects for map 2289\n",
      "...Fetching peak objects for map 2690\n",
      "...Fetching peak objects for map 2712\n",
      "...Opening Sheet\n",
      "...Writing 2736\n",
      "...Writing 2364\n",
      "...Writing 2289\n",
      "...Writing 2690\n"
     ]
    },
    {
     "name": "stderr",
     "output_type": "stream",
     "text": [
      "/Library/Frameworks/Python.framework/Versions/3.6/lib/python3.6/site-packages/ipykernel_launcher.py:4: SettingWithCopyWarning: \n",
      "A value is trying to be set on a copy of a slice from a DataFrame.\n",
      "Try using .loc[row_indexer,col_indexer] = value instead\n",
      "\n",
      "See the caveats in the documentation: https://pandas.pydata.org/pandas-docs/stable/user_guide/indexing.html#returning-a-view-versus-a-copy\n",
      "  after removing the cwd from sys.path.\n"
     ]
    },
    {
     "name": "stdout",
     "output_type": "stream",
     "text": [
      "...Writing 2712\n",
      "...Sheet now has:\n",
      "<Worksheet '2712' id:2004107082> (191, 12)\n",
      "<Worksheet '2736' id:306893847> (241, 12)\n",
      "<Worksheet '2364' id:140606886> (152, 12)\n",
      "<Worksheet '2289' id:818105275> (375, 12)\n",
      "<Worksheet '2690' id:372434718> (292, 12)\n",
      "...Sheet available at: https://docs.google.com/spreadsheets/d/1ifb4NipdDw6oeztIbyzgIPkemGm6MbW-7_HMorTPOaQ\n"
     ]
    }
   ],
   "source": [
    "peak_data_report([2736,2364,2289,2690,2712],num_days = 7,limit = 100,sheet = True)"
   ]
  },
  {
   "cell_type": "code",
   "execution_count": null,
   "metadata": {},
   "outputs": [],
   "source": []
  }
 ],
 "metadata": {
  "kernelspec": {
   "display_name": "Python 3",
   "language": "python",
   "name": "python3"
  },
  "language_info": {
   "codemirror_mode": {
    "name": "ipython",
    "version": 3
   },
   "file_extension": ".py",
   "mimetype": "text/x-python",
   "name": "python",
   "nbconvert_exporter": "python",
   "pygments_lexer": "ipython3",
   "version": "3.6.4"
  }
 },
 "nbformat": 4,
 "nbformat_minor": 2
}
