{
 "cells": [
  {
   "cell_type": "code",
   "execution_count": 1,
   "metadata": {},
   "outputs": [],
   "source": [
    "%run load_dependencies.ipynb\n",
    "%run misc_functions.ipynb\n",
    "%run connect_to_api.ipynb"
   ]
  },
  {
   "cell_type": "code",
   "execution_count": 2,
   "metadata": {},
   "outputs": [],
   "source": [
    "%run tweepy_tweets_getter.ipynb"
   ]
  },
  {
   "cell_type": "code",
   "execution_count": 29,
   "metadata": {},
   "outputs": [],
   "source": [
    "def analyst_search(mode = 'Hitcache'):\n",
    "    to_write = {}\n",
    "    if mode == 'Hitcache':\n",
    "        obj_type = input('Enter one of the following object types to search:\\n1. hashtags\\n2. urls\\n3. mentions\\n4. media \\n5. bigrams\\n6. trigrams\\n7. retweets\\n')\n",
    "        search_term = input('Enter search term: ')\n",
    "        search_term = search_term.lower()\n",
    "        days = int(input('Enter how many days before now to check: '))\n",
    "        print('...Fetching results')\n",
    "        results = check_hitcache(obj_type,search_term,days,live=True,limit = False)\n",
    "        results['link'] = [f'https://twitter.com/a/status/{x}' for x in results.message_id]\n",
    "        to_write['by segment'] = pd.pivot_table(results,index = ['map_id','hit_value','cluster_id'],values = ['message_id','node_id'],aggfunc = pd.Series.nunique)\n",
    "        to_write['by object'] = pd.pivot_table(results,index = ['hit_value'],values = ['message_id','node_id'],aggfunc = pd.Series.nunique)\n",
    "        results['date'] = [str(x)[:10] for x in results.hit_time]\n",
    "        to_write['over time'] = pd.pivot_table(results,index = ['hit_value'],columns = 'date',values = 'node_id',aggfunc = pd.Series.nunique,margins = True).fillna(0)        \n",
    "        \n",
    "        to_write['by segment'] = to_write['by segment'].reset_index().sort_values(['map_id','node_id'],ascending = False)\n",
    "        to_write['by segment'].columns = ['map_id','object_value','cluster_id','tweets','users']\n",
    "        to_write['by object'] = to_write['by object'].reset_index().sort_values('node_id',ascending = False)\n",
    "        to_write['by object'].columns = ['hit_value','tweets','users']\n",
    "        to_write['over time'] = to_write['over time'].reset_index().sort_values('All',ascending = False)\n",
    "        to_write['raw data'] = results\n",
    "        write_to_sheet(to_write,f'hitcache_{obj_type}_{search_term}')\n",
    "    elif mode == 'Twitter':\n",
    "        search_term = input('Enter search term: ')\n",
    "        lim = input('If you would like to limit the results, enter a limit, else hit Enter: ')\n",
    "        if lim == '':\n",
    "            results = search_tweets(search_term)\n",
    "        else:\n",
    "            lim = int(lim)\n",
    "            results = search_tweets(search_term,limit = lim)\n",
    "       \n",
    "        results['link'] = [f'https://twitter.com/a/status/{x}' for x in results.tweet_id]\n",
    "        results['date'] = [str(x)[:10] for x in results.time]\n",
    "\n",
    "        temp = pd.pivot_table(results,index = ['retweet_screen_name','retweet_tweet_id'],values = ['tweet_id'],aggfunc = pd.Series.nunique).sort_values('tweet_id',ascending = False)\n",
    "        rts = pd.pivot_table(results,index = ['retweet_screen_name','retweet_tweet_id'],values = ['retweet_count'],aggfunc = pd.Series.mean).sort_values('retweet_count',ascending = False)\n",
    "        rts.retweet_count = rts.retweet_count.astype(int)\n",
    "        temp = temp.merge(rts,left_index = True, right_index = True)\n",
    "        temp.columns = ['retweets (this week)','retweets (all time)']\n",
    "        to_write['top accounts'] = temp.reset_index()\n",
    "        temp = pd.pivot_table(results,index = ['date'],values = ['tweet_id'],aggfunc = pd.Series.nunique).fillna(0)\n",
    "        temp.columns = ['tweets']\n",
    "        to_write['over time'] = temp.reset_index()\n",
    "        to_write['raw data'] = results\n",
    "        write_to_sheet(to_write,f'twitter_{search_term}')\n",
    "    return to_write"
   ]
  },
  {
   "cell_type": "code",
   "execution_count": 46,
   "metadata": {},
   "outputs": [],
   "source": [
    "class bcolors:\n",
    "    HEADER = '\\033[95m'\n",
    "    OKBLUE = '\\033[94m'\n",
    "    OKCYAN = '\\033[96m'\n",
    "    OKGREEN = '\\033[92m'\n",
    "    WARNING = '\\033[93m'\n",
    "    FAIL = '\\033[91m'\n",
    "    ENDC = '\\033[0m'\n",
    "    BOLD = '\\033[1m'\n",
    "    UNDERLINE = '\\033[4m'"
   ]
  },
  {
   "cell_type": "code",
   "execution_count": 76,
   "metadata": {},
   "outputs": [
    {
     "name": "stdout",
     "output_type": "stream",
     "text": [
      "\u001b[93m\u001b[1mWarning: No active bill remain. Continue?\u001b[0m\n"
     ]
    }
   ],
   "source": [
    "print(f\"{bcolors.WARNING}{bcolors.BOLD}Warning: No active bill remain. Continue?{bcolors.ENDC}\")\n"
   ]
  },
  {
   "cell_type": "code",
   "execution_count": 77,
   "metadata": {},
   "outputs": [
    {
     "data": {
      "text/plain": [
       "250"
      ]
     },
     "execution_count": 77,
     "metadata": {},
     "output_type": "execute_result"
    }
   ],
   "source": [
    "int('250 ')"
   ]
  },
  {
   "cell_type": "code",
   "execution_count": null,
   "metadata": {},
   "outputs": [],
   "source": []
  }
 ],
 "metadata": {
  "kernelspec": {
   "display_name": "Python 3",
   "language": "python",
   "name": "python3"
  },
  "language_info": {
   "codemirror_mode": {
    "name": "ipython",
    "version": 3
   },
   "file_extension": ".py",
   "mimetype": "text/x-python",
   "name": "python",
   "nbconvert_exporter": "python",
   "pygments_lexer": "ipython3",
   "version": "3.9.2"
  }
 },
 "nbformat": 4,
 "nbformat_minor": 2
}
