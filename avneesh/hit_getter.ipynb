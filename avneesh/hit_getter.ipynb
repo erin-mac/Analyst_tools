{
 "cells": [
  {
   "cell_type": "code",
   "execution_count": 10,
   "metadata": {},
   "outputs": [],
   "source": [
    "import pandas as pd\n",
    "%run ./connect_to_api.ipynb"
   ]
  },
  {
   "cell_type": "code",
   "execution_count": 14,
   "metadata": {},
   "outputs": [],
   "source": [
    "def get_hit(hit_type, hit_value, how_many = 10,sort_by = 'id',get_clusters = True):\n",
    "    \"\"\" \n",
    "    Get all retweets of a certain tweet ID between given dates\n",
    "  \n",
    "    Parameters: \n",
    "    feature (str): What type of hit to look for (retweets)\n",
    "    rt_id (str): Tweet ID\n",
    "    date_from (datetime): Datetime of when the tweet was made\n",
    "    date_to (datetime): Datetime of when to check for retweeters till (a week after the tweet was made)\n",
    "    \n",
    "    Returns: \n",
    "    hits_df (DataFrame): Table with all retweets for a given tweet ID\n",
    "  \n",
    "    \"\"\"\n",
    "\n",
    "    query = \"SELECT * FROM \\\n",
    "    \\\n",
    "    ( \\\n",
    "    SELECT \\\n",
    "    * \\\n",
    "    FROM \\\n",
    "    hits_twitter_{} \\\n",
    "    JOIN \\\n",
    "    map_nodes on map_nodes.node_id = hits_twitter_{}.node_id \\\n",
    "    WHERE \\\n",
    "    hits_twitter_{}.hit_value = '{}' \\\n",
    "    ) s \\\n",
    "    \\\n",
    "    LIMIT \\\n",
    "    {};;\".format(hit_type, hit_type, hit_type, hit_value, how_many)\n",
    "    \n",
    "    r = cur.execute(query)\n",
    "    hits = cur.fetchall()\n",
    "    hits_df = pd.DataFrame(hits, columns=[\"id\",\"hit_value\", \"node_id\", \"message_id\",\"hit_time\",\"params\",\"id_2\",\"node_id2\",\"map_id\",\"cluster_id\"])\n",
    "    \n",
    "    hits_df[\"node_id\"] = hits_df[\"node_id\"].astype(\"str\")\n",
    "    hits_df[\"message_id\"] = hits_df[\"message_id\"].astype(\"str\")\n",
    "    hits_df[\"hit_type\"] = hit_type\n",
    "    hits_df.drop_duplicates([sort_by],inplace = True)\n",
    "    \n",
    "    if get_clusters:\n",
    "        clustername_values = hits_df.apply(clustername_lookup,axis = 1,result_type = 'reduce')\n",
    "        hits_df.insert(loc = hits_df.shape[1]-1,column = 'cluster_name', value = clustername_values)\n",
    "    \n",
    "    hits_df.drop(columns = ['node_id2','id_2','id','params'],inplace = True)\n",
    "    \n",
    "    return hits_df.set_index(['hit_value'])"
   ]
  },
  {
   "cell_type": "code",
   "execution_count": 3,
   "metadata": {},
   "outputs": [],
   "source": [
    "# hit_type = input('Hit type: ')\n",
    "# hit_value = input('Hit value: ')"
   ]
  },
  {
   "cell_type": "code",
   "execution_count": 4,
   "metadata": {},
   "outputs": [],
   "source": [
    "def clustername_lookup(rcvd_series):\n",
    "    map_id = rcvd_series['map_id']\n",
    "    cluster_id = rcvd_series['cluster_id']\n",
    "    url = 'https://api.graphika.com/maps/{}/clusters/{}'.format(map_id,cluster_id)\n",
    "    r = requests.get(url, auth = (username,pswd))\n",
    "    try:\n",
    "        return r.json()['name']\n",
    "    except:\n",
    "        return 'Map access needed'"
   ]
  },
  {
   "cell_type": "code",
   "execution_count": 151,
   "metadata": {},
   "outputs": [],
   "source": [
    "# hits_to_check_dict = {'urls':['theringer.com'],'retweets':['1227561237782855680'],'hashtags':['MAGA'],'mentions':['1343351467']}\n",
    "\n",
    "# results_dict = {'urls':{},'retweets':{},'hashtags':{},'mentions':{}}\n"
   ]
  },
  {
   "cell_type": "code",
   "execution_count": 152,
   "metadata": {},
   "outputs": [],
   "source": [
    "# for hit_type in hits_to_check_dict.keys():\n",
    "#     for hit_value in hits_to_check_dict[hit_type]:\n",
    "# #         print('{}: {}'.format(hit_type,hit_value))\n",
    "#         results_dict[hit_type][hit_value] = (get_hit(hit_type,hit_value,50,'map_id'))\n",
    "    "
   ]
  },
  {
   "cell_type": "code",
   "execution_count": 5,
   "metadata": {},
   "outputs": [],
   "source": [
    "# results_dict"
   ]
  },
  {
   "cell_type": "code",
   "execution_count": 6,
   "metadata": {},
   "outputs": [],
   "source": [
    "# # group influence: total map outdegs (excluding in group connections)\n",
    "# # 4:07\n",
    "# # group density: group connections/(n-1)^2\n",
    "# # 4:07\n",
    "# # analyst_tool.segment_stat (map_id = 100)\n",
    "\n",
    "# node-level\n",
    "#     get maps\n",
    "#     get clusters\n",
    "    \n",
    "# map-level\n",
    "#     group/cluster level\n",
    "#         get influence\n",
    "#         get connections\n",
    "#             in\n",
    "#             out\n"
   ]
  },
  {
   "cell_type": "code",
   "execution_count": 36,
   "metadata": {},
   "outputs": [],
   "source": [
    "hitcounts_dict = {'node_id':[],'message_id':[],'map_id':[],'hit_time':[]}\n",
    "for k in hitcounts_dict:\n",
    "    hitcounts_dict[k].append(get_hit('urls', 'www.usatoday.com',500,get_clusters = False)[k].nunique())\n",
    "    hitcounts_dict[k].append(get_hit('urls', 'www.usatoday.com',500,get_clusters = False)[k].value_counts())\n"
   ]
  },
  {
   "cell_type": "code",
   "execution_count": 32,
   "metadata": {},
   "outputs": [
    {
     "data": {
      "text/plain": [
       "39"
      ]
     },
     "execution_count": 32,
     "metadata": {},
     "output_type": "execute_result"
    }
   ],
   "source": [
    "temp.node_id.nunique()"
   ]
  },
  {
   "cell_type": "code",
   "execution_count": 37,
   "metadata": {},
   "outputs": [
    {
     "data": {
      "text/plain": [
       "{'node_id': [39, 792173743              3\n",
       "  51141130               2\n",
       "  812091868272017409     2\n",
       "  1031917907364605953    2\n",
       "  15754281               2\n",
       "  3040234038             2\n",
       "  1969343886             2\n",
       "  1034868411354861568    1\n",
       "  263504949              1\n",
       "  24016767               1\n",
       "  347271473              1\n",
       "  142009437              1\n",
       "  789088080653201409     1\n",
       "  33278902               1\n",
       "  1004784664748359680    1\n",
       "  2828496562             1\n",
       "  3103213542             1\n",
       "  166802501              1\n",
       "  250742408              1\n",
       "  887331727021981701     1\n",
       "  1884977676             1\n",
       "  30217192               1\n",
       "  802352830036250624     1\n",
       "  223539098              1\n",
       "  123943277              1\n",
       "  964644965950377987     1\n",
       "  980534370539921408     1\n",
       "  320909953              1\n",
       "  259801469              1\n",
       "  765883014              1\n",
       "  2352600679             1\n",
       "  1120562007994970115    1\n",
       "  14859559               1\n",
       "  2458812056             1\n",
       "  20733757               1\n",
       "  18249616               1\n",
       "  2594232213             1\n",
       "  822491301484576772     1\n",
       "  79951780               1\n",
       "  Name: node_id, dtype: int64], 'message_id': [47, 1125752575947673601    1\n",
       "  1191368010008805376    1\n",
       "  1182856108299472896    1\n",
       "  1124897203913416704    1\n",
       "  1082836714987667456    1\n",
       "  1171613872555352064    1\n",
       "  1216646602317869056    1\n",
       "  1060289807061041154    1\n",
       "  1201603478138822656    1\n",
       "  1148081381433458688    1\n",
       "  1059185494289014790    1\n",
       "  1213885945415524352    1\n",
       "  1225820051946733568    1\n",
       "  1099653096379215877    1\n",
       "  1182841359906099200    1\n",
       "  1216152548249415682    1\n",
       "  1216642223779078144    1\n",
       "  1022849198889283584    1\n",
       "  1182843382361677825    1\n",
       "  1145016361388843008    1\n",
       "  1144821488219897857    1\n",
       "  1105160504773955584    1\n",
       "  1025308623017271296    1\n",
       "  1035982273424879616    1\n",
       "  1186036992145903616    1\n",
       "  1186038933232074753    1\n",
       "  1213845662384754689    1\n",
       "  1182833601437675521    1\n",
       "  1093171656133099520    1\n",
       "  1215849744771305472    1\n",
       "  1186049736559779842    1\n",
       "  1171819923020177408    1\n",
       "  1227375513548791808    1\n",
       "  1076447268406996998    1\n",
       "  1054151937116041217    1\n",
       "  1145015982546718723    1\n",
       "  1194643366690078720    1\n",
       "  1224375241050292224    1\n",
       "  1100713786388951040    1\n",
       "  1105364890783543297    1\n",
       "  1216686664359272448    1\n",
       "  1171628111370153984    1\n",
       "  1186037485823901696    1\n",
       "  1079244761733754880    1\n",
       "  1182845594009780224    1\n",
       "  1199339430403665923    1\n",
       "  1171820324586958848    1\n",
       "  Name: message_id, dtype: int64], 'map_id': [29, 1500    4\n",
       "  2313    4\n",
       "  2325    4\n",
       "  2331    3\n",
       "  2094    3\n",
       "  2277    3\n",
       "  1412    2\n",
       "  1519    2\n",
       "  2018    2\n",
       "  2320    1\n",
       "  2130    1\n",
       "  2257    1\n",
       "  2303    1\n",
       "  1215    1\n",
       "  2247    1\n",
       "  1923    1\n",
       "  907     1\n",
       "  2077    1\n",
       "  1430    1\n",
       "  1657    1\n",
       "  1701    1\n",
       "  1184    1\n",
       "  2212    1\n",
       "  1959    1\n",
       "  2284    1\n",
       "  2285    1\n",
       "  1077    1\n",
       "  1655    1\n",
       "  1602    1\n",
       "  Name: map_id, dtype: int64], 'hit_time': [47, 2019-05-07 13:21:44    1\n",
       "  2019-09-11 16:18:31    1\n",
       "  2019-02-27 11:06:31    1\n",
       "  2019-06-29 17:09:08    1\n",
       "  2018-10-21 23:26:21    1\n",
       "  2019-06-29 04:14:47    1\n",
       "  2018-07-27 14:20:27    1\n",
       "  2020-02-03 16:52:59    1\n",
       "  2020-01-12 00:18:57    1\n",
       "  2019-10-20 22:41:07    1\n",
       "  2019-10-12 03:10:47    1\n",
       "  2019-01-09 03:09:25    1\n",
       "  2020-02-11 23:35:00    1\n",
       "  2019-03-11 17:36:11    1\n",
       "  2019-10-20 21:52:26    1\n",
       "  2019-02-06 15:36:47    1\n",
       "  2019-11-13 15:49:08    1\n",
       "  2018-11-07 21:56:03    1\n",
       "  2019-07-08 04:08:26    1\n",
       "  2019-02-24 12:51:43    1\n",
       "  2019-09-11 16:16:55    1\n",
       "  2019-05-05 04:42:47    1\n",
       "  2018-12-30 05:16:17    1\n",
       "  2019-10-12 01:41:21    1\n",
       "  2018-09-01 20:06:36    1\n",
       "  2018-12-22 12:00:02    1\n",
       "  2020-01-11 04:15:43    1\n",
       "  2020-01-13 11:41:20    1\n",
       "  2019-11-04 14:54:02    1\n",
       "  2020-02-07 16:34:09    1\n",
       "  2019-09-11 03:34:44    1\n",
       "  2019-10-12 02:12:10    1\n",
       "  2020-01-05 15:32:12    1\n",
       "  2020-01-05 18:12:16    1\n",
       "  2019-03-12 07:08:21    1\n",
       "  2019-11-26 14:49:37    1\n",
       "  2020-01-13 09:02:08    1\n",
       "  2019-10-12 02:20:13    1\n",
       "  2019-06-29 17:07:38    1\n",
       "  2019-09-11 02:38:09    1\n",
       "  2019-10-12 02:29:00    1\n",
       "  2018-11-04 20:47:55    1\n",
       "  2020-01-13 08:44:44    1\n",
       "  2019-12-02 20:46:08    1\n",
       "  2019-10-20 21:50:29    1\n",
       "  2019-10-20 21:58:11    1\n",
       "  2018-08-03 09:13:19    1\n",
       "  Name: hit_time, dtype: int64]}"
      ]
     },
     "execution_count": 37,
     "metadata": {},
     "output_type": "execute_result"
    }
   ],
   "source": [
    "hitcounts_dict"
   ]
  },
  {
   "cell_type": "code",
   "execution_count": 38,
   "metadata": {},
   "outputs": [
    {
     "name": "stdout",
     "output_type": "stream",
     "text": [
      "For the given hit value, there are 39 unique node_ids\n",
      "For the given hit value, there are 47 unique message_ids\n",
      "For the given hit value, there are 29 unique map_ids\n",
      "For the given hit value, there are 47 unique hit_times\n"
     ]
    }
   ],
   "source": [
    "for k in hitcounts_dict:\n",
    "    print('For the given hit value, there are {} unique {}s'.format(hitcounts_dict[k][0],k))"
   ]
  },
  {
   "cell_type": "code",
   "execution_count": 62,
   "metadata": {},
   "outputs": [
    {
     "data": {
      "text/plain": [
       "'11-Feb-2020 2300'"
      ]
     },
     "execution_count": 62,
     "metadata": {},
     "output_type": "execute_result"
    }
   ],
   "source": [
    "from datetime import datetime\n",
    "datetime.strftime(temp.hit_time.iloc[0],'%d-%b-%Y %H00')"
   ]
  },
  {
   "cell_type": "code",
   "execution_count": 58,
   "metadata": {},
   "outputs": [
    {
     "data": {
      "text/plain": [
       "Timestamp('2020-02-11 23:35:00')"
      ]
     },
     "execution_count": 58,
     "metadata": {},
     "output_type": "execute_result"
    }
   ],
   "source": [
    "temp.hit_time.iloc[0]"
   ]
  },
  {
   "cell_type": "code",
   "execution_count": null,
   "metadata": {},
   "outputs": [],
   "source": []
  }
 ],
 "metadata": {
  "kernelspec": {
   "display_name": "Python 3",
   "language": "python",
   "name": "python3"
  },
  "language_info": {
   "codemirror_mode": {
    "name": "ipython",
    "version": 3
   },
   "file_extension": ".py",
   "mimetype": "text/x-python",
   "name": "python",
   "nbconvert_exporter": "python",
   "pygments_lexer": "ipython3",
   "version": "3.6.4"
  }
 },
 "nbformat": 4,
 "nbformat_minor": 2
}
