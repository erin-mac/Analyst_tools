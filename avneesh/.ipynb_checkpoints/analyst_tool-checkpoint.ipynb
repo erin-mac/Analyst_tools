{
 "cells": [
  {
   "cell_type": "markdown",
   "metadata": {},
   "source": [
    "### Run this cell to initiate functions"
   ]
  },
  {
   "cell_type": "code",
   "execution_count": 4,
   "metadata": {},
   "outputs": [],
   "source": [
    "%run hit_getter.ipynb\n",
    "%run group_density_getter.ipynb\n",
    "\n",
    "choice = {'level':0,'hit_type':'','hit_value':'','count':10,'sort_by':''}\n",
    "# get_hit(hit_type, hit_value, how_many = 10,sort_by = ''):"
   ]
  },
  {
   "cell_type": "code",
   "execution_count": null,
   "metadata": {},
   "outputs": [],
   "source": [
    "# Eventual function to write results of each function to an Excel file\n",
    "\n",
    "def write_result(filename,data):\n",
    "    writer = pd.ExcelWriter(filename)\n",
    "    data.to_excel(writer)\n",
    "    writer.save()"
   ]
  },
  {
   "cell_type": "code",
   "execution_count": 3,
   "metadata": {},
   "outputs": [],
   "source": [
    "# hit_type = input('Enter either retweets, mentions, urls, or hashtags: ')\n",
    "# hit_value = input('Enter the value of the above: ')\n",
    "# count = input('Enter how many results you would like to check: ')\n",
    "# sort_by = input('Enter message_id, map_id, or node_id to sort by any one of them: ')"
   ]
  },
  {
   "cell_type": "code",
   "execution_count": 10,
   "metadata": {},
   "outputs": [],
   "source": [
    "# get_hit(hit_type,hit_value,count,sort_by)"
   ]
  },
  {
   "cell_type": "markdown",
   "metadata": {},
   "source": [
    "### Enter one of the following\n",
    "#### 0: node-level analysis\n",
    "#### 1: map-level analysis\n",
    "#### 2: group-level analysis\n",
    "#### 3: cluster-level analysis"
   ]
  },
  {
   "cell_type": "code",
   "execution_count": 5,
   "metadata": {
    "scrolled": true
   },
   "outputs": [
    {
     "name": "stdout",
     "output_type": "stream",
     "text": [
      "0\n"
     ]
    }
   ],
   "source": [
    "choice['level'] = input()"
   ]
  },
  {
   "cell_type": "markdown",
   "metadata": {},
   "source": [
    "### TWEET LEVEL\n",
    "#### Created at\n",
    "#### Retweet count\n",
    "#### Text\n",
    "#### Retweet timeline?\n",
    "#### Hashtags, and how popular it was?\n",
    "#### Mentions, and how popular it was?\n",
    "#### URLs, and how popular it was?\n",
    "\n",
    "\n",
    "\n",
    "### NODE-LEVEL\n",
    "#### Created at\n",
    "#### Tweet count\n",
    "#### Influencer or not\n",
    "#### Verified or not\n",
    "#### Get their hits\n",
    "\n",
    "\n",
    "\n",
    "### MAP-LEVEL\n",
    "#### Map created at?\n",
    "#### How many nodes, in total and by group?\n",
    "#### Group density"
   ]
  },
  {
   "cell_type": "code",
   "execution_count": null,
   "metadata": {},
   "outputs": [],
   "source": []
  },
  {
   "cell_type": "code",
   "execution_count": null,
   "metadata": {},
   "outputs": [],
   "source": []
  }
 ],
 "metadata": {
  "kernelspec": {
   "display_name": "Python 3",
   "language": "python",
   "name": "python3"
  },
  "language_info": {
   "codemirror_mode": {
    "name": "ipython",
    "version": 3
   },
   "file_extension": ".py",
   "mimetype": "text/x-python",
   "name": "python",
   "nbconvert_exporter": "python",
   "pygments_lexer": "ipython3",
   "version": "3.6.4"
  }
 },
 "nbformat": 4,
 "nbformat_minor": 2
}
