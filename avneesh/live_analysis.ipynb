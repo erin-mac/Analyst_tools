{
 "cells": [
  {
   "cell_type": "markdown",
   "metadata": {},
   "source": [
    "### Run this cell to connect to API and compile functions"
   ]
  },
  {
   "cell_type": "code",
   "execution_count": null,
   "metadata": {},
   "outputs": [],
   "source": [
    "%run live_monitoring.ipynb\n",
    "%run connect_to_api.ipynb"
   ]
  },
  {
   "cell_type": "markdown",
   "metadata": {},
   "source": [
    "### Run this cell to fetch hits\n",
    "You may change the 'days' and 'hit_type' variable as per your preferences\n",
    "\n",
    "The result will be a full dataframe of the result"
   ]
  },
  {
   "cell_type": "code",
   "execution_count": null,
   "metadata": {},
   "outputs": [],
   "source": [
    "# week_trends = graphika_trending(days=7,hit_type='hashtags',auto=True,tag=True)\n",
    "fetched_hits = graphika_trending(days=3,hit_type='hashtags',auto=True,tag=False)"
   ]
  },
  {
   "cell_type": "markdown",
   "metadata": {},
   "source": [
    "This cell will add Graphika's tags to the data"
   ]
  },
  {
   "cell_type": "code",
   "execution_count": null,
   "metadata": {},
   "outputs": [],
   "source": [
    "fetched_hits = merge_tags(fetched_hits)"
   ]
  },
  {
   "cell_type": "markdown",
   "metadata": {},
   "source": [
    "### Run this cell to fetch hits that are new over the last 24 hours\n",
    "This will only have hits that appeared over the last 24 hours, and not those that were present in the 24 hours before that"
   ]
  },
  {
   "cell_type": "code",
   "execution_count": null,
   "metadata": {},
   "outputs": [],
   "source": [
    "new_hits = get_today_trends(tag = False)"
   ]
  },
  {
   "cell_type": "markdown",
   "metadata": {},
   "source": [
    "### Run this cell to search hits for a keyword or phrase, and get top hits accordingly\n",
    "You may enter the search and how many top hits you would like to see\n",
    "\n",
    "This will summarize each hit by popularity and number of shares"
   ]
  },
  {
   "cell_type": "code",
   "execution_count": null,
   "metadata": {},
   "outputs": [],
   "source": [
    "top_x = get_top_x_trends(search_trends(fetched_hits,auto = True))"
   ]
  },
  {
   "cell_type": "markdown",
   "metadata": {},
   "source": [
    "### Run this cell to search within a specific Graphika tag\n",
    "You may enter the search and how many top hits you would like to see"
   ]
  },
  {
   "cell_type": "code",
   "execution_count": null,
   "metadata": {},
   "outputs": [],
   "source": [
    "fetched_hits.tag.unique.values.tolist()\n",
    "lookup_tag = input('>> Please enter one of the above tags that you would like to search: ')\n",
    "tag_search = search_trends(fetched_hits[fetched_hits.tag == lookup_tag])"
   ]
  },
  {
   "cell_type": "markdown",
   "metadata": {},
   "source": [
    "Here, you may see the top tweets within the same tag"
   ]
  },
  {
   "cell_type": "code",
   "execution_count": null,
   "metadata": {},
   "outputs": [],
   "source": [
    "get_tagwise_tweets(fetched_hits[fetched_hits.tag == lookup_tag])"
   ]
  },
  {
   "cell_type": "markdown",
   "metadata": {},
   "source": [
    "Here, you may see the top hits within the same tag"
   ]
  },
  {
   "cell_type": "code",
   "execution_count": null,
   "metadata": {},
   "outputs": [],
   "source": [
    "get_top_x_trends(fetched_hits[fetched_hits.tag == lookup_tag])"
   ]
  },
  {
   "cell_type": "markdown",
   "metadata": {},
   "source": [
    "### Run this cell to search by either message_id or node_id\n",
    "You may enter the type of search and ID to lookup"
   ]
  },
  {
   "cell_type": "code",
   "execution_count": null,
   "metadata": {},
   "outputs": [],
   "source": [
    "lookup_type = input('>> Please enter either message_id for tweets, or node_id for users: ')\n",
    "lookup_id = input('>> Please enter an ID to search: ')\n",
    "fetched_hits[fetched_hits[lookup_type] == lookup_id]"
   ]
  },
  {
   "cell_type": "markdown",
   "metadata": {},
   "source": [
    "### Run this cell to view a full tweet\n",
    "You may enter the type of search and an ID to lookup\n",
    "\n",
    "The result will contain the screen name of a user, and all other information"
   ]
  },
  {
   "cell_type": "code",
   "execution_count": null,
   "metadata": {},
   "outputs": [],
   "source": [
    "tweet_result = api.get_status(input('>> Please enter tweet ID to search: '))._json\n",
    "tweet_result"
   ]
  },
  {
   "cell_type": "markdown",
   "metadata": {},
   "source": [
    "### Run this cell to fully analyze fetched hits\n",
    "You may enter whether or not to drop Commercial hits and duplicates\n",
    "You may search for a particular phrase\n",
    "You may choose to narrow data down within a particular tag\n",
    "\n",
    "The result will contain top URLs, top influencers, top tweet texts, and other information"
   ]
  },
  {
   "cell_type": "code",
   "execution_count": null,
   "metadata": {},
   "outputs": [],
   "source": [
    "analysis_result = analyze_hit(kim_tags)"
   ]
  }
 ],
 "metadata": {
  "kernelspec": {
   "display_name": "Python 3",
   "language": "python",
   "name": "python3"
  },
  "language_info": {
   "codemirror_mode": {
    "name": "ipython",
    "version": 3
   },
   "file_extension": ".py",
   "mimetype": "text/x-python",
   "name": "python",
   "nbconvert_exporter": "python",
   "pygments_lexer": "ipython3",
   "version": "3.6.4"
  }
 },
 "nbformat": 4,
 "nbformat_minor": 2
}
