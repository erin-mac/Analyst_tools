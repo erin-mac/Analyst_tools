{
 "cells": [
  {
   "cell_type": "markdown",
   "metadata": {},
   "source": [
    "# Welcome to the Analyst Tool notebook!\n",
    "## You can use this notebook to:\n",
    "1) Collect hits (hashtags, URLs) from Graphika's live maps over a given number of days <br>\n",
    "2) Tag them according to what clusters they fall into (Conspiracy, Iran Hardliners, India, Commercial, etc.) <br>\n",
    "3) Search the data by keyword, tag, map, or map topic <br>\n",
    "4) See all top hits, or all top hits for a given search <br>\n",
    "5) Search data by tag <br>\n",
    "6) Generate a report on all collected hits (or for a specific tag) <br>\n",
    "7) Pull specific tweets and users from the data <br>"
   ]
  },
  {
   "cell_type": "markdown",
   "metadata": {},
   "source": [
    "### Run this cell to connect to API and compile functions"
   ]
  },
  {
   "cell_type": "code",
   "execution_count": 101,
   "metadata": {},
   "outputs": [],
   "source": [
    "%run live_monitoring.ipynb\n",
    "%run connect_to_api.ipynb"
   ]
  },
  {
   "cell_type": "markdown",
   "metadata": {},
   "source": [
    "### Run this cell to fetch hits\n",
    "You may change the 'days' and 'hit_type' variable as per your preferences\n",
    "\n",
    "The result will be a full dataframe of the result"
   ]
  },
  {
   "cell_type": "code",
   "execution_count": 102,
   "metadata": {},
   "outputs": [],
   "source": [
    "fetched_hits = graphika_trending(days=7,hit_type='hashtags',auto=True,tag=False)"
   ]
  },
  {
   "cell_type": "markdown",
   "metadata": {},
   "source": [
    "This cell will add Graphika's tags to the data"
   ]
  },
  {
   "cell_type": "code",
   "execution_count": 103,
   "metadata": {},
   "outputs": [],
   "source": [
    "fetched_hits = merge_tags(fetched_hits)"
   ]
  },
  {
   "cell_type": "code",
   "execution_count": 112,
   "metadata": {},
   "outputs": [
    {
     "data": {
      "text/html": [
       "<div>\n",
       "<style scoped>\n",
       "    .dataframe tbody tr th:only-of-type {\n",
       "        vertical-align: middle;\n",
       "    }\n",
       "\n",
       "    .dataframe tbody tr th {\n",
       "        vertical-align: top;\n",
       "    }\n",
       "\n",
       "    .dataframe thead th {\n",
       "        text-align: right;\n",
       "    }\n",
       "</style>\n",
       "<table border=\"1\" class=\"dataframe\">\n",
       "  <thead>\n",
       "    <tr style=\"text-align: right;\">\n",
       "      <th></th>\n",
       "      <th>node_id</th>\n",
       "      <th>message_id</th>\n",
       "      <th>hit_time</th>\n",
       "      <th>map_id</th>\n",
       "      <th>cluster_id</th>\n",
       "      <th>hit_type</th>\n",
       "      <th>map_name</th>\n",
       "      <th>map_id_count</th>\n",
       "      <th>unique_id</th>\n",
       "      <th>tag</th>\n",
       "    </tr>\n",
       "    <tr>\n",
       "      <th>hit_value</th>\n",
       "      <th></th>\n",
       "      <th></th>\n",
       "      <th></th>\n",
       "      <th></th>\n",
       "      <th></th>\n",
       "      <th></th>\n",
       "      <th></th>\n",
       "      <th></th>\n",
       "      <th></th>\n",
       "      <th></th>\n",
       "    </tr>\n",
       "  </thead>\n",
       "  <tbody>\n",
       "    <tr>\n",
       "      <th>Imbleachment</th>\n",
       "      <td>1000498288339177472</td>\n",
       "      <td>1255639538355101696</td>\n",
       "      <td>2020-04-29 23:26:09</td>\n",
       "      <td>1644</td>\n",
       "      <td>57</td>\n",
       "      <td>hashtags</td>\n",
       "      <td>NFL_Live_Landscape_v2</td>\n",
       "      <td>1</td>\n",
       "      <td>1644.57</td>\n",
       "      <td>US Right</td>\n",
       "    </tr>\n",
       "    <tr>\n",
       "      <th>TrumpsTheKingOf</th>\n",
       "      <td>1000498288339177472</td>\n",
       "      <td>1255649175691317248</td>\n",
       "      <td>2020-04-30 00:04:26</td>\n",
       "      <td>1644</td>\n",
       "      <td>57</td>\n",
       "      <td>hashtags</td>\n",
       "      <td>NFL_Live_Landscape_v2</td>\n",
       "      <td>1</td>\n",
       "      <td>1644.57</td>\n",
       "      <td>US Right</td>\n",
       "    </tr>\n",
       "    <tr>\n",
       "      <th>MLK</th>\n",
       "      <td>1000498288339177472</td>\n",
       "      <td>1256004970538774529</td>\n",
       "      <td>2020-04-30 23:38:15</td>\n",
       "      <td>1644</td>\n",
       "      <td>57</td>\n",
       "      <td>hashtags</td>\n",
       "      <td>NFL_Live_Landscape_v2</td>\n",
       "      <td>1</td>\n",
       "      <td>1644.57</td>\n",
       "      <td>US Right</td>\n",
       "    </tr>\n",
       "    <tr>\n",
       "      <th>MaskGate</th>\n",
       "      <td>1000498288339177472</td>\n",
       "      <td>1256449307529621504</td>\n",
       "      <td>2020-05-02 05:03:53</td>\n",
       "      <td>1644</td>\n",
       "      <td>57</td>\n",
       "      <td>hashtags</td>\n",
       "      <td>NFL_Live_Landscape_v2</td>\n",
       "      <td>1</td>\n",
       "      <td>1644.57</td>\n",
       "      <td>US Right</td>\n",
       "    </tr>\n",
       "    <tr>\n",
       "      <th>MAGA</th>\n",
       "      <td>1000498288339177472</td>\n",
       "      <td>1256449307529621504</td>\n",
       "      <td>2020-05-02 05:03:53</td>\n",
       "      <td>1644</td>\n",
       "      <td>57</td>\n",
       "      <td>hashtags</td>\n",
       "      <td>NFL_Live_Landscape_v2</td>\n",
       "      <td>1</td>\n",
       "      <td>1644.57</td>\n",
       "      <td>US Right</td>\n",
       "    </tr>\n",
       "    <tr>\n",
       "      <th>StarWars</th>\n",
       "      <td>1000498288339177472</td>\n",
       "      <td>1256456250298175489</td>\n",
       "      <td>2020-05-02 05:31:28</td>\n",
       "      <td>1644</td>\n",
       "      <td>57</td>\n",
       "      <td>hashtags</td>\n",
       "      <td>NFL_Live_Landscape_v2</td>\n",
       "      <td>1</td>\n",
       "      <td>1644.57</td>\n",
       "      <td>US Right</td>\n",
       "    </tr>\n",
       "    <tr>\n",
       "      <th>StayHome</th>\n",
       "      <td>1000498288339177472</td>\n",
       "      <td>1256456250298175489</td>\n",
       "      <td>2020-05-02 05:31:28</td>\n",
       "      <td>1644</td>\n",
       "      <td>57</td>\n",
       "      <td>hashtags</td>\n",
       "      <td>NFL_Live_Landscape_v2</td>\n",
       "      <td>1</td>\n",
       "      <td>1644.57</td>\n",
       "      <td>US Right</td>\n",
       "    </tr>\n",
       "    <tr>\n",
       "      <th>StayAtHome</th>\n",
       "      <td>1000498288339177472</td>\n",
       "      <td>1256456250298175489</td>\n",
       "      <td>2020-05-02 05:31:28</td>\n",
       "      <td>1644</td>\n",
       "      <td>57</td>\n",
       "      <td>hashtags</td>\n",
       "      <td>NFL_Live_Landscape_v2</td>\n",
       "      <td>1</td>\n",
       "      <td>1644.57</td>\n",
       "      <td>US Right</td>\n",
       "    </tr>\n",
       "    <tr>\n",
       "      <th>cuomosexual</th>\n",
       "      <td>1000498288339177472</td>\n",
       "      <td>1256462847023988737</td>\n",
       "      <td>2020-05-02 05:57:41</td>\n",
       "      <td>1644</td>\n",
       "      <td>57</td>\n",
       "      <td>hashtags</td>\n",
       "      <td>NFL_Live_Landscape_v2</td>\n",
       "      <td>1</td>\n",
       "      <td>1644.57</td>\n",
       "      <td>US Right</td>\n",
       "    </tr>\n",
       "    <tr>\n",
       "      <th>PuertoRico</th>\n",
       "      <td>1000498288339177472</td>\n",
       "      <td>1256673946495266816</td>\n",
       "      <td>2020-05-02 19:56:31</td>\n",
       "      <td>1644</td>\n",
       "      <td>57</td>\n",
       "      <td>hashtags</td>\n",
       "      <td>NFL_Live_Landscape_v2</td>\n",
       "      <td>1</td>\n",
       "      <td>1644.57</td>\n",
       "      <td>US Right</td>\n",
       "    </tr>\n",
       "    <tr>\n",
       "      <th>TrumpVirus</th>\n",
       "      <td>1000498288339177472</td>\n",
       "      <td>1256966840624058369</td>\n",
       "      <td>2020-05-03 15:20:22</td>\n",
       "      <td>1644</td>\n",
       "      <td>57</td>\n",
       "      <td>hashtags</td>\n",
       "      <td>NFL_Live_Landscape_v2</td>\n",
       "      <td>1</td>\n",
       "      <td>1644.57</td>\n",
       "      <td>US Right</td>\n",
       "    </tr>\n",
       "    <tr>\n",
       "      <th>covid19</th>\n",
       "      <td>1000498288339177472</td>\n",
       "      <td>1257061279740710916</td>\n",
       "      <td>2020-05-03 21:35:38</td>\n",
       "      <td>1644</td>\n",
       "      <td>57</td>\n",
       "      <td>hashtags</td>\n",
       "      <td>NFL_Live_Landscape_v2</td>\n",
       "      <td>1</td>\n",
       "      <td>1644.57</td>\n",
       "      <td>US Right</td>\n",
       "    </tr>\n",
       "    <tr>\n",
       "      <th>Ohio</th>\n",
       "      <td>1000498288339177472</td>\n",
       "      <td>1257063969124122624</td>\n",
       "      <td>2020-05-03 21:46:20</td>\n",
       "      <td>1644</td>\n",
       "      <td>57</td>\n",
       "      <td>hashtags</td>\n",
       "      <td>NFL_Live_Landscape_v2</td>\n",
       "      <td>1</td>\n",
       "      <td>1644.57</td>\n",
       "      <td>US Right</td>\n",
       "    </tr>\n",
       "    <tr>\n",
       "      <th>Columbus</th>\n",
       "      <td>1000498288339177472</td>\n",
       "      <td>1257063969124122624</td>\n",
       "      <td>2020-05-03 21:46:20</td>\n",
       "      <td>1644</td>\n",
       "      <td>57</td>\n",
       "      <td>hashtags</td>\n",
       "      <td>NFL_Live_Landscape_v2</td>\n",
       "      <td>1</td>\n",
       "      <td>1644.57</td>\n",
       "      <td>US Right</td>\n",
       "    </tr>\n",
       "    <tr>\n",
       "      <th>missing</th>\n",
       "      <td>1000498288339177472</td>\n",
       "      <td>1257063969124122624</td>\n",
       "      <td>2020-05-03 21:46:20</td>\n",
       "      <td>1644</td>\n",
       "      <td>57</td>\n",
       "      <td>hashtags</td>\n",
       "      <td>NFL_Live_Landscape_v2</td>\n",
       "      <td>1</td>\n",
       "      <td>1644.57</td>\n",
       "      <td>US Right</td>\n",
       "    </tr>\n",
       "    <tr>\n",
       "      <th>mileg</th>\n",
       "      <td>1016671128</td>\n",
       "      <td>1256167592244523008</td>\n",
       "      <td>2020-05-01 10:24:27</td>\n",
       "      <td>1644</td>\n",
       "      <td>57</td>\n",
       "      <td>hashtags</td>\n",
       "      <td>NFL_Live_Landscape_v2</td>\n",
       "      <td>1</td>\n",
       "      <td>1644.57</td>\n",
       "      <td>US Right</td>\n",
       "    </tr>\n",
       "    <tr>\n",
       "      <th>CashForClunkers</th>\n",
       "      <td>1020562647123660800</td>\n",
       "      <td>1254758261779238912</td>\n",
       "      <td>2020-04-27 13:04:16</td>\n",
       "      <td>1644</td>\n",
       "      <td>57</td>\n",
       "      <td>hashtags</td>\n",
       "      <td>NFL_Live_Landscape_v2</td>\n",
       "      <td>1</td>\n",
       "      <td>1644.57</td>\n",
       "      <td>US Right</td>\n",
       "    </tr>\n",
       "    <tr>\n",
       "      <th>TrumpVirus</th>\n",
       "      <td>1020562647123660800</td>\n",
       "      <td>1254940568649715713</td>\n",
       "      <td>2020-04-28 01:08:41</td>\n",
       "      <td>1644</td>\n",
       "      <td>57</td>\n",
       "      <td>hashtags</td>\n",
       "      <td>NFL_Live_Landscape_v2</td>\n",
       "      <td>1</td>\n",
       "      <td>1644.57</td>\n",
       "      <td>US Right</td>\n",
       "    </tr>\n",
       "    <tr>\n",
       "      <th>TrumpIsAnIdiot</th>\n",
       "      <td>1020562647123660800</td>\n",
       "      <td>1254940568649715713</td>\n",
       "      <td>2020-04-28 01:08:41</td>\n",
       "      <td>1644</td>\n",
       "      <td>57</td>\n",
       "      <td>hashtags</td>\n",
       "      <td>NFL_Live_Landscape_v2</td>\n",
       "      <td>1</td>\n",
       "      <td>1644.57</td>\n",
       "      <td>US Right</td>\n",
       "    </tr>\n",
       "    <tr>\n",
       "      <th>TrumpBurialPits</th>\n",
       "      <td>1020562647123660800</td>\n",
       "      <td>1254940568649715713</td>\n",
       "      <td>2020-04-28 01:08:41</td>\n",
       "      <td>1644</td>\n",
       "      <td>57</td>\n",
       "      <td>hashtags</td>\n",
       "      <td>NFL_Live_Landscape_v2</td>\n",
       "      <td>1</td>\n",
       "      <td>1644.57</td>\n",
       "      <td>US Right</td>\n",
       "    </tr>\n",
       "    <tr>\n",
       "      <th>TrumpDisinfectant</th>\n",
       "      <td>1020562647123660800</td>\n",
       "      <td>1254940568649715713</td>\n",
       "      <td>2020-04-28 01:08:41</td>\n",
       "      <td>1644</td>\n",
       "      <td>57</td>\n",
       "      <td>hashtags</td>\n",
       "      <td>NFL_Live_Landscape_v2</td>\n",
       "      <td>1</td>\n",
       "      <td>1644.57</td>\n",
       "      <td>US Right</td>\n",
       "    </tr>\n",
       "    <tr>\n",
       "      <th>ReOpen</th>\n",
       "      <td>1020562647123660800</td>\n",
       "      <td>1254940863878369281</td>\n",
       "      <td>2020-04-28 01:09:52</td>\n",
       "      <td>1644</td>\n",
       "      <td>57</td>\n",
       "      <td>hashtags</td>\n",
       "      <td>NFL_Live_Landscape_v2</td>\n",
       "      <td>1</td>\n",
       "      <td>1644.57</td>\n",
       "      <td>US Right</td>\n",
       "    </tr>\n",
       "    <tr>\n",
       "      <th>AudreyWhitlock</th>\n",
       "      <td>1020562647123660800</td>\n",
       "      <td>1254940863878369281</td>\n",
       "      <td>2020-04-28 01:09:52</td>\n",
       "      <td>1644</td>\n",
       "      <td>57</td>\n",
       "      <td>hashtags</td>\n",
       "      <td>NFL_Live_Landscape_v2</td>\n",
       "      <td>1</td>\n",
       "      <td>1644.57</td>\n",
       "      <td>US Right</td>\n",
       "    </tr>\n",
       "    <tr>\n",
       "      <th>NorthCarolina</th>\n",
       "      <td>1020562647123660800</td>\n",
       "      <td>1254940863878369281</td>\n",
       "      <td>2020-04-28 01:09:52</td>\n",
       "      <td>1644</td>\n",
       "      <td>57</td>\n",
       "      <td>hashtags</td>\n",
       "      <td>NFL_Live_Landscape_v2</td>\n",
       "      <td>1</td>\n",
       "      <td>1644.57</td>\n",
       "      <td>US Right</td>\n",
       "    </tr>\n",
       "    <tr>\n",
       "      <th>facts</th>\n",
       "      <td>1020562647123660800</td>\n",
       "      <td>1254952049214656520</td>\n",
       "      <td>2020-04-28 01:54:19</td>\n",
       "      <td>1644</td>\n",
       "      <td>57</td>\n",
       "      <td>hashtags</td>\n",
       "      <td>NFL_Live_Landscape_v2</td>\n",
       "      <td>1</td>\n",
       "      <td>1644.57</td>\n",
       "      <td>US Right</td>\n",
       "    </tr>\n",
       "    <tr>\n",
       "      <th>TrumpBurialPits</th>\n",
       "      <td>1020562647123660800</td>\n",
       "      <td>1254952049214656520</td>\n",
       "      <td>2020-04-28 01:54:19</td>\n",
       "      <td>1644</td>\n",
       "      <td>57</td>\n",
       "      <td>hashtags</td>\n",
       "      <td>NFL_Live_Landscape_v2</td>\n",
       "      <td>1</td>\n",
       "      <td>1644.57</td>\n",
       "      <td>US Right</td>\n",
       "    </tr>\n",
       "    <tr>\n",
       "      <th>TrumpDisinfectant</th>\n",
       "      <td>1020562647123660800</td>\n",
       "      <td>1254952049214656520</td>\n",
       "      <td>2020-04-28 01:54:19</td>\n",
       "      <td>1644</td>\n",
       "      <td>57</td>\n",
       "      <td>hashtags</td>\n",
       "      <td>NFL_Live_Landscape_v2</td>\n",
       "      <td>1</td>\n",
       "      <td>1644.57</td>\n",
       "      <td>US Right</td>\n",
       "    </tr>\n",
       "    <tr>\n",
       "      <th>youowneverydeath</th>\n",
       "      <td>1020562647123660800</td>\n",
       "      <td>1255532426593554432</td>\n",
       "      <td>2020-04-29 16:20:31</td>\n",
       "      <td>1644</td>\n",
       "      <td>57</td>\n",
       "      <td>hashtags</td>\n",
       "      <td>NFL_Live_Landscape_v2</td>\n",
       "      <td>1</td>\n",
       "      <td>1644.57</td>\n",
       "      <td>US Right</td>\n",
       "    </tr>\n",
       "    <tr>\n",
       "      <th>AskAGBarr</th>\n",
       "      <td>1020562647123660800</td>\n",
       "      <td>1255620226428932096</td>\n",
       "      <td>2020-04-29 22:09:24</td>\n",
       "      <td>1644</td>\n",
       "      <td>57</td>\n",
       "      <td>hashtags</td>\n",
       "      <td>NFL_Live_Landscape_v2</td>\n",
       "      <td>1</td>\n",
       "      <td>1644.57</td>\n",
       "      <td>US Right</td>\n",
       "    </tr>\n",
       "    <tr>\n",
       "      <th>AskAGBarr</th>\n",
       "      <td>1020562647123660800</td>\n",
       "      <td>1255620400161140738</td>\n",
       "      <td>2020-04-29 22:10:06</td>\n",
       "      <td>1644</td>\n",
       "      <td>57</td>\n",
       "      <td>hashtags</td>\n",
       "      <td>NFL_Live_Landscape_v2</td>\n",
       "      <td>1</td>\n",
       "      <td>1644.57</td>\n",
       "      <td>US Right</td>\n",
       "    </tr>\n",
       "    <tr>\n",
       "      <th>...</th>\n",
       "      <td>...</td>\n",
       "      <td>...</td>\n",
       "      <td>...</td>\n",
       "      <td>...</td>\n",
       "      <td>...</td>\n",
       "      <td>...</td>\n",
       "      <td>...</td>\n",
       "      <td>...</td>\n",
       "      <td>...</td>\n",
       "      <td>...</td>\n",
       "    </tr>\n",
       "    <tr>\n",
       "      <th>PaycheckProtectionProgram</th>\n",
       "      <td>822215673812119553</td>\n",
       "      <td>1255838326726238220</td>\n",
       "      <td>2020-04-30 12:36:04</td>\n",
       "      <td>1910</td>\n",
       "      <td>0</td>\n",
       "      <td>hashtags</td>\n",
       "      <td>Social Media Summit</td>\n",
       "      <td>6</td>\n",
       "      <td>1910.0</td>\n",
       "      <td>Unclustered</td>\n",
       "    </tr>\n",
       "    <tr>\n",
       "      <th>PaycheckProtectionProgram</th>\n",
       "      <td>822215673812119553</td>\n",
       "      <td>1255843093036883971</td>\n",
       "      <td>2020-04-30 12:55:00</td>\n",
       "      <td>1910</td>\n",
       "      <td>0</td>\n",
       "      <td>hashtags</td>\n",
       "      <td>Social Media Summit</td>\n",
       "      <td>6</td>\n",
       "      <td>1910.0</td>\n",
       "      <td>Unclustered</td>\n",
       "    </tr>\n",
       "    <tr>\n",
       "      <th>COVID19</th>\n",
       "      <td>822215673812119553</td>\n",
       "      <td>1255918010033938433</td>\n",
       "      <td>2020-04-30 17:52:42</td>\n",
       "      <td>1910</td>\n",
       "      <td>0</td>\n",
       "      <td>hashtags</td>\n",
       "      <td>Social Media Summit</td>\n",
       "      <td>6</td>\n",
       "      <td>1910.0</td>\n",
       "      <td>Unclustered</td>\n",
       "    </tr>\n",
       "    <tr>\n",
       "      <th>Artemis</th>\n",
       "      <td>822215673812119553</td>\n",
       "      <td>1256010444600479744</td>\n",
       "      <td>2020-05-01 00:00:00</td>\n",
       "      <td>1910</td>\n",
       "      <td>0</td>\n",
       "      <td>hashtags</td>\n",
       "      <td>Social Media Summit</td>\n",
       "      <td>6</td>\n",
       "      <td>1910.0</td>\n",
       "      <td>Unclustered</td>\n",
       "    </tr>\n",
       "    <tr>\n",
       "      <th>InThisTogether</th>\n",
       "      <td>822215673812119553</td>\n",
       "      <td>1256385431282778112</td>\n",
       "      <td>2020-05-02 00:50:03</td>\n",
       "      <td>1910</td>\n",
       "      <td>0</td>\n",
       "      <td>hashtags</td>\n",
       "      <td>Social Media Summit</td>\n",
       "      <td>6</td>\n",
       "      <td>1910.0</td>\n",
       "      <td>Unclustered</td>\n",
       "    </tr>\n",
       "    <tr>\n",
       "      <th>COVID</th>\n",
       "      <td>822215673812119553</td>\n",
       "      <td>1256385431282778112</td>\n",
       "      <td>2020-05-02 00:50:03</td>\n",
       "      <td>1910</td>\n",
       "      <td>0</td>\n",
       "      <td>hashtags</td>\n",
       "      <td>Social Media Summit</td>\n",
       "      <td>6</td>\n",
       "      <td>1910.0</td>\n",
       "      <td>Unclustered</td>\n",
       "    </tr>\n",
       "    <tr>\n",
       "      <th>AmericaStrong</th>\n",
       "      <td>822215673812119553</td>\n",
       "      <td>1256385431282778112</td>\n",
       "      <td>2020-05-02 00:50:03</td>\n",
       "      <td>1910</td>\n",
       "      <td>0</td>\n",
       "      <td>hashtags</td>\n",
       "      <td>Social Media Summit</td>\n",
       "      <td>6</td>\n",
       "      <td>1910.0</td>\n",
       "      <td>Unclustered</td>\n",
       "    </tr>\n",
       "    <tr>\n",
       "      <th>AmericaStrong</th>\n",
       "      <td>822215673812119553</td>\n",
       "      <td>1256660573070266371</td>\n",
       "      <td>2020-05-02 19:03:22</td>\n",
       "      <td>1910</td>\n",
       "      <td>0</td>\n",
       "      <td>hashtags</td>\n",
       "      <td>Social Media Summit</td>\n",
       "      <td>6</td>\n",
       "      <td>1910.0</td>\n",
       "      <td>Unclustered</td>\n",
       "    </tr>\n",
       "    <tr>\n",
       "      <th>COVID19</th>\n",
       "      <td>822215673812119553</td>\n",
       "      <td>1256668782380093440</td>\n",
       "      <td>2020-05-02 19:36:00</td>\n",
       "      <td>1910</td>\n",
       "      <td>0</td>\n",
       "      <td>hashtags</td>\n",
       "      <td>Social Media Summit</td>\n",
       "      <td>6</td>\n",
       "      <td>1910.0</td>\n",
       "      <td>Unclustered</td>\n",
       "    </tr>\n",
       "    <tr>\n",
       "      <th>PaycheckProtectionProgram</th>\n",
       "      <td>822215673812119553</td>\n",
       "      <td>1256767940084580354</td>\n",
       "      <td>2020-05-03 02:10:01</td>\n",
       "      <td>1910</td>\n",
       "      <td>0</td>\n",
       "      <td>hashtags</td>\n",
       "      <td>Social Media Summit</td>\n",
       "      <td>6</td>\n",
       "      <td>1910.0</td>\n",
       "      <td>Unclustered</td>\n",
       "    </tr>\n",
       "    <tr>\n",
       "      <th>COVID19</th>\n",
       "      <td>822215673812119553</td>\n",
       "      <td>1256962950042181632</td>\n",
       "      <td>2020-05-03 15:04:55</td>\n",
       "      <td>1910</td>\n",
       "      <td>0</td>\n",
       "      <td>hashtags</td>\n",
       "      <td>Social Media Summit</td>\n",
       "      <td>6</td>\n",
       "      <td>1910.0</td>\n",
       "      <td>Unclustered</td>\n",
       "    </tr>\n",
       "    <tr>\n",
       "      <th>PaycheckProtectionProgram</th>\n",
       "      <td>822215673812119553</td>\n",
       "      <td>1257017077422010373</td>\n",
       "      <td>2020-05-03 18:40:00</td>\n",
       "      <td>1910</td>\n",
       "      <td>0</td>\n",
       "      <td>hashtags</td>\n",
       "      <td>Social Media Summit</td>\n",
       "      <td>6</td>\n",
       "      <td>1910.0</td>\n",
       "      <td>Unclustered</td>\n",
       "    </tr>\n",
       "    <tr>\n",
       "      <th>coronavirus</th>\n",
       "      <td>18510860</td>\n",
       "      <td>1255115511609864193</td>\n",
       "      <td>2020-04-28 12:43:51</td>\n",
       "      <td>1910</td>\n",
       "      <td>0</td>\n",
       "      <td>hashtags</td>\n",
       "      <td>Social Media Summit</td>\n",
       "      <td>4</td>\n",
       "      <td>1910.0</td>\n",
       "      <td>Unclustered</td>\n",
       "    </tr>\n",
       "    <tr>\n",
       "      <th>coronavirus</th>\n",
       "      <td>18510860</td>\n",
       "      <td>1255539557375676419</td>\n",
       "      <td>2020-04-29 16:48:51</td>\n",
       "      <td>1910</td>\n",
       "      <td>0</td>\n",
       "      <td>hashtags</td>\n",
       "      <td>Social Media Summit</td>\n",
       "      <td>4</td>\n",
       "      <td>1910.0</td>\n",
       "      <td>Unclustered</td>\n",
       "    </tr>\n",
       "    <tr>\n",
       "      <th>justice</th>\n",
       "      <td>926928718576214018</td>\n",
       "      <td>1254777326480457733</td>\n",
       "      <td>2020-04-27 14:20:01</td>\n",
       "      <td>1910</td>\n",
       "      <td>0</td>\n",
       "      <td>hashtags</td>\n",
       "      <td>Social Media Summit</td>\n",
       "      <td>1</td>\n",
       "      <td>1910.0</td>\n",
       "      <td>Unclustered</td>\n",
       "    </tr>\n",
       "    <tr>\n",
       "      <th>peace</th>\n",
       "      <td>926928718576214018</td>\n",
       "      <td>1254777326480457733</td>\n",
       "      <td>2020-04-27 14:20:01</td>\n",
       "      <td>1910</td>\n",
       "      <td>0</td>\n",
       "      <td>hashtags</td>\n",
       "      <td>Social Media Summit</td>\n",
       "      <td>1</td>\n",
       "      <td>1910.0</td>\n",
       "      <td>Unclustered</td>\n",
       "    </tr>\n",
       "    <tr>\n",
       "      <th>abortion</th>\n",
       "      <td>926928718576214018</td>\n",
       "      <td>1255056692334690310</td>\n",
       "      <td>2020-04-28 08:50:07</td>\n",
       "      <td>1910</td>\n",
       "      <td>0</td>\n",
       "      <td>hashtags</td>\n",
       "      <td>Social Media Summit</td>\n",
       "      <td>1</td>\n",
       "      <td>1910.0</td>\n",
       "      <td>Unclustered</td>\n",
       "    </tr>\n",
       "    <tr>\n",
       "      <th>gript</th>\n",
       "      <td>926928718576214018</td>\n",
       "      <td>1255106911894208512</td>\n",
       "      <td>2020-04-28 12:09:41</td>\n",
       "      <td>1910</td>\n",
       "      <td>0</td>\n",
       "      <td>hashtags</td>\n",
       "      <td>Social Media Summit</td>\n",
       "      <td>1</td>\n",
       "      <td>1910.0</td>\n",
       "      <td>Unclustered</td>\n",
       "    </tr>\n",
       "    <tr>\n",
       "      <th>VIDEO</th>\n",
       "      <td>926928718576214018</td>\n",
       "      <td>1255220824656744451</td>\n",
       "      <td>2020-04-28 19:42:20</td>\n",
       "      <td>1910</td>\n",
       "      <td>0</td>\n",
       "      <td>hashtags</td>\n",
       "      <td>Social Media Summit</td>\n",
       "      <td>1</td>\n",
       "      <td>1910.0</td>\n",
       "      <td>Unclustered</td>\n",
       "    </tr>\n",
       "    <tr>\n",
       "      <th>covid19</th>\n",
       "      <td>926928718576214018</td>\n",
       "      <td>1255421403349815296</td>\n",
       "      <td>2020-04-29 08:59:21</td>\n",
       "      <td>1910</td>\n",
       "      <td>0</td>\n",
       "      <td>hashtags</td>\n",
       "      <td>Social Media Summit</td>\n",
       "      <td>1</td>\n",
       "      <td>1910.0</td>\n",
       "      <td>Unclustered</td>\n",
       "    </tr>\n",
       "    <tr>\n",
       "      <th>wednesdaymorning</th>\n",
       "      <td>926928718576214018</td>\n",
       "      <td>1255525334847537162</td>\n",
       "      <td>2020-04-29 15:52:21</td>\n",
       "      <td>1910</td>\n",
       "      <td>0</td>\n",
       "      <td>hashtags</td>\n",
       "      <td>Social Media Summit</td>\n",
       "      <td>1</td>\n",
       "      <td>1910.0</td>\n",
       "      <td>Unclustered</td>\n",
       "    </tr>\n",
       "    <tr>\n",
       "      <th>WednesdayWisdom</th>\n",
       "      <td>926928718576214018</td>\n",
       "      <td>1255525334847537162</td>\n",
       "      <td>2020-04-29 15:52:21</td>\n",
       "      <td>1910</td>\n",
       "      <td>0</td>\n",
       "      <td>hashtags</td>\n",
       "      <td>Social Media Summit</td>\n",
       "      <td>1</td>\n",
       "      <td>1910.0</td>\n",
       "      <td>Unclustered</td>\n",
       "    </tr>\n",
       "    <tr>\n",
       "      <th>prochoice</th>\n",
       "      <td>926928718576214018</td>\n",
       "      <td>1255525334847537162</td>\n",
       "      <td>2020-04-29 15:52:21</td>\n",
       "      <td>1910</td>\n",
       "      <td>0</td>\n",
       "      <td>hashtags</td>\n",
       "      <td>Social Media Summit</td>\n",
       "      <td>1</td>\n",
       "      <td>1910.0</td>\n",
       "      <td>Unclustered</td>\n",
       "    </tr>\n",
       "    <tr>\n",
       "      <th>prolife</th>\n",
       "      <td>926928718576214018</td>\n",
       "      <td>1255525334847537162</td>\n",
       "      <td>2020-04-29 15:52:21</td>\n",
       "      <td>1910</td>\n",
       "      <td>0</td>\n",
       "      <td>hashtags</td>\n",
       "      <td>Social Media Summit</td>\n",
       "      <td>1</td>\n",
       "      <td>1910.0</td>\n",
       "      <td>Unclustered</td>\n",
       "    </tr>\n",
       "    <tr>\n",
       "      <th>abortion</th>\n",
       "      <td>926928718576214018</td>\n",
       "      <td>1255525334847537162</td>\n",
       "      <td>2020-04-29 15:52:21</td>\n",
       "      <td>1910</td>\n",
       "      <td>0</td>\n",
       "      <td>hashtags</td>\n",
       "      <td>Social Media Summit</td>\n",
       "      <td>1</td>\n",
       "      <td>1910.0</td>\n",
       "      <td>Unclustered</td>\n",
       "    </tr>\n",
       "    <tr>\n",
       "      <th>coronavirus</th>\n",
       "      <td>926928718576214018</td>\n",
       "      <td>1256526695231819777</td>\n",
       "      <td>2020-05-02 10:11:23</td>\n",
       "      <td>1910</td>\n",
       "      <td>0</td>\n",
       "      <td>hashtags</td>\n",
       "      <td>Social Media Summit</td>\n",
       "      <td>1</td>\n",
       "      <td>1910.0</td>\n",
       "      <td>Unclustered</td>\n",
       "    </tr>\n",
       "    <tr>\n",
       "      <th>unborn</th>\n",
       "      <td>926928718576214018</td>\n",
       "      <td>1257236030429814787</td>\n",
       "      <td>2020-05-04 09:10:02</td>\n",
       "      <td>1910</td>\n",
       "      <td>0</td>\n",
       "      <td>hashtags</td>\n",
       "      <td>Social Media Summit</td>\n",
       "      <td>1</td>\n",
       "      <td>1910.0</td>\n",
       "      <td>Unclustered</td>\n",
       "    </tr>\n",
       "    <tr>\n",
       "      <th>SCOTUS</th>\n",
       "      <td>926928718576214018</td>\n",
       "      <td>1257236030429814787</td>\n",
       "      <td>2020-05-04 09:10:02</td>\n",
       "      <td>1910</td>\n",
       "      <td>0</td>\n",
       "      <td>hashtags</td>\n",
       "      <td>Social Media Summit</td>\n",
       "      <td>1</td>\n",
       "      <td>1910.0</td>\n",
       "      <td>Unclustered</td>\n",
       "    </tr>\n",
       "    <tr>\n",
       "      <th>COVIDー19</th>\n",
       "      <td>926928718576214018</td>\n",
       "      <td>1257239600973701120</td>\n",
       "      <td>2020-05-04 09:24:13</td>\n",
       "      <td>1910</td>\n",
       "      <td>0</td>\n",
       "      <td>hashtags</td>\n",
       "      <td>Social Media Summit</td>\n",
       "      <td>1</td>\n",
       "      <td>1910.0</td>\n",
       "      <td>Unclustered</td>\n",
       "    </tr>\n",
       "    <tr>\n",
       "      <th>Lockdown</th>\n",
       "      <td>926928718576214018</td>\n",
       "      <td>1257239600973701120</td>\n",
       "      <td>2020-05-04 09:24:13</td>\n",
       "      <td>1910</td>\n",
       "      <td>0</td>\n",
       "      <td>hashtags</td>\n",
       "      <td>Social Media Summit</td>\n",
       "      <td>1</td>\n",
       "      <td>1910.0</td>\n",
       "      <td>Unclustered</td>\n",
       "    </tr>\n",
       "  </tbody>\n",
       "</table>\n",
       "<p>4924270 rows × 10 columns</p>\n",
       "</div>"
      ],
      "text/plain": [
       "                                       node_id           message_id  \\\n",
       "hit_value                                                             \n",
       "Imbleachment               1000498288339177472  1255639538355101696   \n",
       "TrumpsTheKingOf            1000498288339177472  1255649175691317248   \n",
       "MLK                        1000498288339177472  1256004970538774529   \n",
       "MaskGate                   1000498288339177472  1256449307529621504   \n",
       "MAGA                       1000498288339177472  1256449307529621504   \n",
       "StarWars                   1000498288339177472  1256456250298175489   \n",
       "StayHome                   1000498288339177472  1256456250298175489   \n",
       "StayAtHome                 1000498288339177472  1256456250298175489   \n",
       "cuomosexual                1000498288339177472  1256462847023988737   \n",
       "PuertoRico                 1000498288339177472  1256673946495266816   \n",
       "TrumpVirus                 1000498288339177472  1256966840624058369   \n",
       "covid19                    1000498288339177472  1257061279740710916   \n",
       "Ohio                       1000498288339177472  1257063969124122624   \n",
       "Columbus                   1000498288339177472  1257063969124122624   \n",
       "missing                    1000498288339177472  1257063969124122624   \n",
       "mileg                               1016671128  1256167592244523008   \n",
       "CashForClunkers            1020562647123660800  1254758261779238912   \n",
       "TrumpVirus                 1020562647123660800  1254940568649715713   \n",
       "TrumpIsAnIdiot             1020562647123660800  1254940568649715713   \n",
       "TrumpBurialPits            1020562647123660800  1254940568649715713   \n",
       "TrumpDisinfectant          1020562647123660800  1254940568649715713   \n",
       "ReOpen                     1020562647123660800  1254940863878369281   \n",
       "AudreyWhitlock             1020562647123660800  1254940863878369281   \n",
       "NorthCarolina              1020562647123660800  1254940863878369281   \n",
       "facts                      1020562647123660800  1254952049214656520   \n",
       "TrumpBurialPits            1020562647123660800  1254952049214656520   \n",
       "TrumpDisinfectant          1020562647123660800  1254952049214656520   \n",
       "youowneverydeath           1020562647123660800  1255532426593554432   \n",
       "AskAGBarr                  1020562647123660800  1255620226428932096   \n",
       "AskAGBarr                  1020562647123660800  1255620400161140738   \n",
       "...                                        ...                  ...   \n",
       "PaycheckProtectionProgram   822215673812119553  1255838326726238220   \n",
       "PaycheckProtectionProgram   822215673812119553  1255843093036883971   \n",
       "COVID19                     822215673812119553  1255918010033938433   \n",
       "Artemis                     822215673812119553  1256010444600479744   \n",
       "InThisTogether              822215673812119553  1256385431282778112   \n",
       "COVID                       822215673812119553  1256385431282778112   \n",
       "AmericaStrong               822215673812119553  1256385431282778112   \n",
       "AmericaStrong               822215673812119553  1256660573070266371   \n",
       "COVID19                     822215673812119553  1256668782380093440   \n",
       "PaycheckProtectionProgram   822215673812119553  1256767940084580354   \n",
       "COVID19                     822215673812119553  1256962950042181632   \n",
       "PaycheckProtectionProgram   822215673812119553  1257017077422010373   \n",
       "coronavirus                           18510860  1255115511609864193   \n",
       "coronavirus                           18510860  1255539557375676419   \n",
       "justice                     926928718576214018  1254777326480457733   \n",
       "peace                       926928718576214018  1254777326480457733   \n",
       "abortion                    926928718576214018  1255056692334690310   \n",
       "gript                       926928718576214018  1255106911894208512   \n",
       "VIDEO                       926928718576214018  1255220824656744451   \n",
       "covid19                     926928718576214018  1255421403349815296   \n",
       "wednesdaymorning            926928718576214018  1255525334847537162   \n",
       "WednesdayWisdom             926928718576214018  1255525334847537162   \n",
       "prochoice                   926928718576214018  1255525334847537162   \n",
       "prolife                     926928718576214018  1255525334847537162   \n",
       "abortion                    926928718576214018  1255525334847537162   \n",
       "coronavirus                 926928718576214018  1256526695231819777   \n",
       "unborn                      926928718576214018  1257236030429814787   \n",
       "SCOTUS                      926928718576214018  1257236030429814787   \n",
       "COVIDー19                    926928718576214018  1257239600973701120   \n",
       "Lockdown                    926928718576214018  1257239600973701120   \n",
       "\n",
       "                                     hit_time map_id cluster_id  hit_type  \\\n",
       "hit_value                                                                   \n",
       "Imbleachment              2020-04-29 23:26:09   1644         57  hashtags   \n",
       "TrumpsTheKingOf           2020-04-30 00:04:26   1644         57  hashtags   \n",
       "MLK                       2020-04-30 23:38:15   1644         57  hashtags   \n",
       "MaskGate                  2020-05-02 05:03:53   1644         57  hashtags   \n",
       "MAGA                      2020-05-02 05:03:53   1644         57  hashtags   \n",
       "StarWars                  2020-05-02 05:31:28   1644         57  hashtags   \n",
       "StayHome                  2020-05-02 05:31:28   1644         57  hashtags   \n",
       "StayAtHome                2020-05-02 05:31:28   1644         57  hashtags   \n",
       "cuomosexual               2020-05-02 05:57:41   1644         57  hashtags   \n",
       "PuertoRico                2020-05-02 19:56:31   1644         57  hashtags   \n",
       "TrumpVirus                2020-05-03 15:20:22   1644         57  hashtags   \n",
       "covid19                   2020-05-03 21:35:38   1644         57  hashtags   \n",
       "Ohio                      2020-05-03 21:46:20   1644         57  hashtags   \n",
       "Columbus                  2020-05-03 21:46:20   1644         57  hashtags   \n",
       "missing                   2020-05-03 21:46:20   1644         57  hashtags   \n",
       "mileg                     2020-05-01 10:24:27   1644         57  hashtags   \n",
       "CashForClunkers           2020-04-27 13:04:16   1644         57  hashtags   \n",
       "TrumpVirus                2020-04-28 01:08:41   1644         57  hashtags   \n",
       "TrumpIsAnIdiot            2020-04-28 01:08:41   1644         57  hashtags   \n",
       "TrumpBurialPits           2020-04-28 01:08:41   1644         57  hashtags   \n",
       "TrumpDisinfectant         2020-04-28 01:08:41   1644         57  hashtags   \n",
       "ReOpen                    2020-04-28 01:09:52   1644         57  hashtags   \n",
       "AudreyWhitlock            2020-04-28 01:09:52   1644         57  hashtags   \n",
       "NorthCarolina             2020-04-28 01:09:52   1644         57  hashtags   \n",
       "facts                     2020-04-28 01:54:19   1644         57  hashtags   \n",
       "TrumpBurialPits           2020-04-28 01:54:19   1644         57  hashtags   \n",
       "TrumpDisinfectant         2020-04-28 01:54:19   1644         57  hashtags   \n",
       "youowneverydeath          2020-04-29 16:20:31   1644         57  hashtags   \n",
       "AskAGBarr                 2020-04-29 22:09:24   1644         57  hashtags   \n",
       "AskAGBarr                 2020-04-29 22:10:06   1644         57  hashtags   \n",
       "...                                       ...    ...        ...       ...   \n",
       "PaycheckProtectionProgram 2020-04-30 12:36:04   1910          0  hashtags   \n",
       "PaycheckProtectionProgram 2020-04-30 12:55:00   1910          0  hashtags   \n",
       "COVID19                   2020-04-30 17:52:42   1910          0  hashtags   \n",
       "Artemis                   2020-05-01 00:00:00   1910          0  hashtags   \n",
       "InThisTogether            2020-05-02 00:50:03   1910          0  hashtags   \n",
       "COVID                     2020-05-02 00:50:03   1910          0  hashtags   \n",
       "AmericaStrong             2020-05-02 00:50:03   1910          0  hashtags   \n",
       "AmericaStrong             2020-05-02 19:03:22   1910          0  hashtags   \n",
       "COVID19                   2020-05-02 19:36:00   1910          0  hashtags   \n",
       "PaycheckProtectionProgram 2020-05-03 02:10:01   1910          0  hashtags   \n",
       "COVID19                   2020-05-03 15:04:55   1910          0  hashtags   \n",
       "PaycheckProtectionProgram 2020-05-03 18:40:00   1910          0  hashtags   \n",
       "coronavirus               2020-04-28 12:43:51   1910          0  hashtags   \n",
       "coronavirus               2020-04-29 16:48:51   1910          0  hashtags   \n",
       "justice                   2020-04-27 14:20:01   1910          0  hashtags   \n",
       "peace                     2020-04-27 14:20:01   1910          0  hashtags   \n",
       "abortion                  2020-04-28 08:50:07   1910          0  hashtags   \n",
       "gript                     2020-04-28 12:09:41   1910          0  hashtags   \n",
       "VIDEO                     2020-04-28 19:42:20   1910          0  hashtags   \n",
       "covid19                   2020-04-29 08:59:21   1910          0  hashtags   \n",
       "wednesdaymorning          2020-04-29 15:52:21   1910          0  hashtags   \n",
       "WednesdayWisdom           2020-04-29 15:52:21   1910          0  hashtags   \n",
       "prochoice                 2020-04-29 15:52:21   1910          0  hashtags   \n",
       "prolife                   2020-04-29 15:52:21   1910          0  hashtags   \n",
       "abortion                  2020-04-29 15:52:21   1910          0  hashtags   \n",
       "coronavirus               2020-05-02 10:11:23   1910          0  hashtags   \n",
       "unborn                    2020-05-04 09:10:02   1910          0  hashtags   \n",
       "SCOTUS                    2020-05-04 09:10:02   1910          0  hashtags   \n",
       "COVIDー19                  2020-05-04 09:24:13   1910          0  hashtags   \n",
       "Lockdown                  2020-05-04 09:24:13   1910          0  hashtags   \n",
       "\n",
       "                                        map_name  map_id_count unique_id  \\\n",
       "hit_value                                                                  \n",
       "Imbleachment               NFL_Live_Landscape_v2             1   1644.57   \n",
       "TrumpsTheKingOf            NFL_Live_Landscape_v2             1   1644.57   \n",
       "MLK                        NFL_Live_Landscape_v2             1   1644.57   \n",
       "MaskGate                   NFL_Live_Landscape_v2             1   1644.57   \n",
       "MAGA                       NFL_Live_Landscape_v2             1   1644.57   \n",
       "StarWars                   NFL_Live_Landscape_v2             1   1644.57   \n",
       "StayHome                   NFL_Live_Landscape_v2             1   1644.57   \n",
       "StayAtHome                 NFL_Live_Landscape_v2             1   1644.57   \n",
       "cuomosexual                NFL_Live_Landscape_v2             1   1644.57   \n",
       "PuertoRico                 NFL_Live_Landscape_v2             1   1644.57   \n",
       "TrumpVirus                 NFL_Live_Landscape_v2             1   1644.57   \n",
       "covid19                    NFL_Live_Landscape_v2             1   1644.57   \n",
       "Ohio                       NFL_Live_Landscape_v2             1   1644.57   \n",
       "Columbus                   NFL_Live_Landscape_v2             1   1644.57   \n",
       "missing                    NFL_Live_Landscape_v2             1   1644.57   \n",
       "mileg                      NFL_Live_Landscape_v2             1   1644.57   \n",
       "CashForClunkers            NFL_Live_Landscape_v2             1   1644.57   \n",
       "TrumpVirus                 NFL_Live_Landscape_v2             1   1644.57   \n",
       "TrumpIsAnIdiot             NFL_Live_Landscape_v2             1   1644.57   \n",
       "TrumpBurialPits            NFL_Live_Landscape_v2             1   1644.57   \n",
       "TrumpDisinfectant          NFL_Live_Landscape_v2             1   1644.57   \n",
       "ReOpen                     NFL_Live_Landscape_v2             1   1644.57   \n",
       "AudreyWhitlock             NFL_Live_Landscape_v2             1   1644.57   \n",
       "NorthCarolina              NFL_Live_Landscape_v2             1   1644.57   \n",
       "facts                      NFL_Live_Landscape_v2             1   1644.57   \n",
       "TrumpBurialPits            NFL_Live_Landscape_v2             1   1644.57   \n",
       "TrumpDisinfectant          NFL_Live_Landscape_v2             1   1644.57   \n",
       "youowneverydeath           NFL_Live_Landscape_v2             1   1644.57   \n",
       "AskAGBarr                  NFL_Live_Landscape_v2             1   1644.57   \n",
       "AskAGBarr                  NFL_Live_Landscape_v2             1   1644.57   \n",
       "...                                          ...           ...       ...   \n",
       "PaycheckProtectionProgram    Social Media Summit             6    1910.0   \n",
       "PaycheckProtectionProgram    Social Media Summit             6    1910.0   \n",
       "COVID19                      Social Media Summit             6    1910.0   \n",
       "Artemis                      Social Media Summit             6    1910.0   \n",
       "InThisTogether               Social Media Summit             6    1910.0   \n",
       "COVID                        Social Media Summit             6    1910.0   \n",
       "AmericaStrong                Social Media Summit             6    1910.0   \n",
       "AmericaStrong                Social Media Summit             6    1910.0   \n",
       "COVID19                      Social Media Summit             6    1910.0   \n",
       "PaycheckProtectionProgram    Social Media Summit             6    1910.0   \n",
       "COVID19                      Social Media Summit             6    1910.0   \n",
       "PaycheckProtectionProgram    Social Media Summit             6    1910.0   \n",
       "coronavirus                  Social Media Summit             4    1910.0   \n",
       "coronavirus                  Social Media Summit             4    1910.0   \n",
       "justice                      Social Media Summit             1    1910.0   \n",
       "peace                        Social Media Summit             1    1910.0   \n",
       "abortion                     Social Media Summit             1    1910.0   \n",
       "gript                        Social Media Summit             1    1910.0   \n",
       "VIDEO                        Social Media Summit             1    1910.0   \n",
       "covid19                      Social Media Summit             1    1910.0   \n",
       "wednesdaymorning             Social Media Summit             1    1910.0   \n",
       "WednesdayWisdom              Social Media Summit             1    1910.0   \n",
       "prochoice                    Social Media Summit             1    1910.0   \n",
       "prolife                      Social Media Summit             1    1910.0   \n",
       "abortion                     Social Media Summit             1    1910.0   \n",
       "coronavirus                  Social Media Summit             1    1910.0   \n",
       "unborn                       Social Media Summit             1    1910.0   \n",
       "SCOTUS                       Social Media Summit             1    1910.0   \n",
       "COVIDー19                     Social Media Summit             1    1910.0   \n",
       "Lockdown                     Social Media Summit             1    1910.0   \n",
       "\n",
       "                                   tag  \n",
       "hit_value                               \n",
       "Imbleachment                  US Right  \n",
       "TrumpsTheKingOf               US Right  \n",
       "MLK                           US Right  \n",
       "MaskGate                      US Right  \n",
       "MAGA                          US Right  \n",
       "StarWars                      US Right  \n",
       "StayHome                      US Right  \n",
       "StayAtHome                    US Right  \n",
       "cuomosexual                   US Right  \n",
       "PuertoRico                    US Right  \n",
       "TrumpVirus                    US Right  \n",
       "covid19                       US Right  \n",
       "Ohio                          US Right  \n",
       "Columbus                      US Right  \n",
       "missing                       US Right  \n",
       "mileg                         US Right  \n",
       "CashForClunkers               US Right  \n",
       "TrumpVirus                    US Right  \n",
       "TrumpIsAnIdiot                US Right  \n",
       "TrumpBurialPits               US Right  \n",
       "TrumpDisinfectant             US Right  \n",
       "ReOpen                        US Right  \n",
       "AudreyWhitlock                US Right  \n",
       "NorthCarolina                 US Right  \n",
       "facts                         US Right  \n",
       "TrumpBurialPits               US Right  \n",
       "TrumpDisinfectant             US Right  \n",
       "youowneverydeath              US Right  \n",
       "AskAGBarr                     US Right  \n",
       "AskAGBarr                     US Right  \n",
       "...                                ...  \n",
       "PaycheckProtectionProgram  Unclustered  \n",
       "PaycheckProtectionProgram  Unclustered  \n",
       "COVID19                    Unclustered  \n",
       "Artemis                    Unclustered  \n",
       "InThisTogether             Unclustered  \n",
       "COVID                      Unclustered  \n",
       "AmericaStrong              Unclustered  \n",
       "AmericaStrong              Unclustered  \n",
       "COVID19                    Unclustered  \n",
       "PaycheckProtectionProgram  Unclustered  \n",
       "COVID19                    Unclustered  \n",
       "PaycheckProtectionProgram  Unclustered  \n",
       "coronavirus                Unclustered  \n",
       "coronavirus                Unclustered  \n",
       "justice                    Unclustered  \n",
       "peace                      Unclustered  \n",
       "abortion                   Unclustered  \n",
       "gript                      Unclustered  \n",
       "VIDEO                      Unclustered  \n",
       "covid19                    Unclustered  \n",
       "wednesdaymorning           Unclustered  \n",
       "WednesdayWisdom            Unclustered  \n",
       "prochoice                  Unclustered  \n",
       "prolife                    Unclustered  \n",
       "abortion                   Unclustered  \n",
       "coronavirus                Unclustered  \n",
       "unborn                     Unclustered  \n",
       "SCOTUS                     Unclustered  \n",
       "COVIDー19                   Unclustered  \n",
       "Lockdown                   Unclustered  \n",
       "\n",
       "[4924270 rows x 10 columns]"
      ]
     },
     "execution_count": 112,
     "metadata": {},
     "output_type": "execute_result"
    }
   ],
   "source": [
    "fetched_hits"
   ]
  },
  {
   "cell_type": "markdown",
   "metadata": {},
   "source": [
    "### Run this cell to narrow down data\n",
    "You will have to replace \"fetched_hits\" with \"narrowed_hits\" in subsequent cells to use the narrowed down data set\n",
    "\n",
    "\n",
    "Filter either by map ID"
   ]
  },
  {
   "cell_type": "code",
   "execution_count": null,
   "metadata": {},
   "outputs": [],
   "source": [
    "narrowed_hits = fetched_hits[fetched_hits.map_id == input('>> Please enter map ID to filter by: ')]"
   ]
  },
  {
   "cell_type": "markdown",
   "metadata": {},
   "source": [
    "Or by map name"
   ]
  },
  {
   "cell_type": "code",
   "execution_count": 113,
   "metadata": {},
   "outputs": [
    {
     "name": "stdout",
     "output_type": "stream",
     "text": [
      ">> Please enter term or name to filter maps by: climate\n"
     ]
    }
   ],
   "source": [
    "narrowed_hits = fetched_hits[fetched_hits.map_name.str.contains(input('>> Please enter term or name to filter maps by: '),case = False)]"
   ]
  },
  {
   "cell_type": "markdown",
   "metadata": {},
   "source": [
    "Or by tag"
   ]
  },
  {
   "cell_type": "code",
   "execution_count": 32,
   "metadata": {},
   "outputs": [
    {
     "name": "stdout",
     "output_type": "stream",
     "text": [
      ">> Please enter tag to filter by: climate\n"
     ]
    }
   ],
   "source": [
    "narrowed_hits = fetched_hits[fetched_hits.tag.str.contains(input('>> Please enter tag to filter by: '),case = False)]"
   ]
  },
  {
   "cell_type": "markdown",
   "metadata": {},
   "source": [
    "### Run this cell to fetch hits that are new over the last 24 hours\n",
    "This will only have hits that appeared over the last 24 hours, and not those that were present in the 24 hours before that"
   ]
  },
  {
   "cell_type": "code",
   "execution_count": null,
   "metadata": {},
   "outputs": [],
   "source": [
    "new_hits = get_today_trends(tag = False)"
   ]
  },
  {
   "cell_type": "markdown",
   "metadata": {},
   "source": [
    "### Run this cell to search hits for a keyword or phrase, and get top hits accordingly\n",
    "You may enter the search and how many top hits you would like to see\n",
    "\n",
    "This will summarize each hit by popularity and number of shares"
   ]
  },
  {
   "cell_type": "code",
   "execution_count": 105,
   "metadata": {},
   "outputs": [
    {
     "name": "stdout",
     "output_type": "stream",
     "text": [
      ">> Enter term to search: \n",
      "...Searching results\n",
      ">> Enter how many of the top hits you would like to view: 5\n",
      "...Getting a summary of top 5 hits\n",
      "...Done!\n"
     ]
    }
   ],
   "source": [
    "top_x = get_top_x_trends(search_trends(fetched_hits,auto = True))"
   ]
  },
  {
   "cell_type": "markdown",
   "metadata": {},
   "source": [
    "Run this cell to see the above"
   ]
  },
  {
   "cell_type": "code",
   "execution_count": 106,
   "metadata": {},
   "outputs": [
    {
     "data": {
      "text/html": [
       "<div>\n",
       "<style scoped>\n",
       "    .dataframe tbody tr th:only-of-type {\n",
       "        vertical-align: middle;\n",
       "    }\n",
       "\n",
       "    .dataframe tbody tr th {\n",
       "        vertical-align: top;\n",
       "    }\n",
       "\n",
       "    .dataframe thead th {\n",
       "        text-align: right;\n",
       "    }\n",
       "</style>\n",
       "<table border=\"1\" class=\"dataframe\">\n",
       "  <thead>\n",
       "    <tr style=\"text-align: right;\">\n",
       "      <th></th>\n",
       "      <th>hit_count</th>\n",
       "      <th>hit_share</th>\n",
       "      <th>tweet_count</th>\n",
       "      <th>tweet_share</th>\n",
       "      <th>map_count</th>\n",
       "      <th>node_count</th>\n",
       "      <th>node_share</th>\n",
       "    </tr>\n",
       "    <tr>\n",
       "      <th>hit_value</th>\n",
       "      <th></th>\n",
       "      <th></th>\n",
       "      <th></th>\n",
       "      <th></th>\n",
       "      <th></th>\n",
       "      <th></th>\n",
       "      <th></th>\n",
       "    </tr>\n",
       "  </thead>\n",
       "  <tbody>\n",
       "    <tr>\n",
       "      <th>COVID19</th>\n",
       "      <td>261769</td>\n",
       "      <td>5.32</td>\n",
       "      <td>91159</td>\n",
       "      <td>6.79</td>\n",
       "      <td>28</td>\n",
       "      <td>22474</td>\n",
       "      <td>21.48</td>\n",
       "    </tr>\n",
       "    <tr>\n",
       "      <th>stop</th>\n",
       "      <td>258723</td>\n",
       "      <td>5.25</td>\n",
       "      <td>60752</td>\n",
       "      <td>4.52</td>\n",
       "      <td>19</td>\n",
       "      <td>37</td>\n",
       "      <td>0.04</td>\n",
       "    </tr>\n",
       "    <tr>\n",
       "      <th>PayItForwardLIVE</th>\n",
       "      <td>71032</td>\n",
       "      <td>1.44</td>\n",
       "      <td>17809</td>\n",
       "      <td>1.33</td>\n",
       "      <td>21</td>\n",
       "      <td>47</td>\n",
       "      <td>0.04</td>\n",
       "    </tr>\n",
       "    <tr>\n",
       "      <th>TheCloneWars</th>\n",
       "      <td>68285</td>\n",
       "      <td>1.39</td>\n",
       "      <td>23017</td>\n",
       "      <td>1.71</td>\n",
       "      <td>22</td>\n",
       "      <td>237</td>\n",
       "      <td>0.23</td>\n",
       "    </tr>\n",
       "    <tr>\n",
       "      <th>DisneyPlus</th>\n",
       "      <td>67756</td>\n",
       "      <td>1.38</td>\n",
       "      <td>22707</td>\n",
       "      <td>1.69</td>\n",
       "      <td>24</td>\n",
       "      <td>201</td>\n",
       "      <td>0.19</td>\n",
       "    </tr>\n",
       "  </tbody>\n",
       "</table>\n",
       "</div>"
      ],
      "text/plain": [
       "                  hit_count  hit_share  tweet_count  tweet_share  map_count  \\\n",
       "hit_value                                                                     \n",
       "COVID19              261769       5.32        91159         6.79         28   \n",
       "stop                 258723       5.25        60752         4.52         19   \n",
       "PayItForwardLIVE      71032       1.44        17809         1.33         21   \n",
       "TheCloneWars          68285       1.39        23017         1.71         22   \n",
       "DisneyPlus            67756       1.38        22707         1.69         24   \n",
       "\n",
       "                  node_count  node_share  \n",
       "hit_value                                 \n",
       "COVID19                22474       21.48  \n",
       "stop                      37        0.04  \n",
       "PayItForwardLIVE          47        0.04  \n",
       "TheCloneWars             237        0.23  \n",
       "DisneyPlus               201        0.19  "
      ]
     },
     "execution_count": 106,
     "metadata": {},
     "output_type": "execute_result"
    }
   ],
   "source": [
    "top_x"
   ]
  },
  {
   "cell_type": "markdown",
   "metadata": {},
   "source": [
    "### Run this cell to search within a specific Graphika tag\n",
    "You may enter the search and how many top hits you would like to see"
   ]
  },
  {
   "cell_type": "code",
   "execution_count": 108,
   "metadata": {},
   "outputs": [],
   "source": [
    "display(fetched_hits.tag.unique().tolist())\n",
    "lookup_tag = input('>> Please enter one of the above tags that you would like to search: ')\n",
    "if lookup_tag == '':\n",
    "    tag_search = search_trends(fetched_hits)\n",
    "else:\n",
    "    tag_search = search_trends(fetched_hits[fetched_hits.tag.str.contains(lookup_tag,case = False)])"
   ]
  },
  {
   "cell_type": "markdown",
   "metadata": {},
   "source": [
    "Here, you may see the top tweets within the same tag"
   ]
  },
  {
   "cell_type": "code",
   "execution_count": 109,
   "metadata": {},
   "outputs": [
    {
     "data": {
      "text/html": [
       "<span style=\"color:black\"><h3><u>India</u></h3></span>"
      ],
      "text/plain": [
       "<IPython.core.display.HTML object>"
      ]
     },
     "metadata": {},
     "output_type": "display_data"
    },
    {
     "name": "stdout",
     "output_type": "stream",
     "text": [
      "...Getting 10 tweets\n",
      "...Done!\n"
     ]
    },
    {
     "data": {
      "text/html": [
       "<style  type=\"text/css\" >\n",
       "</style><table id=\"T_8fa940c2_8e17_11ea_a83b_7c04d0ce8464\" ><thead>    <tr>        <th class=\"blank level0\" ></th>        <th class=\"col_heading level0 col0\" >retweet_screen_name</th>        <th class=\"col_heading level0 col1\" >retweet_tweet_id</th>        <th class=\"col_heading level0 col2\" >user_id</th>        <th class=\"col_heading level0 col3\" >retweet</th>        <th class=\"col_heading level0 col4\" >text</th>        <th class=\"col_heading level0 col5\" >author</th>        <th class=\"col_heading level0 col6\" >screen_name</th>        <th class=\"col_heading level0 col7\" >tweet_id</th>        <th class=\"col_heading level0 col8\" >time</th>        <th class=\"col_heading level0 col9\" >mentions</th>        <th class=\"col_heading level0 col10\" >hashtags</th>        <th class=\"col_heading level0 col11\" >urls</th>    </tr>    <tr>        <th class=\"index_name level0\" >tweet</th>        <th class=\"blank\" ></th>        <th class=\"blank\" ></th>        <th class=\"blank\" ></th>        <th class=\"blank\" ></th>        <th class=\"blank\" ></th>        <th class=\"blank\" ></th>        <th class=\"blank\" ></th>        <th class=\"blank\" ></th>        <th class=\"blank\" ></th>        <th class=\"blank\" ></th>        <th class=\"blank\" ></th>        <th class=\"blank\" ></th>    </tr></thead><tbody>\n",
       "                <tr>\n",
       "                        <th id=\"T_8fa940c2_8e17_11ea_a83b_7c04d0ce8464level0_row0\" class=\"row_heading level0 row0\" ><a href=\"https://twitter.com/VipulBaliyan12/status/1256661329722531840\">1256661329722531840</a></th>\n",
       "                        <td id=\"T_8fa940c2_8e17_11ea_a83b_7c04d0ce8464row0_col0\" class=\"data row0 col0\" >None</td>\n",
       "                        <td id=\"T_8fa940c2_8e17_11ea_a83b_7c04d0ce8464row0_col1\" class=\"data row0 col1\" >None</td>\n",
       "                        <td id=\"T_8fa940c2_8e17_11ea_a83b_7c04d0ce8464row0_col2\" class=\"data row0 col2\" >844450854916800512</td>\n",
       "                        <td id=\"T_8fa940c2_8e17_11ea_a83b_7c04d0ce8464row0_col3\" class=\"data row0 col3\" >False</td>\n",
       "                        <td id=\"T_8fa940c2_8e17_11ea_a83b_7c04d0ce8464row0_col4\" class=\"data row0 col4\" >b'\\xe0\\xa4\\x9c\\xe0\\xa4\\xbf\\xe0\\xa4\\x82\\xe0\\xa4\\xa6\\xe0\\xa4\\x97\\xe0\\xa5\\x80 \\xe0\\xa4\\x95\\xe0\\xa5\\x87 \\xe0\\xa4\\xb9\\xe0\\xa4\\xb0 \\xe0\\xa4\\xae\\xe0\\xa5\\x8b\\xe0\\xa4\\xa1\\xe0\\xa4\\xbc \\xe0\\xa4\\xaa\\xe0\\xa4\\xb0 \\xe0\\xa4\\xaf\\xe0\\xa5\\x87 \\xe0\\xa4\\xac\\xe0\\xa4\\xbe\\xe0\\xa4\\xa4 \\xe0\\xa4\\xaf\\xe0\\xa4\\xbe\\xe0\\xa4\\xa6 \\xe0\\xa4\\xb0\\xe0\\xa4\\x96\\xe0\\xa4\\xa8\\xe0\\xa4\\xbe\\xe0\\xa5\\xa4 \\xe0\\xa4\\x95\\xe0\\xa4\\xbf\\xe0\\xa4\\xb8\\xe0\\xa4\\xbe\\xe0\\xa4\\xa8\\xe0\\xa5\\x8b\\xe0\\xa4\\x82 \\xe0\\xa4\\x95\\xe0\\xa5\\x87 \\xe0\\xa4\\xa4\\xe0\\xa5\\x81\\xe0\\xa4\\xae \\xe0\\xa4\\x95\\xe0\\xa4\\xb0\\xe0\\xa5\\x8d\\xe0\\xa4\\x9c\\xe0\\xa4\\xa6\\xe0\\xa4\\xbe\\xe0\\xa4\\xb0 \\xe0\\xa4\\xb9\\xe0\\xa5\\x8b, \\xe0\\xa4\\x89\\xe0\\xa4\\xb8 \\xe0\\xa4\\x8f\\xe0\\xa4\\xb9\\xe0\\xa4\\xb8\\xe0\\xa4\\xbe\\xe0\\xa4\\xa8 \\xe0\\xa4\\x95\\xe0\\xa5\\x8b \\xe0\\xa4\\x89\\xe0\\xa4\\xa4\\xe0\\xa4\\xbe\\xe0\\xa4\\xb0\\xe0\\xa4\\xa8\\xe0\\xa5\\x87 \\xe0\\xa4\\x95\\xe0\\xa5\\x80 \\xe0\\xa4\\xb8\\xe0\\xa5\\x8b\\xe0\\xa4\\x9a\\xe0\\xa4\\xa8\\xe0\\xa4\\xbe\\xe0\\xa5\\xa4\\n#Corona #IndiaFightCorona #Covid19India \\n#\\xe0\\xa4\\x9c\\xe0\\xa4\\xaf_\\xe0\\xa4\\x9c\\xe0\\xa4\\xb5\\xe0\\xa4\\xbe\\xe0\\xa4\\xa8\\n#\\xe0\\xa4\\x9c\\xe0\\xa4\\xaf_kisan\\n#\\xe0\\xa4\\x95\\xe0\\xa4\\xbf\\xe0\\xa4\\xb8\\xe0\\xa4\\xbe\\xe0\\xa4\\xa8\\n\\xf0\\x9f\\x99\\x8f\\xf0\\x9f\\x8f\\xbb\\xf0\\x9f\\x99\\x8f\\xf0\\x9f\\x8f\\xbb\\xf0\\x9f\\x91\\xa8\\xe2\\x80\\x8d\\xf0\\x9f\\x8c\\xbe\\xf0\\x9f\\x91\\xa8\\xe2\\x80\\x8d\\xf0\\x9f\\x8c\\xbe\\xf0\\x9f\\x99\\x8f\\xf0\\x9f\\x8f\\xbb\\xf0\\x9f\\x99\\x8f\\xf0\\x9f\\x8f\\xbb\\n#KisanBharti #KisanBhartiTV #IamFarmerToo #JaiKisan #KisanoKiAwaz #Respect #Farmer #Farmers #India #Indian https://t.co/wMEKSZIxPN'</td>\n",
       "                        <td id=\"T_8fa940c2_8e17_11ea_a83b_7c04d0ce8464row0_col5\" class=\"data row0 col5\" >🇮🇳जाट 🇮🇳</td>\n",
       "                        <td id=\"T_8fa940c2_8e17_11ea_a83b_7c04d0ce8464row0_col6\" class=\"data row0 col6\" >VipulBaliyan12</td>\n",
       "                        <td id=\"T_8fa940c2_8e17_11ea_a83b_7c04d0ce8464row0_col7\" class=\"data row0 col7\" >1256661329722531840</td>\n",
       "                        <td id=\"T_8fa940c2_8e17_11ea_a83b_7c04d0ce8464row0_col8\" class=\"data row0 col8\" >2020-05-02 19:06:23</td>\n",
       "                        <td id=\"T_8fa940c2_8e17_11ea_a83b_7c04d0ce8464row0_col9\" class=\"data row0 col9\" >[]</td>\n",
       "                        <td id=\"T_8fa940c2_8e17_11ea_a83b_7c04d0ce8464row0_col10\" class=\"data row0 col10\" >['Corona', 'IndiaFightCorona', 'Covid19India', 'जय_जवान', 'जय_kisan', 'किसान', 'KisanBharti', 'KisanBhartiTV', 'IamFarmerToo', 'JaiKisan', 'KisanoKiAwaz', 'Respect', 'Farmer', 'Farmers', 'India', 'Indian']</td>\n",
       "                        <td id=\"T_8fa940c2_8e17_11ea_a83b_7c04d0ce8464row0_col11\" class=\"data row0 col11\" >[]</td>\n",
       "            </tr>\n",
       "            <tr>\n",
       "                        <th id=\"T_8fa940c2_8e17_11ea_a83b_7c04d0ce8464level0_row1\" class=\"row_heading level0 row1\" ><a href=\"https://twitter.com/just_kashyap/status/1256577945344360448\">1256577945344360448</a></th>\n",
       "                        <td id=\"T_8fa940c2_8e17_11ea_a83b_7c04d0ce8464row1_col0\" class=\"data row1 col0\" >Mehul_mkwna</td>\n",
       "                        <td id=\"T_8fa940c2_8e17_11ea_a83b_7c04d0ce8464row1_col1\" class=\"data row1 col1\" >1256566000960430081</td>\n",
       "                        <td id=\"T_8fa940c2_8e17_11ea_a83b_7c04d0ce8464row1_col2\" class=\"data row1 col2\" >187281070</td>\n",
       "                        <td id=\"T_8fa940c2_8e17_11ea_a83b_7c04d0ce8464row1_col3\" class=\"data row1 col3\" >True</td>\n",
       "                        <td id=\"T_8fa940c2_8e17_11ea_a83b_7c04d0ce8464row1_col4\" class=\"data row1 col4\" >#Fear is a #disease\n",
       "#Hope is its only #cure\n",
       "#International #COVID__19 #Warriors\n",
       "#Mariners without #borders\n",
       "#Working 24×7\n",
       "To keep the #world \n",
       "#Moving during #lockdown https://t.co/jW7APjpj7K</td>\n",
       "                        <td id=\"T_8fa940c2_8e17_11ea_a83b_7c04d0ce8464row1_col5\" class=\"data row1 col5\" >Kashyap Khakharia 🇮🇳</td>\n",
       "                        <td id=\"T_8fa940c2_8e17_11ea_a83b_7c04d0ce8464row1_col6\" class=\"data row1 col6\" >just_kashyap</td>\n",
       "                        <td id=\"T_8fa940c2_8e17_11ea_a83b_7c04d0ce8464row1_col7\" class=\"data row1 col7\" >1256577945344360448</td>\n",
       "                        <td id=\"T_8fa940c2_8e17_11ea_a83b_7c04d0ce8464row1_col8\" class=\"data row1 col8\" >2020-05-02 13:35:02</td>\n",
       "                        <td id=\"T_8fa940c2_8e17_11ea_a83b_7c04d0ce8464row1_col9\" class=\"data row1 col9\" >['Mehul_mkwna']</td>\n",
       "                        <td id=\"T_8fa940c2_8e17_11ea_a83b_7c04d0ce8464row1_col10\" class=\"data row1 col10\" >['Fear', 'disease', 'Hope', 'cure', 'International', 'COVID__19', 'Warriors', 'Mariners', 'borders', 'Working']</td>\n",
       "                        <td id=\"T_8fa940c2_8e17_11ea_a83b_7c04d0ce8464row1_col11\" class=\"data row1 col11\" >[]</td>\n",
       "            </tr>\n",
       "            <tr>\n",
       "                        <th id=\"T_8fa940c2_8e17_11ea_a83b_7c04d0ce8464level0_row2\" class=\"row_heading level0 row2\" ><a href=\"https://twitter.com/KashifNeta4/status/1255145290199261194\">1255145290199261194</a></th>\n",
       "                        <td id=\"T_8fa940c2_8e17_11ea_a83b_7c04d0ce8464row2_col0\" class=\"data row2 col0\" >None</td>\n",
       "                        <td id=\"T_8fa940c2_8e17_11ea_a83b_7c04d0ce8464row2_col1\" class=\"data row2 col1\" >None</td>\n",
       "                        <td id=\"T_8fa940c2_8e17_11ea_a83b_7c04d0ce8464row2_col2\" class=\"data row2 col2\" >834937254804062209</td>\n",
       "                        <td id=\"T_8fa940c2_8e17_11ea_a83b_7c04d0ce8464row2_col3\" class=\"data row2 col3\" >False</td>\n",
       "                        <td id=\"T_8fa940c2_8e17_11ea_a83b_7c04d0ce8464row2_col4\" class=\"data row2 col4\" >b'#\\xe0\\xa4\\xa8\\xe0\\xa4\\xab\\xe0\\xa4\\xb0\\xe0\\xa4\\xa4\\xe0\\xa5\\x8b\\xe0\\xa4\\x82 #\\xe0\\xa4\\x95\\xe0\\xa5\\x87 #\\xe0\\xa4\\x87\\xe0\\xa4\\xb8 #\\xe0\\xa4\\xa6\\xe0\\xa5\\x8c\\xe0\\xa4\\xb0 #\\xe0\\xa4\\xae\\xe0\\xa5\\x87\\xe0\\xa4\\x82 #\\xe0\\xa4\\xad\\xe0\\xa5\\x80 #\\xe0\\xa4\\xaa\\xe0\\xa5\\x8d\\xe0\\xa4\\xaf\\xe0\\xa4\\xbe\\xe0\\xa4\\xb0 #\\xe0\\xa4\\xae\\xe0\\xa5\\x8b\\xe0\\xa4\\xb9\\xe0\\xa4\\xac\\xe0\\xa5\\x8d\\xe0\\xa4\\xac\\xe0\\xa4\\xa4 #\\xe0\\xa4\\x94\\xe0\\xa4\\xb0 #\\xe0\\xa4\\x87\\xe0\\xa4\\x82\\xe0\\xa4\\xb8\\xe0\\xa4\\xbe\\xe0\\xa4\\xa8\\xe0\\xa4\\xbf\\xe0\\xa4\\xaf\\xe0\\xa4\\xa4 #\\xe0\\xa4\\x9c\\xe0\\xa4\\xbf\\xe0\\xa4\\x82\\xe0\\xa4\\xa6\\xe0\\xa4\\xbe #\\xe0\\xa4\\xb9\\xe0\\xa5\\x88,,#\\xe0\\xa4\\x9c\\xe0\\xa4\\xbf\\xe0\\xa4\\xb8\\xe0\\xa4\\x95\\xe0\\xa5\\x80 #\\xe0\\xa4\\x9c\\xe0\\xa4\\xbc\\xe0\\xa4\\xbf\\xe0\\xa4\\x82\\xe0\\xa4\\xa6\\xe0\\xa4\\xbe #\\xe0\\xa4\\xae\\xe0\\xa4\\xbf\\xe0\\xa4\\xb8\\xe0\\xa4\\xbe\\xe0\\xa4\\xb2,\\n\\n#\\xe0\\xa4\\x85\\xe0\\xa4\\xb8\\xe0\\xa4\\xae \\xe0\\xa4\\x95\\xe0\\xa5\\x87 #\\xe0\\xa4\\xae\\xe0\\xa4\\xbe\\xe0\\xa4\\x9c\\xe0\\xa5\\x81\\xe0\\xa4\\xb2\\xe0\\xa5\\x80 \\xe0\\xa4\\xae\\xe0\\xa5\\x87\\xe0\\xa4\\x82 #\\xe0\\xa4\\xb2\\xe0\\xa5\\x89\\xe0\\xa4\\x95\\xe0\\xa4\\xa1\\xe0\\xa4\\xbe\\xe0\\xa4\\x89\\xe0\\xa4\\xa8 \\xe0\\xa4\\x95\\xe0\\xa5\\x80 #\\xe0\\xa4\\xb5\\xe0\\xa4\\x9c\\xe0\\xa4\\xb9 \\xe0\\xa4\\xb8\\xe0\\xa5\\x87 #\\xe0\\xa4\\xab\\xe0\\xa4\\x82\\xe0\\xa4\\xb8\\xe0\\xa4\\xbe \\xe0\\xa4\\xaf\\xe0\\xa4\\xb9 \\xe0\\xa4\\xb2\\xe0\\xa4\\xa1\\xe0\\xa4\\xbc\\xe0\\xa4\\x95\\xe0\\xa4\\xbe \\xe0\\xa4\\x9c\\xe0\\xa5\\x8b \\xe0\\xa4\\x95\\xe0\\xa4\\xbf #\\xe0\\xa4\\xae\\xe0\\xa5\\x81\\xe0\\xa4\\xb8\\xe0\\xa5\\x8d\\xe0\\xa4\\xb2\\xe0\\xa4\\xbf\\xe0\\xa4\\xae \\xe0\\xa4\\xb9\\xe0\\xa5\\x88,,#\\xe0\\xa4\\x89\\xe0\\xa4\\xb8\\xe0\\xa4\\x95\\xe0\\xa5\\x87 #\\xe0\\xa4\\x96\\xe0\\xa4\\xbe\\xe0\\xa4\\xa8\\xe0\\xa5\\x87 #\\xe0\\xa4\\xaa\\xe0\\xa5\\x80\\xe0\\xa4\\xa8\\xe0\\xa5\\x87 \\xe0\\xa4\\x95\\xe0\\xa5\\x87 #\\xe0\\xa4\\x87\\xe0\\xa4\\x82\\xe0\\xa4\\xa4\\xe0\\xa5\\x87\\xe0\\xa4\\x9c\\xe0\\xa4\\xbc\\xe0\\xa4\\xbe\\xe0\\xa4\\xae \\xe0\\xa4\\x94\\xe0\\xa4\\xb0 #\\xe0\\xa4\\xb0\\xe0\\xa5\\x8b\\xe0\\xa4\\x9c\\xe0\\xa4\\xbc\\xe0\\xa5\\x87 #\\xe0\\xa4\\xa8\\xe0\\xa4\\xae\\xe0\\xa4\\xbe\\xe0\\xa4\\x9c\\xe0\\xa4\\xbc \\xe0\\xa4\\x95\\xe0\\xa5\\x80 \\xe0\\xa4\\x9c\\xe0\\xa4\\x97\\xe0\\xa4\\xb9 \\xe0\\xa4\\x95\\xe0\\xa4\\xbe \\xe0\\xa4\\xaa\\xe0\\xa5\\x8d\\xe0\\xa4\\xb0\\xe0\\xa4\\xac\\xe0\\xa4\\xa8\\xe0\\xa5\\x8d\\xe0\\xa4\\xa7 \\xe0\\xa4\\x85\\xe0\\xa4\\xaa\\xe0\\xa4\\xa8\\xe0\\xa5\\x87 \\xe0\\xa4\\xb9\\xe0\\xa5\\x80 \\xe0\\xa4\\x98\\xe0\\xa4\\xb0 \\xe0\\xa4\\xae\\xe0\\xa5\\x87\\xe0\\xa4\\x82 #\\xe0\\xa4\\x8f\\xe0\\xa4\\x95 #\\xe0\\xa4\\xb9\\xe0\\xa4\\xbf\\xe0\\xa4\\xa8\\xe0\\xa5\\x8d\\xe0\\xa4\\xa6\\xe0\\xa5\\x82 #\\xe0\\xa4\\xaa\\xe0\\xa4\\xb0\\xe0\\xa4\\xbf\\xe0\\xa4\\xb5\\xe0\\xa4\\xbe\\xe0\\xa4\\xb0 \\xe0\\xa4\\xa8\\xe0\\xa5\\x87 \\xe0\\xa4\\x95\\xe0\\xa4\\xbf\\xe0\\xa4\\xaf\\xe0\\xa4\\xbe https://t.co/I1EtKiLePk'</td>\n",
       "                        <td id=\"T_8fa940c2_8e17_11ea_a83b_7c04d0ce8464row2_col5\" class=\"data row2 col5\" >काशिफ़ अंसारी जिलाध्यक्ष AIMIM सीतापुर यूपी यूथ</td>\n",
       "                        <td id=\"T_8fa940c2_8e17_11ea_a83b_7c04d0ce8464row2_col6\" class=\"data row2 col6\" >KashifNeta4</td>\n",
       "                        <td id=\"T_8fa940c2_8e17_11ea_a83b_7c04d0ce8464row2_col7\" class=\"data row2 col7\" >1255145290199261194</td>\n",
       "                        <td id=\"T_8fa940c2_8e17_11ea_a83b_7c04d0ce8464row2_col8\" class=\"data row2 col8\" >2020-04-28 14:42:11</td>\n",
       "                        <td id=\"T_8fa940c2_8e17_11ea_a83b_7c04d0ce8464row2_col9\" class=\"data row2 col9\" >[]</td>\n",
       "                        <td id=\"T_8fa940c2_8e17_11ea_a83b_7c04d0ce8464row2_col10\" class=\"data row2 col10\" >['नफरतों', 'के', 'इस', 'दौर', 'में', 'भी', 'प्यार', 'मोहब्बत', 'और', 'इंसानियत', 'जिंदा', 'है', 'जिसकी', 'ज़िंदा', 'मिसाल', 'असम', 'माजुली', 'लॉकडाउन', 'वजह', 'फंसा', 'मुस्लिम', 'उसके', 'खाने', 'पीने', 'इंतेज़ाम', 'रोज़े', 'नमाज़', 'एक', 'हिन्दू', 'परिवार']</td>\n",
       "                        <td id=\"T_8fa940c2_8e17_11ea_a83b_7c04d0ce8464row2_col11\" class=\"data row2 col11\" >[]</td>\n",
       "            </tr>\n",
       "            <tr>\n",
       "                        <th id=\"T_8fa940c2_8e17_11ea_a83b_7c04d0ce8464level0_row3\" class=\"row_heading level0 row3\" ><a href=\"https://twitter.com/pummy863/status/1256085164117147648\">1256085164117147648</a></th>\n",
       "                        <td id=\"T_8fa940c2_8e17_11ea_a83b_7c04d0ce8464row3_col0\" class=\"data row3 col0\" >RoyalAlok1</td>\n",
       "                        <td id=\"T_8fa940c2_8e17_11ea_a83b_7c04d0ce8464row3_col1\" class=\"data row3 col1\" >1254344384788774912</td>\n",
       "                        <td id=\"T_8fa940c2_8e17_11ea_a83b_7c04d0ce8464row3_col2\" class=\"data row3 col2\" >3109146246</td>\n",
       "                        <td id=\"T_8fa940c2_8e17_11ea_a83b_7c04d0ce8464row3_col3\" class=\"data row3 col3\" >True</td>\n",
       "                        <td id=\"T_8fa940c2_8e17_11ea_a83b_7c04d0ce8464row3_col4\" class=\"data row3 col4\" >#आओ #लगा #लूं #गले #तुम्हें...\n",
       "\n",
       "            #मोहब्बत #भी #है 💞🌷\n",
       "\n",
       "       #और #बारिश #का #मौसम #भी https://t.co/DX1CNnoO9s</td>\n",
       "                        <td id=\"T_8fa940c2_8e17_11ea_a83b_7c04d0ce8464row3_col5\" class=\"data row3 col5\" >Deva</td>\n",
       "                        <td id=\"T_8fa940c2_8e17_11ea_a83b_7c04d0ce8464row3_col6\" class=\"data row3 col6\" >pummy863</td>\n",
       "                        <td id=\"T_8fa940c2_8e17_11ea_a83b_7c04d0ce8464row3_col7\" class=\"data row3 col7\" >1256085164117147648</td>\n",
       "                        <td id=\"T_8fa940c2_8e17_11ea_a83b_7c04d0ce8464row3_col8\" class=\"data row3 col8\" >2020-05-01 04:56:54</td>\n",
       "                        <td id=\"T_8fa940c2_8e17_11ea_a83b_7c04d0ce8464row3_col9\" class=\"data row3 col9\" >['RoyalAlok1']</td>\n",
       "                        <td id=\"T_8fa940c2_8e17_11ea_a83b_7c04d0ce8464row3_col10\" class=\"data row3 col10\" >['आओ', 'लगा', 'लूं', 'गले', 'तुम्हें', 'मोहब्बत', 'भी', 'है', 'और', 'बारिश', 'का', 'मौसम', 'भी']</td>\n",
       "                        <td id=\"T_8fa940c2_8e17_11ea_a83b_7c04d0ce8464row3_col11\" class=\"data row3 col11\" >[]</td>\n",
       "            </tr>\n",
       "            <tr>\n",
       "                        <th id=\"T_8fa940c2_8e17_11ea_a83b_7c04d0ce8464level0_row4\" class=\"row_heading level0 row4\" ><a href=\"https://twitter.com/amardeepkaushal/status/1256116009456545793\">1256116009456545793</a></th>\n",
       "                        <td id=\"T_8fa940c2_8e17_11ea_a83b_7c04d0ce8464row4_col0\" class=\"data row4 col0\" >None</td>\n",
       "                        <td id=\"T_8fa940c2_8e17_11ea_a83b_7c04d0ce8464row4_col1\" class=\"data row4 col1\" >None</td>\n",
       "                        <td id=\"T_8fa940c2_8e17_11ea_a83b_7c04d0ce8464row4_col2\" class=\"data row4 col2\" >2431546572</td>\n",
       "                        <td id=\"T_8fa940c2_8e17_11ea_a83b_7c04d0ce8464row4_col3\" class=\"data row4 col3\" >False</td>\n",
       "                        <td id=\"T_8fa940c2_8e17_11ea_a83b_7c04d0ce8464row4_col4\" class=\"data row4 col4\" >b'Harvard University Offers Free Course On #AI with #Python @Harvard #BigData #Analytics #DataScience #MachineLearning #IoT #IIoT #RStats #JavaScript #reactjs #CloudComputing #Serverless #DataScientist #Linux #Statistics #Programming #coding #100DaysofCode \\nhttps://t.co/H26hw13iMR https://t.co/xavpwIFNwv'</td>\n",
       "                        <td id=\"T_8fa940c2_8e17_11ea_a83b_7c04d0ce8464row4_col5\" class=\"data row4 col5\" >amardeep kaushal</td>\n",
       "                        <td id=\"T_8fa940c2_8e17_11ea_a83b_7c04d0ce8464row4_col6\" class=\"data row4 col6\" >amardeepkaushal</td>\n",
       "                        <td id=\"T_8fa940c2_8e17_11ea_a83b_7c04d0ce8464row4_col7\" class=\"data row4 col7\" >1256116009456545793</td>\n",
       "                        <td id=\"T_8fa940c2_8e17_11ea_a83b_7c04d0ce8464row4_col8\" class=\"data row4 col8\" >2020-05-01 06:59:28</td>\n",
       "                        <td id=\"T_8fa940c2_8e17_11ea_a83b_7c04d0ce8464row4_col9\" class=\"data row4 col9\" >['Harvard']</td>\n",
       "                        <td id=\"T_8fa940c2_8e17_11ea_a83b_7c04d0ce8464row4_col10\" class=\"data row4 col10\" >['AI', 'Python', 'BigData', 'Analytics', 'DataScience', 'MachineLearning', 'IoT', 'IIoT', 'RStats', 'JavaScript', 'reactjs', 'CloudComputing', 'Serverless', 'DataScientist', 'Linux', 'Statistics', 'Programming', 'coding', '100DaysofCode']</td>\n",
       "                        <td id=\"T_8fa940c2_8e17_11ea_a83b_7c04d0ce8464row4_col11\" class=\"data row4 col11\" >['https://online-learning.harvard.edu/course/cs50s-introduction-artificial-intelligence-python?delta=0']</td>\n",
       "            </tr>\n",
       "            <tr>\n",
       "                        <th id=\"T_8fa940c2_8e17_11ea_a83b_7c04d0ce8464level0_row5\" class=\"row_heading level0 row5\" ><a href=\"https://twitter.com/veerbahadur086/status/1256635613668876288\">1256635613668876288</a></th>\n",
       "                        <td id=\"T_8fa940c2_8e17_11ea_a83b_7c04d0ce8464row5_col0\" class=\"data row5 col0\" >None</td>\n",
       "                        <td id=\"T_8fa940c2_8e17_11ea_a83b_7c04d0ce8464row5_col1\" class=\"data row5 col1\" >None</td>\n",
       "                        <td id=\"T_8fa940c2_8e17_11ea_a83b_7c04d0ce8464row5_col2\" class=\"data row5 col2\" >3073369844</td>\n",
       "                        <td id=\"T_8fa940c2_8e17_11ea_a83b_7c04d0ce8464row5_col3\" class=\"data row5 col3\" >False</td>\n",
       "                        <td id=\"T_8fa940c2_8e17_11ea_a83b_7c04d0ce8464row5_col4\" class=\"data row5 col4\" >b'#\\xe0\\xa4\\x9c\\xe0\\xa4\\xaf\\xe0\\xa4\\xb6\\xe0\\xa5\\x8d\\xe0\\xa4\\xb0\\xe0\\xa5\\x80\\xe0\\xa4\\xb0\\xe0\\xa4\\xbe\\xe0\\xa4\\xae #\\xe0\\xa4\\x95\\xe0\\xa5\\x8b\\xe0\\xa4\\xb5\\xe0\\xa4\\xbf\\xe0\\xa4\\xa119 #Lockdown21 #\\xe0\\xa4\\xb0\\xe0\\xa4\\xbe\\xe0\\xa4\\xae\\xe0\\xa4\\xbe\\xe0\\xa4\\xaf\\xe0\\xa4\\xa3 #\\xe0\\xa4\\x9c\\xe0\\xa4\\xaf_\\xe0\\xa4\\xb6\\xe0\\xa5\\x8d\\xe0\\xa4\\xb0\\xe0\\xa5\\x80\\xe0\\xa4\\xb0\\xe0\\xa4\\xbe\\xe0\\xa4\\xae #\\xe0\\xa4\\xb6\\xe0\\xa5\\x8d\\xe0\\xa4\\xb0\\xe0\\xa5\\x80\\xe0\\xa4\\xb0\\xe0\\xa4\\xbe\\xe0\\xa4\\xae #\\xe0\\xa4\\xb0\\xe0\\xa4\\xbe\\xe0\\xa4\\xae #\\xe0\\xa4\\xb8\\xe0\\xa4\\xbf\\xe0\\xa4\\xaf\\xe0\\xa4\\xbe #\\xe0\\xa4\\xb0\\xe0\\xa4\\xbe\\xe0\\xa4\\xae\\xe0\\xa4\\xbe\\xe0\\xa4\\xaf\\xe0\\xa4\\xa3\\xe0\\xa4\\x9a\\xe0\\xa4\\xb0\\xe0\\xa5\\x8d\\xe0\\xa4\\x9a\\xe0\\xa4\\xbe #\\xe0\\xa4\\x89\\xe0\\xa4\\xa4\\xe0\\xa5\\x8d\\xe0\\xa4\\xa4\\xe0\\xa4\\xb0_\\xe0\\xa4\\xb0\\xe0\\xa4\\xbe\\xe0\\xa4\\xae\\xe0\\xa4\\xbe\\xe0\\xa4\\xaf\\xe0\\xa4\\xa3 #\\xe0\\xa4\\xb2\\xe0\\xa4\\x82\\xe0\\xa4\\x95\\xe0\\xa5\\x87\\xe0\\xa4\\xb6\\xe0\\xa5\\x8d\\xe0\\xa4\\xb5\\xe0\\xa4\\xb0 #\\xe0\\xa4\\xb8\\xe0\\xa5\\x81\\xe0\\xa4\\x97\\xe0\\xa5\\x8d\\xe0\\xa4\\xb0\\xe0\\xa5\\x80\\xe0\\xa4\\xb5 #\\xe0\\xa4\\xb5\\xe0\\xa4\\xbf\\xe0\\xa4\\xad\\xe0\\xa5\\x80\\xe0\\xa4\\xb7\\xe0\\xa4\\xa3 #\\xe0\\xa4\\xb2\\xe0\\xa4\\x95\\xe0\\xa5\\x8d\\xe0\\xa4\\xb7\\xe0\\xa5\\x8d\\xe0\\xa4\\xae\\xe0\\xa4\\xa3 #\\xe0\\xa4\\xad\\xe0\\xa4\\xb0\\xe0\\xa4\\xa4 #\\xe0\\xa4\\xb6\\xe0\\xa4\\xa4\\xe0\\xa5\\x8d\\xe0\\xa4\\xb0\\xe0\\xa5\\x81\\xe0\\xa4\\xa7\\xe0\\xa5\\x8d\\xe0\\xa4\\xa8 #\\xe0\\xa4\\xae\\xe0\\xa4\\xb9\\xe0\\xa4\\xbe\\xe0\\xa4\\xb5\\xe0\\xa5\\x80\\xe0\\xa4\\xb0 #\\xe0\\xa4\\xb9\\xe0\\xa4\\xa8\\xe0\\xa5\\x81\\xe0\\xa4\\xae\\xe0\\xa4\\xbe\\xe0\\xa4\\xa8 #\\xe0\\xa4\\xb2\\xe0\\xa4\\xb5\\xe0\\xa4\\x95\\xe0\\xa5\\x81\\xe0\\xa4\\xb6 #Ramayan #Ramayana #StayHome #RamayanOnDDNational #\\xe0\\xa4\\x9c\\xe0\\xa4\\xaf\\xe0\\xa4\\x9c\\xe0\\xa4\\xaf\\xe0\\xa4\\xb0\\xe0\\xa4\\xbe\\xe0\\xa4\\x9c\\xe0\\xa4\\xbe\\xe0\\xa4\\xb0\\xe0\\xa4\\xbe\\xe0\\xa4\\xae #\\xe0\\xa4\\x9c\\xe0\\xa4\\xaf_\\xe0\\xa4\\x9c\\xe0\\xa4\\x97\\xe0\\xa4\\xa6\\xe0\\xa5\\x80\\xe0\\xa4\\xb6_\\xe0\\xa4\\xb9\\xe0\\xa4\\xb0\\xe0\\xa5\\x87 #\\xe0\\xa4\\x9c\\xe0\\xa4\\xaf\\xe0\\xa4\\xb8\\xe0\\xa4\\xbf\\xe0\\xa4\\xaf\\xe0\\xa4\\xbe\\xe0\\xa4\\xb5\\xe0\\xa4\\xb0 #\\xe0\\xa4\\xb0\\xe0\\xa4\\xbe\\xe0\\xa4\\xae\\xe0\\xa4\\xbe\\xe0\\xa4\\xa8\\xe0\\xa4\\x82\\xe0\\xa4\\xa6_\\xe0\\xa4\\xb8\\xe0\\xa4\\xbe\\xe0\\xa4\\x97\\xe0\\xa4\\xb0 #Ram https://t.co/s06STc7QR2'</td>\n",
       "                        <td id=\"T_8fa940c2_8e17_11ea_a83b_7c04d0ce8464row5_col5\" class=\"data row5 col5\" >ठा. वीर बहादुर सिंह धाकरे एड.</td>\n",
       "                        <td id=\"T_8fa940c2_8e17_11ea_a83b_7c04d0ce8464row5_col6\" class=\"data row5 col6\" >veerbahadur086</td>\n",
       "                        <td id=\"T_8fa940c2_8e17_11ea_a83b_7c04d0ce8464row5_col7\" class=\"data row5 col7\" >1256635613668876288</td>\n",
       "                        <td id=\"T_8fa940c2_8e17_11ea_a83b_7c04d0ce8464row5_col8\" class=\"data row5 col8\" >2020-05-02 17:24:12</td>\n",
       "                        <td id=\"T_8fa940c2_8e17_11ea_a83b_7c04d0ce8464row5_col9\" class=\"data row5 col9\" >[]</td>\n",
       "                        <td id=\"T_8fa940c2_8e17_11ea_a83b_7c04d0ce8464row5_col10\" class=\"data row5 col10\" >['जयश्रीराम', 'कोविड19', 'Lockdown21', 'रामायण', 'जय_श्रीराम', 'श्रीराम', 'राम', 'सिया', 'रामायणचर्चा', 'उत्तर_रामायण', 'लंकेश्वर', 'सुग्रीव', 'विभीषण', 'लक्ष्मण', 'भरत', 'शत्रुध्न', 'महावीर', 'हनुमान', 'लवकुश', 'Ramayan', 'Ramayana', 'StayHome', 'RamayanOnDDNational', 'जयजयराजाराम', 'जय_जगदीश_हरे', 'जयसियावर', 'रामानंद_सागर', 'Ram']</td>\n",
       "                        <td id=\"T_8fa940c2_8e17_11ea_a83b_7c04d0ce8464row5_col11\" class=\"data row5 col11\" >[]</td>\n",
       "            </tr>\n",
       "            <tr>\n",
       "                        <th id=\"T_8fa940c2_8e17_11ea_a83b_7c04d0ce8464level0_row6\" class=\"row_heading level0 row6\" ><a href=\"https://twitter.com/CrescendoWorld/status/1257221974067228673\">1257221974067228673</a></th>\n",
       "                        <td id=\"T_8fa940c2_8e17_11ea_a83b_7c04d0ce8464row6_col0\" class=\"data row6 col0\" >None</td>\n",
       "                        <td id=\"T_8fa940c2_8e17_11ea_a83b_7c04d0ce8464row6_col1\" class=\"data row6 col1\" >None</td>\n",
       "                        <td id=\"T_8fa940c2_8e17_11ea_a83b_7c04d0ce8464row6_col2\" class=\"data row6 col2\" >281364468</td>\n",
       "                        <td id=\"T_8fa940c2_8e17_11ea_a83b_7c04d0ce8464row6_col3\" class=\"data row6 col3\" >False</td>\n",
       "                        <td id=\"T_8fa940c2_8e17_11ea_a83b_7c04d0ce8464row6_col4\" class=\"data row6 col4\" >b'The #ICT sector in #NRW is shaping the #future with #Cyber-Physical #Systems \\xe2\\x80\\x93 #intelligent #networked systems that facilitate smart products and services such as #SmartGrids and #emobility https://t.co/HpIZ0HGuYE'</td>\n",
       "                        <td id=\"T_8fa940c2_8e17_11ea_a83b_7c04d0ce8464row6_col5\" class=\"data row6 col5\" >Crescendo Worldwide</td>\n",
       "                        <td id=\"T_8fa940c2_8e17_11ea_a83b_7c04d0ce8464row6_col6\" class=\"data row6 col6\" >CrescendoWorld</td>\n",
       "                        <td id=\"T_8fa940c2_8e17_11ea_a83b_7c04d0ce8464row6_col7\" class=\"data row6 col7\" >1257221974067228673</td>\n",
       "                        <td id=\"T_8fa940c2_8e17_11ea_a83b_7c04d0ce8464row6_col8\" class=\"data row6 col8\" >2020-05-04 08:14:11</td>\n",
       "                        <td id=\"T_8fa940c2_8e17_11ea_a83b_7c04d0ce8464row6_col9\" class=\"data row6 col9\" >[]</td>\n",
       "                        <td id=\"T_8fa940c2_8e17_11ea_a83b_7c04d0ce8464row6_col10\" class=\"data row6 col10\" >['ICT', 'NRW', 'future', 'Cyber', 'Systems', 'intelligent', 'networked', 'SmartGrids', 'emobility']</td>\n",
       "                        <td id=\"T_8fa940c2_8e17_11ea_a83b_7c04d0ce8464row6_col11\" class=\"data row6 col11\" >[]</td>\n",
       "            </tr>\n",
       "            <tr>\n",
       "                        <th id=\"T_8fa940c2_8e17_11ea_a83b_7c04d0ce8464level0_row7\" class=\"row_heading level0 row7\" ><a href=\"https://twitter.com/Anand_arya246/status/1255052710535000064\">1255052710535000064</a></th>\n",
       "                        <td id=\"T_8fa940c2_8e17_11ea_a83b_7c04d0ce8464row7_col0\" class=\"data row7 col0\" >None</td>\n",
       "                        <td id=\"T_8fa940c2_8e17_11ea_a83b_7c04d0ce8464row7_col1\" class=\"data row7 col1\" >None</td>\n",
       "                        <td id=\"T_8fa940c2_8e17_11ea_a83b_7c04d0ce8464row7_col2\" class=\"data row7 col2\" >786165936067899392</td>\n",
       "                        <td id=\"T_8fa940c2_8e17_11ea_a83b_7c04d0ce8464row7_col3\" class=\"data row7 col3\" >False</td>\n",
       "                        <td id=\"T_8fa940c2_8e17_11ea_a83b_7c04d0ce8464row7_col4\" class=\"data row7 col4\" >b'#\\xe0\\xa4\\xb0\\xe0\\xa5\\x80\\xe0\\xa4\\xa2\\xe0\\xa4\\xbc_\\xe0\\xa4\\x95\\xe0\\xa5\\x80_\\xe0\\xa4\\xb9\\xe0\\xa4\\xa1\\xe0\\xa5\\x8d\\xe0\\xa4\\xa1\\xe0\\xa5\\x80 \\xe0\\xa4\\x95\\xe0\\xa5\\x87 \\xe0\\xa4\\xa6\\xe0\\xa4\\xb0\\xe0\\xa5\\x8d\\xe0\\xa4\\xa6 \\xe0\\xa4\\xb8\\xe0\\xa5\\x87 \\xe0\\xa4\\xac\\xe0\\xa4\\x9a\\xe0\\xa4\\xa8\\xe0\\xa5\\x87 \\xe0\\xa4\\x95\\xe0\\xa5\\x87 \\xe0\\xa4\\xb2\\xe0\\xa4\\xbf\\xe0\\xa4\\x8f \\xe0\\xa4\\x95\\xe0\\xa4\\xb0\\xe0\\xa5\\x87\\xe0\\xa4\\x82 \\n\\xe0\\xa4\\xaf\\xe0\\xa4\\xb9 \\xe0\\xa4\\x89\\xe0\\xa4\\xaa\\xe0\\xa4\\xbe\\xe0\\xa4\\xaf\\n#\\xe0\\xa4\\x85\\xe0\\xa4\\xa8\\xe0\\xa5\\x81\\xe0\\xa4\\xb2\\xe0\\xa5\\x8b\\xe0\\xa4\\xae_\\xe0\\xa4\\xb5\\xe0\\xa4\\xbf\\xe0\\xa4\\xb2\\xe0\\xa5\\x8b\\xe0\\xa4\\xae \\xe0\\xa4\\xaa\\xe0\\xa5\\x8d\\xe0\\xa4\\xb0\\xe0\\xa4\\xbe\\xe0\\xa4\\xa3\\xe0\\xa4\\xbe\\xe0\\xa4\\xaf\\xe0\\xa4\\xbe\\xe0\\xa4\\xae \\xe0\\xa4\\x95\\xe0\\xa4\\xb0\\xe0\\xa5\\x87\\xe0\\xa4\\x82\\xe0\\xa5\\xa4\\n#\\xe0\\xa4\\x89\\xe0\\xa4\\xb7\\xe0\\xa5\\x8d\\xe0\\xa4\\x9f\\xe0\\xa5\\x8d\\xe0\\xa4\\xb0\\xe0\\xa4\\xbe\\xe0\\xa4\\xb8\\xe0\\xa4\\xa8,#\\xe0\\xa4\\xad\\xe0\\xa5\\x81\\xe0\\xa4\\x9c\\xe0\\xa4\\x82\\xe0\\xa4\\x97\\xe0\\xa4\\xbe\\xe0\\xa4\\xb8\\xe0\\xa4\\xa8,#\\xe0\\xa4\\xae\\xe0\\xa4\\xb0\\xe0\\xa5\\x8d\\xe0\\xa4\\x95\\xe0\\xa4\\x9f\\xe0\\xa4\\xbe\\xe0\\xa4\\xb8\\xe0\\xa4\\xa8 \\xe0\\xa4\\x95\\xe0\\xa4\\xb0\\xe0\\xa5\\x87\\xe0\\xa4\\x82\\xe0\\xa5\\xa4\\n#\\xe0\\xa4\\xa6\\xe0\\xa5\\x82\\xe0\\xa4\\xa7_\\xe0\\xa4\\xae\\xe0\\xa5\\x87\\xe0\\xa4\\x82_\\xe0\\xa4\\xb9\\xe0\\xa4\\xb2\\xe0\\xa5\\x8d\\xe0\\xa4\\xa6\\xe0\\xa5\\x80 \\xe0\\xa4\\x94\\xe0\\xa4\\xb0 \\xe0\\xa4\\xb6\\xe0\\xa4\\xbf\\xe0\\xa4\\xb2\\xe0\\xa4\\xbe\\xe0\\xa4\\x9c\\xe0\\xa5\\x80\\xe0\\xa4\\xa4 \\xe0\\xa4\\xae\\xe0\\xa4\\xbf\\xe0\\xa4\\xb2\\xe0\\xa4\\xbe\\xe0\\xa4\\x95\\xe0\\xa4\\xb0 \\xe0\\xa4\\xaa\\xe0\\xa4\\xbf\\xe0\\xa4\\x8f\\xe0\\xa4\\x82\\xe0\\xa5\\xa4\\n#\\xe0\\xa4\\xb8\\xe0\\xa4\\xb0\\xe0\\xa4\\xb8\\xe0\\xa5\\x8b\\xe0\\xa4\\x82_\\xe0\\xa4\\x95\\xe0\\xa5\\x87_\\xe0\\xa4\\xa4\\xe0\\xa5\\x87\\xe0\\xa4\\xb2,\\xe0\\xa4\\xa4\\xe0\\xa4\\xbf\\xe0\\xa4\\xb2 \\xe0\\xa4\\x95\\xe0\\xa5\\x87 \\xe0\\xa4\\xa4\\xe0\\xa5\\x87\\xe0\\xa4\\xb2 \\xe0\\xa4\\xaf\\xe0\\xa4\\xbe #\\xe0\\xa4\\xaa\\xe0\\xa5\\x80\\xe0\\xa4\\xa1\\xe0\\xa4\\xbc\\xe0\\xa4\\xbe\\xe0\\xa4\\xa8\\xe0\\xa5\\x8d\\xe0\\xa4\\xa4\\xe0\\xa4\\x95_\\xe0\\xa4\\xa4\\xe0\\xa5\\x87\\xe0\\xa4\\xb2 \\xe0\\xa4\\xb8\\xe0\\xa5\\x87 \\xe0\\xa4\\xae\\xe0\\xa4\\xbe\\xe0\\xa4\\xb2\\xe0\\xa4\\xbf\\xe0\\xa4\\xb6 \\xe0\\xa4\\x95\\xe0\\xa4\\xb0\\xe0\\xa5\\x87\\xe0\\xa4\\x82\\xe0\\xa5\\xa4\\n#StayHomeStaySafe #\\xe0\\xa4\\x98\\xe0\\xa4\\xb0_\\xe0\\xa4\\xae\\xe0\\xa5\\x87\\xe0\\xa4\\x82_\\xe0\\xa4\\xb0\\xe0\\xa4\\xb9\\xe0\\xa5\\x87\\xe0\\xa4\\x82_\\xe0\\xa4\\xb8\\xe0\\xa5\\x81\\xe0\\xa4\\xb0\\xe0\\xa4\\x95\\xe0\\xa5\\x8d\\xe0\\xa4\\xb7\\xe0\\xa4\\xbf\\xe0\\xa4\\xa4_\\xe0\\xa4\\xb0\\xe0\\xa4\\xb9\\xe0\\xa5\\x87\\xe0\\xa4\\x82 #IndiaFightsCorona https://t.co/z1xCIvnUV2'</td>\n",
       "                        <td id=\"T_8fa940c2_8e17_11ea_a83b_7c04d0ce8464row7_col5\" class=\"data row7 col5\" >सोशलयोगी_Anand Arya</td>\n",
       "                        <td id=\"T_8fa940c2_8e17_11ea_a83b_7c04d0ce8464row7_col6\" class=\"data row7 col6\" >Anand_arya246</td>\n",
       "                        <td id=\"T_8fa940c2_8e17_11ea_a83b_7c04d0ce8464row7_col7\" class=\"data row7 col7\" >1255052710535000064</td>\n",
       "                        <td id=\"T_8fa940c2_8e17_11ea_a83b_7c04d0ce8464row7_col8\" class=\"data row7 col8\" >2020-04-28 08:34:18</td>\n",
       "                        <td id=\"T_8fa940c2_8e17_11ea_a83b_7c04d0ce8464row7_col9\" class=\"data row7 col9\" >[]</td>\n",
       "                        <td id=\"T_8fa940c2_8e17_11ea_a83b_7c04d0ce8464row7_col10\" class=\"data row7 col10\" >['रीढ़_की_हड्डी', 'अनुलोम_विलोम', 'उष्ट्रासन', 'भुजंगासन', 'मर्कटासन', 'दूध_में_हल्दी', 'सरसों_के_तेल', 'पीड़ान्तक_तेल', 'StayHomeStaySafe', 'घर_में_रहें_सुरक्षित_रहें', 'IndiaFightsCorona']</td>\n",
       "                        <td id=\"T_8fa940c2_8e17_11ea_a83b_7c04d0ce8464row7_col11\" class=\"data row7 col11\" >[]</td>\n",
       "            </tr>\n",
       "            <tr>\n",
       "                        <th id=\"T_8fa940c2_8e17_11ea_a83b_7c04d0ce8464level0_row8\" class=\"row_heading level0 row8\" ><a href=\"https://twitter.com/Rajput_Ramesh/status/1255125040565190656\">1255125040565190656</a></th>\n",
       "                        <td id=\"T_8fa940c2_8e17_11ea_a83b_7c04d0ce8464row8_col0\" class=\"data row8 col0\" >ManMundra</td>\n",
       "                        <td id=\"T_8fa940c2_8e17_11ea_a83b_7c04d0ce8464row8_col1\" class=\"data row8 col1\" >1255124965705252864</td>\n",
       "                        <td id=\"T_8fa940c2_8e17_11ea_a83b_7c04d0ce8464row8_col2\" class=\"data row8 col2\" >87643561</td>\n",
       "                        <td id=\"T_8fa940c2_8e17_11ea_a83b_7c04d0ce8464row8_col3\" class=\"data row8 col3\" >True</td>\n",
       "                        <td id=\"T_8fa940c2_8e17_11ea_a83b_7c04d0ce8464row8_col4\" class=\"data row8 col4\" >Wildlife Photography #cats #wild #africa #leopard #canon #BlackAndWhiteTwitter #art #passion #wildafrica #keepwalking #loveyourlife https://t.co/btrcSRR6pg</td>\n",
       "                        <td id=\"T_8fa940c2_8e17_11ea_a83b_7c04d0ce8464row8_col5\" class=\"data row8 col5\" >Ramesh Solanki</td>\n",
       "                        <td id=\"T_8fa940c2_8e17_11ea_a83b_7c04d0ce8464row8_col6\" class=\"data row8 col6\" >Rajput_Ramesh</td>\n",
       "                        <td id=\"T_8fa940c2_8e17_11ea_a83b_7c04d0ce8464row8_col7\" class=\"data row8 col7\" >1255125040565190656</td>\n",
       "                        <td id=\"T_8fa940c2_8e17_11ea_a83b_7c04d0ce8464row8_col8\" class=\"data row8 col8\" >2020-04-28 13:21:43</td>\n",
       "                        <td id=\"T_8fa940c2_8e17_11ea_a83b_7c04d0ce8464row8_col9\" class=\"data row8 col9\" >['ManMundra']</td>\n",
       "                        <td id=\"T_8fa940c2_8e17_11ea_a83b_7c04d0ce8464row8_col10\" class=\"data row8 col10\" >['cats', 'wild', 'africa', 'leopard', 'canon', 'BlackAndWhiteTwitter', 'art', 'passion', 'wildafrica', 'keepwalking']</td>\n",
       "                        <td id=\"T_8fa940c2_8e17_11ea_a83b_7c04d0ce8464row8_col11\" class=\"data row8 col11\" >[]</td>\n",
       "            </tr>\n",
       "            <tr>\n",
       "                        <th id=\"T_8fa940c2_8e17_11ea_a83b_7c04d0ce8464level0_row9\" class=\"row_heading level0 row9\" ><a href=\"https://twitter.com/BhausahebMuke/status/1255453073662709761\">1255453073662709761</a></th>\n",
       "                        <td id=\"T_8fa940c2_8e17_11ea_a83b_7c04d0ce8464row9_col0\" class=\"data row9 col0\" >None</td>\n",
       "                        <td id=\"T_8fa940c2_8e17_11ea_a83b_7c04d0ce8464row9_col1\" class=\"data row9 col1\" >None</td>\n",
       "                        <td id=\"T_8fa940c2_8e17_11ea_a83b_7c04d0ce8464row9_col2\" class=\"data row9 col2\" >2870430600</td>\n",
       "                        <td id=\"T_8fa940c2_8e17_11ea_a83b_7c04d0ce8464row9_col3\" class=\"data row9 col3\" >False</td>\n",
       "                        <td id=\"T_8fa940c2_8e17_11ea_a83b_7c04d0ce8464row9_col4\" class=\"data row9 col4\" >b'#\\xe0\\xa4\\x95\\xe0\\xa5\\x8b\\xe0\\xa4\\xb0\\xe0\\xa5\\x8b\\xe0\\xa4\\xa8\\xe0\\xa4\\xbe\\xe0\\xa4\\x97\\xe0\\xa5\\x8d\\xe0\\xa4\\xb0\\xe0\\xa4\\xb8\\xe0\\xa5\\x8d\\xe0\\xa4\\xa4 #\\xe0\\xa4\\xb6\\xe0\\xa5\\x87\\xe0\\xa4\\xb0\\xe0\\xa5\\x8b\\xe0\\xa4\\xa1\\xe0\\xa4\\xbe \\xe0\\xa4\\xa4\\xe0\\xa4\\xbe.\\xe0\\xa4\\xaa\\xe0\\xa4\\xb0\\xe0\\xa4\\xa4\\xe0\\xa5\\x82\\xe0\\xa4\\xb0 \\xe0\\xa4\\xaf\\xe0\\xa5\\x87\\xe0\\xa4\\xa5\\xe0\\xa5\\x80\\xe0\\xa4\\xb2 #\\xe0\\xa4\\xae\\xe0\\xa4\\xb9\\xe0\\xa4\\xbf\\xe0\\xa4\\xb2\\xe0\\xa4\\xbe_\\xe0\\xa4\\xaa\\xe0\\xa5\\x82\\xe0\\xa4\\xb0\\xe0\\xa5\\x8d\\xe0\\xa4\\xa3\\xe0\\xa4\\xaa\\xe0\\xa4\\xa3\\xe0\\xa5\\x87_\\xe0\\xa4\\xac\\xe0\\xa4\\xb0\\xe0\\xa5\\x80_\\xe0\\xa4\\x9d\\xe0\\xa4\\xbe\\xe0\\xa4\\xb2\\xe0\\xa5\\x8d\\xe0\\xa4\\xaf\\xe0\\xa4\\xbe\\xe0\\xa4\\xa8\\xe0\\xa4\\x82\\xe0\\xa4\\xa4\\xe0\\xa4\\xb0 \\xe0\\xa4\\xa4\\xe0\\xa5\\x8d\\xe0\\xa4\\xaf\\xe0\\xa4\\xbe\\xe0\\xa4\\x82\\xe0\\xa4\\xa8\\xe0\\xa4\\xbe \\xe0\\xa4\\x9c\\xe0\\xa4\\xbf\\xe0\\xa4\\xb2\\xe0\\xa5\\x8d\\xe0\\xa4\\xb9\\xe0\\xa4\\xbe \\xe0\\xa4\\xb8\\xe0\\xa4\\xb0\\xe0\\xa4\\x95\\xe0\\xa4\\xbe\\xe0\\xa4\\xb0\\xe0\\xa5\\x80 #\\xe0\\xa4\\xb0\\xe0\\xa5\\x81\\xe0\\xa4\\x97\\xe0\\xa5\\x8d\\xe0\\xa4\\xa3\\xe0\\xa4\\xbe\\xe0\\xa4\\xb2\\xe0\\xa4\\xaf\\xe0\\xa4\\xbe\\xe0\\xa4\\xa4\\xe0\\xa5\\x82\\xe0\\xa4\\xa8 #\\xe0\\xa4\\xb8\\xe0\\xa5\\x81\\xe0\\xa4\\x9f\\xe0\\xa5\\x8d\\xe0\\xa4\\x9f\\xe0\\xa5\\x80 \\xe0\\xa4\\xa6\\xe0\\xa5\\x87\\xe0\\xa4\\xa3\\xe0\\xa5\\x8d\\xe0\\xa4\\xaf\\xe0\\xa4\\xbe\\xe0\\xa4\\xa4 \\xe0\\xa4\\x86\\xe0\\xa4\\xb2\\xe0\\xa5\\x80. \\xe0\\xa4\\xa4\\xe0\\xa5\\x8d\\xe0\\xa4\\xaf\\xe0\\xa4\\xbe\\xe0\\xa4\\xb5\\xe0\\xa5\\x87\\xe0\\xa4\\xb3\\xe0\\xa5\\x80 #\\xe0\\xa4\\x86\\xe0\\xa4\\xb0\\xe0\\xa5\\x8b\\xe0\\xa4\\x97\\xe0\\xa5\\x8d\\xe0\\xa4\\xaf_\\xe0\\xa4\\x95\\xe0\\xa4\\xb0\\xe0\\xa5\\x8d\\xe0\\xa4\\xae\\xe0\\xa4\\x9a\\xe0\\xa4\\xbe\\xe0\\xa4\\xb1\\xe0\\xa5\\x8d\\xe0\\xa4\\xaf\\xe0\\xa4\\xbe\\xe0\\xa4\\x82\\xe0\\xa4\\xa8\\xe0\\xa5\\x80 \\xe0\\xa4\\xa4\\xe0\\xa5\\x8d\\xe0\\xa4\\xaf\\xe0\\xa4\\xbe\\xe0\\xa4\\x82\\xe0\\xa4\\xa8\\xe0\\xa4\\xbe #\\xe0\\xa4\\xa8\\xe0\\xa4\\xbf\\xe0\\xa4\\xb0\\xe0\\xa5\\x8b\\xe0\\xa4\\xaa \\xe0\\xa4\\xa6\\xe0\\xa4\\xbf\\xe0\\xa4\\xb2\\xe0\\xa4\\xbe.\\n#\\xe0\\xa4\\x97\\xe0\\xa5\\x8b_\\xe0\\xa4\\x95\\xe0\\xa5\\x8b\\xe0\\xa4\\xb0\\xe0\\xa5\\x8b\\xe0\\xa4\\xa8\\xe0\\xa4\\xbe \\n#CoronavirusIndia https://t.co/ACtto2qtc5'</td>\n",
       "                        <td id=\"T_8fa940c2_8e17_11ea_a83b_7c04d0ce8464row9_col5\" class=\"data row9 col5\" >Bhausaheb Patil Muke</td>\n",
       "                        <td id=\"T_8fa940c2_8e17_11ea_a83b_7c04d0ce8464row9_col6\" class=\"data row9 col6\" >BhausahebMuke</td>\n",
       "                        <td id=\"T_8fa940c2_8e17_11ea_a83b_7c04d0ce8464row9_col7\" class=\"data row9 col7\" >1255453073662709761</td>\n",
       "                        <td id=\"T_8fa940c2_8e17_11ea_a83b_7c04d0ce8464row9_col8\" class=\"data row9 col8\" >2020-04-29 11:05:12</td>\n",
       "                        <td id=\"T_8fa940c2_8e17_11ea_a83b_7c04d0ce8464row9_col9\" class=\"data row9 col9\" >[]</td>\n",
       "                        <td id=\"T_8fa940c2_8e17_11ea_a83b_7c04d0ce8464row9_col10\" class=\"data row9 col10\" >['कोरोनाग्रस्त', 'शेरोडा', 'महिला_पूर्णपणे_बरी_झाल्यानंतर', 'रुग्णालयातून', 'सुट्टी', 'आरोग्य_कर्मचाऱ्यांनी', 'निरोप', 'गो_कोरोना', 'CoronavirusIndia']</td>\n",
       "                        <td id=\"T_8fa940c2_8e17_11ea_a83b_7c04d0ce8464row9_col11\" class=\"data row9 col11\" >[]</td>\n",
       "            </tr>\n",
       "    </tbody></table>"
      ],
      "text/plain": [
       "<pandas.io.formats.style.Styler at 0x2fdbb1588>"
      ]
     },
     "metadata": {},
     "output_type": "display_data"
    }
   ],
   "source": [
    "get_tagwise_tweets(fetched_hits[fetched_hits.tag == lookup_tag])"
   ]
  },
  {
   "cell_type": "markdown",
   "metadata": {},
   "source": [
    "Here, you may see the top hits within the same tag"
   ]
  },
  {
   "cell_type": "code",
   "execution_count": 110,
   "metadata": {},
   "outputs": [
    {
     "name": "stdout",
     "output_type": "stream",
     "text": [
      ">> Enter how many of the top hits you would like to view: 10\n",
      "...Getting a summary of top 10 hits\n",
      "...Done!\n"
     ]
    },
    {
     "data": {
      "text/html": [
       "<div>\n",
       "<style scoped>\n",
       "    .dataframe tbody tr th:only-of-type {\n",
       "        vertical-align: middle;\n",
       "    }\n",
       "\n",
       "    .dataframe tbody tr th {\n",
       "        vertical-align: top;\n",
       "    }\n",
       "\n",
       "    .dataframe thead th {\n",
       "        text-align: right;\n",
       "    }\n",
       "</style>\n",
       "<table border=\"1\" class=\"dataframe\">\n",
       "  <thead>\n",
       "    <tr style=\"text-align: right;\">\n",
       "      <th></th>\n",
       "      <th>hit_count</th>\n",
       "      <th>hit_share</th>\n",
       "      <th>tweet_count</th>\n",
       "      <th>tweet_share</th>\n",
       "      <th>map_count</th>\n",
       "      <th>node_count</th>\n",
       "      <th>node_share</th>\n",
       "    </tr>\n",
       "    <tr>\n",
       "      <th>hit_value</th>\n",
       "      <th></th>\n",
       "      <th></th>\n",
       "      <th></th>\n",
       "      <th></th>\n",
       "      <th></th>\n",
       "      <th></th>\n",
       "      <th></th>\n",
       "    </tr>\n",
       "  </thead>\n",
       "  <tbody>\n",
       "    <tr>\n",
       "      <th>COVID19</th>\n",
       "      <td>4899</td>\n",
       "      <td>3.40</td>\n",
       "      <td>4727</td>\n",
       "      <td>5.86</td>\n",
       "      <td>2</td>\n",
       "      <td>1127</td>\n",
       "      <td>18.82</td>\n",
       "    </tr>\n",
       "    <tr>\n",
       "      <th>IrrfanKhan</th>\n",
       "      <td>2345</td>\n",
       "      <td>1.63</td>\n",
       "      <td>2212</td>\n",
       "      <td>2.74</td>\n",
       "      <td>1</td>\n",
       "      <td>839</td>\n",
       "      <td>14.01</td>\n",
       "    </tr>\n",
       "    <tr>\n",
       "      <th>IndiaFightsCorona</th>\n",
       "      <td>2218</td>\n",
       "      <td>1.54</td>\n",
       "      <td>2018</td>\n",
       "      <td>2.50</td>\n",
       "      <td>1</td>\n",
       "      <td>543</td>\n",
       "      <td>9.07</td>\n",
       "    </tr>\n",
       "    <tr>\n",
       "      <th>RishiKapoor</th>\n",
       "      <td>1928</td>\n",
       "      <td>1.34</td>\n",
       "      <td>1827</td>\n",
       "      <td>2.26</td>\n",
       "      <td>2</td>\n",
       "      <td>644</td>\n",
       "      <td>10.76</td>\n",
       "    </tr>\n",
       "    <tr>\n",
       "      <th>coronavirus</th>\n",
       "      <td>1916</td>\n",
       "      <td>1.33</td>\n",
       "      <td>1876</td>\n",
       "      <td>2.33</td>\n",
       "      <td>2</td>\n",
       "      <td>534</td>\n",
       "      <td>8.92</td>\n",
       "    </tr>\n",
       "    <tr>\n",
       "      <th>lockdown</th>\n",
       "      <td>1467</td>\n",
       "      <td>1.02</td>\n",
       "      <td>1421</td>\n",
       "      <td>1.76</td>\n",
       "      <td>2</td>\n",
       "      <td>584</td>\n",
       "      <td>9.75</td>\n",
       "    </tr>\n",
       "    <tr>\n",
       "      <th>CoronavirusOutbreak</th>\n",
       "      <td>1421</td>\n",
       "      <td>0.99</td>\n",
       "      <td>1416</td>\n",
       "      <td>1.76</td>\n",
       "      <td>1</td>\n",
       "      <td>92</td>\n",
       "      <td>1.54</td>\n",
       "    </tr>\n",
       "    <tr>\n",
       "      <th>Coronavirus</th>\n",
       "      <td>1375</td>\n",
       "      <td>0.96</td>\n",
       "      <td>1339</td>\n",
       "      <td>1.66</td>\n",
       "      <td>2</td>\n",
       "      <td>246</td>\n",
       "      <td>4.11</td>\n",
       "    </tr>\n",
       "    <tr>\n",
       "      <th>Covid19</th>\n",
       "      <td>1283</td>\n",
       "      <td>0.89</td>\n",
       "      <td>1256</td>\n",
       "      <td>1.56</td>\n",
       "      <td>2</td>\n",
       "      <td>440</td>\n",
       "      <td>7.35</td>\n",
       "    </tr>\n",
       "    <tr>\n",
       "      <th>Lockdown</th>\n",
       "      <td>1228</td>\n",
       "      <td>0.85</td>\n",
       "      <td>1183</td>\n",
       "      <td>1.47</td>\n",
       "      <td>1</td>\n",
       "      <td>399</td>\n",
       "      <td>6.66</td>\n",
       "    </tr>\n",
       "  </tbody>\n",
       "</table>\n",
       "</div>"
      ],
      "text/plain": [
       "                     hit_count  hit_share  tweet_count  tweet_share  \\\n",
       "hit_value                                                             \n",
       "COVID19                   4899       3.40         4727         5.86   \n",
       "IrrfanKhan                2345       1.63         2212         2.74   \n",
       "IndiaFightsCorona         2218       1.54         2018         2.50   \n",
       "RishiKapoor               1928       1.34         1827         2.26   \n",
       "coronavirus               1916       1.33         1876         2.33   \n",
       "lockdown                  1467       1.02         1421         1.76   \n",
       "CoronavirusOutbreak       1421       0.99         1416         1.76   \n",
       "Coronavirus               1375       0.96         1339         1.66   \n",
       "Covid19                   1283       0.89         1256         1.56   \n",
       "Lockdown                  1228       0.85         1183         1.47   \n",
       "\n",
       "                     map_count  node_count  node_share  \n",
       "hit_value                                               \n",
       "COVID19                      2        1127       18.82  \n",
       "IrrfanKhan                   1         839       14.01  \n",
       "IndiaFightsCorona            1         543        9.07  \n",
       "RishiKapoor                  2         644       10.76  \n",
       "coronavirus                  2         534        8.92  \n",
       "lockdown                     2         584        9.75  \n",
       "CoronavirusOutbreak          1          92        1.54  \n",
       "Coronavirus                  2         246        4.11  \n",
       "Covid19                      2         440        7.35  \n",
       "Lockdown                     1         399        6.66  "
      ]
     },
     "execution_count": 110,
     "metadata": {},
     "output_type": "execute_result"
    }
   ],
   "source": [
    "get_top_x_trends(fetched_hits[fetched_hits.tag == lookup_tag])"
   ]
  },
  {
   "cell_type": "markdown",
   "metadata": {},
   "source": [
    "### Run this cell to fully analyze fetched hits\n",
    "You may enter whether or not to drop Commercial hits and duplicates\n",
    "You may search for a particular phrase\n",
    "You may choose to narrow data down within a particular tag\n",
    "\n",
    "The result will contain top URLs, top influencers, top tweet texts, and other information"
   ]
  },
  {
   "cell_type": "code",
   "execution_count": 111,
   "metadata": {},
   "outputs": [
    {
     "name": "stdout",
     "output_type": "stream",
     "text": [
      ">> Do you want to drop Commercial hits for this analysis? (y/n) \n",
      "y\n",
      ">> Do you want to drop duplicate hits for this analysis? (y/n) \n",
      "y\n",
      ">> Enter hit to search and analyze: projectwhispers\n",
      ">> Found 4 hits. To continue with this, enter (y), otherwise hit Enter and try a different search: \n",
      ">> Enter hit to search and analyze: stopconfinement\n",
      ">> Found 22 hits. To continue with this, enter (y), otherwise hit Enter and try a different search: gates\n",
      ">> Enter hit to search and analyze: gates\n",
      ">> Found 2183 hits. To continue with this, enter (y), otherwise hit Enter and try a different search: \n",
      ">> Enter hit to search and analyze: biden\n",
      ">> Found 11080 hits. To continue with this, enter (y), otherwise hit Enter and try a different search: \n",
      ">> Enter hit to search and analyze: bernie\n",
      ">> Found 1759 hits. To continue with this, enter (y), otherwise hit Enter and try a different search: \n",
      ">> Enter hit to search and analyze: gates\n",
      ">> Found 2183 hits. To continue with this, enter (y), otherwise hit Enter and try a different search: y\n",
      ">> Do you want to narrow down the analysis to a single tag? If so, enter one of the following:\n",
      "['India', 'Other', 'US Right', 'Enviromentalists', 'Climate Change Denial', 'AUS Right', 'Mainstream Media', 'Unclustered', 'CAN Right', 'US Left', 'UK Brexit', 'Taiwan', 'China Democracy', 'UK Left', 'Conspiracy', 'Alt Media/Conspiracy', 'SMM', 'Mainstream media', 'Pro-Palestine', 'Sanders Support', 'EU Right', 'Pro-Kremlin', 'Russia'] \n",
      "Else, hit Enter: \n",
      "...Getting 1732 tweets\n",
      "...Done!\n"
     ]
    },
    {
     "data": {
      "text/html": [
       "<span style=\"color:black\"><h2>...The first 3 tweets in this collection are: </h2></span>"
      ],
      "text/plain": [
       "<IPython.core.display.HTML object>"
      ]
     },
     "metadata": {},
     "output_type": "display_data"
    },
    {
     "data": {
      "text/html": [
       "<div>\n",
       "<style scoped>\n",
       "    .dataframe tbody tr th:only-of-type {\n",
       "        vertical-align: middle;\n",
       "    }\n",
       "\n",
       "    .dataframe tbody tr th {\n",
       "        vertical-align: top;\n",
       "    }\n",
       "\n",
       "    .dataframe thead th {\n",
       "        text-align: right;\n",
       "    }\n",
       "</style>\n",
       "<table border=\"1\" class=\"dataframe\">\n",
       "  <thead>\n",
       "    <tr style=\"text-align: right;\">\n",
       "      <th></th>\n",
       "      <th>retweet_screen_name</th>\n",
       "      <th>retweet_tweet_id</th>\n",
       "      <th>user_id</th>\n",
       "      <th>retweet</th>\n",
       "      <th>text</th>\n",
       "      <th>author</th>\n",
       "      <th>screen_name</th>\n",
       "      <th>tweet_id</th>\n",
       "      <th>time</th>\n",
       "      <th>mentions</th>\n",
       "      <th>hashtags</th>\n",
       "      <th>urls</th>\n",
       "      <th>node_id</th>\n",
       "      <th>message_id</th>\n",
       "      <th>hit_time</th>\n",
       "      <th>map_id</th>\n",
       "      <th>cluster_id</th>\n",
       "      <th>hit_type</th>\n",
       "      <th>map_name</th>\n",
       "      <th>map_id_count</th>\n",
       "      <th>unique_id</th>\n",
       "      <th>tag</th>\n",
       "    </tr>\n",
       "    <tr>\n",
       "      <th>hit_value</th>\n",
       "      <th></th>\n",
       "      <th></th>\n",
       "      <th></th>\n",
       "      <th></th>\n",
       "      <th></th>\n",
       "      <th></th>\n",
       "      <th></th>\n",
       "      <th></th>\n",
       "      <th></th>\n",
       "      <th></th>\n",
       "      <th></th>\n",
       "      <th></th>\n",
       "      <th></th>\n",
       "      <th></th>\n",
       "      <th></th>\n",
       "      <th></th>\n",
       "      <th></th>\n",
       "      <th></th>\n",
       "      <th></th>\n",
       "      <th></th>\n",
       "      <th></th>\n",
       "      <th></th>\n",
       "    </tr>\n",
       "  </thead>\n",
       "  <tbody>\n",
       "    <tr>\n",
       "      <th>BillGatesIsNotOurFriend</th>\n",
       "      <td>None</td>\n",
       "      <td>None</td>\n",
       "      <td>1647288204</td>\n",
       "      <td>False</td>\n",
       "      <td>b'@ScottMorrisonMP This is totally wrong! Get ...</td>\n",
       "      <td>Trump2020</td>\n",
       "      <td>TrumpPatriot22</td>\n",
       "      <td>1254705173072494593</td>\n",
       "      <td>2020-04-27 09:33:19</td>\n",
       "      <td>[ScottMorrisonMP]</td>\n",
       "      <td>[BillGatesIsNotOurFriend]</td>\n",
       "      <td>[]</td>\n",
       "      <td>1647288204</td>\n",
       "      <td>1254705173072494593</td>\n",
       "      <td>2020-04-27 09:33:19</td>\n",
       "      <td>2434</td>\n",
       "      <td>18</td>\n",
       "      <td>hashtags</td>\n",
       "      <td>Coronavirus_Disinfo_2</td>\n",
       "      <td>1</td>\n",
       "      <td>2434.18</td>\n",
       "      <td>Conspiracy</td>\n",
       "    </tr>\n",
       "    <tr>\n",
       "      <th>billgates</th>\n",
       "      <td>None</td>\n",
       "      <td>None</td>\n",
       "      <td>19873250</td>\n",
       "      <td>False</td>\n",
       "      <td>b'#billgates has a plan in place to bring abou...</td>\n",
       "      <td>Think2Know</td>\n",
       "      <td>jasdude</td>\n",
       "      <td>1254706880561233920</td>\n",
       "      <td>2020-04-27 09:40:06</td>\n",
       "      <td>[]</td>\n",
       "      <td>[billgates]</td>\n",
       "      <td>[https://twitter.com/mattletiss7/status/125438...</td>\n",
       "      <td>19873250</td>\n",
       "      <td>1254706880561233920</td>\n",
       "      <td>2020-04-27 09:40:06</td>\n",
       "      <td>1527</td>\n",
       "      <td>7</td>\n",
       "      <td>hashtags</td>\n",
       "      <td>Emotional_Rescue_Mentions_2</td>\n",
       "      <td>1</td>\n",
       "      <td>1527.7</td>\n",
       "      <td>Conspiracy</td>\n",
       "    </tr>\n",
       "    <tr>\n",
       "      <th>BillGates</th>\n",
       "      <td>Beg1Girl</td>\n",
       "      <td>1254503490052915201</td>\n",
       "      <td>22895239</td>\n",
       "      <td>True</td>\n",
       "      <td>I’m not filing my “Census Report Out”\\n\\nNo to...</td>\n",
       "      <td>Wired X</td>\n",
       "      <td>wiredx1</td>\n",
       "      <td>1254707695946514434</td>\n",
       "      <td>2020-04-27 09:43:20</td>\n",
       "      <td>[Beg1Girl]</td>\n",
       "      <td>[BillGates]</td>\n",
       "      <td>[]</td>\n",
       "      <td>22895239</td>\n",
       "      <td>1254707695946514434</td>\n",
       "      <td>2020-04-27 09:43:20</td>\n",
       "      <td>2364</td>\n",
       "      <td>49</td>\n",
       "      <td>hashtags</td>\n",
       "      <td>QAnon_Feb 2020</td>\n",
       "      <td>1</td>\n",
       "      <td>2364.49</td>\n",
       "      <td>Conspiracy</td>\n",
       "    </tr>\n",
       "  </tbody>\n",
       "</table>\n",
       "</div>"
      ],
      "text/plain": [
       "                        retweet_screen_name     retweet_tweet_id     user_id  \\\n",
       "hit_value                                                                      \n",
       "BillGatesIsNotOurFriend                None                 None  1647288204   \n",
       "billgates                              None                 None    19873250   \n",
       "BillGates                          Beg1Girl  1254503490052915201    22895239   \n",
       "\n",
       "                         retweet  \\\n",
       "hit_value                          \n",
       "BillGatesIsNotOurFriend    False   \n",
       "billgates                  False   \n",
       "BillGates                   True   \n",
       "\n",
       "                                                                      text  \\\n",
       "hit_value                                                                    \n",
       "BillGatesIsNotOurFriend  b'@ScottMorrisonMP This is totally wrong! Get ...   \n",
       "billgates                b'#billgates has a plan in place to bring abou...   \n",
       "BillGates                I’m not filing my “Census Report Out”\\n\\nNo to...   \n",
       "\n",
       "                             author     screen_name             tweet_id  \\\n",
       "hit_value                                                                  \n",
       "BillGatesIsNotOurFriend   Trump2020  TrumpPatriot22  1254705173072494593   \n",
       "billgates                Think2Know         jasdude  1254706880561233920   \n",
       "BillGates                   Wired X         wiredx1  1254707695946514434   \n",
       "\n",
       "                                       time           mentions  \\\n",
       "hit_value                                                        \n",
       "BillGatesIsNotOurFriend 2020-04-27 09:33:19  [ScottMorrisonMP]   \n",
       "billgates               2020-04-27 09:40:06                 []   \n",
       "BillGates               2020-04-27 09:43:20         [Beg1Girl]   \n",
       "\n",
       "                                          hashtags  \\\n",
       "hit_value                                            \n",
       "BillGatesIsNotOurFriend  [BillGatesIsNotOurFriend]   \n",
       "billgates                              [billgates]   \n",
       "BillGates                              [BillGates]   \n",
       "\n",
       "                                                                      urls  \\\n",
       "hit_value                                                                    \n",
       "BillGatesIsNotOurFriend                                                 []   \n",
       "billgates                [https://twitter.com/mattletiss7/status/125438...   \n",
       "BillGates                                                               []   \n",
       "\n",
       "                            node_id           message_id            hit_time  \\\n",
       "hit_value                                                                      \n",
       "BillGatesIsNotOurFriend  1647288204  1254705173072494593 2020-04-27 09:33:19   \n",
       "billgates                  19873250  1254706880561233920 2020-04-27 09:40:06   \n",
       "BillGates                  22895239  1254707695946514434 2020-04-27 09:43:20   \n",
       "\n",
       "                        map_id cluster_id  hit_type  \\\n",
       "hit_value                                             \n",
       "BillGatesIsNotOurFriend   2434         18  hashtags   \n",
       "billgates                 1527          7  hashtags   \n",
       "BillGates                 2364         49  hashtags   \n",
       "\n",
       "                                            map_name  map_id_count unique_id  \\\n",
       "hit_value                                                                      \n",
       "BillGatesIsNotOurFriend        Coronavirus_Disinfo_2             1   2434.18   \n",
       "billgates                Emotional_Rescue_Mentions_2             1    1527.7   \n",
       "BillGates                             QAnon_Feb 2020             1   2364.49   \n",
       "\n",
       "                                tag  \n",
       "hit_value                            \n",
       "BillGatesIsNotOurFriend  Conspiracy  \n",
       "billgates                Conspiracy  \n",
       "BillGates                Conspiracy  "
      ]
     },
     "metadata": {},
     "output_type": "display_data"
    },
    {
     "data": {
      "text/html": [
       "<span style=\"color:black\"><h2>...Getting top URLs associated with this hit</h2></span>"
      ],
      "text/plain": [
       "<IPython.core.display.HTML object>"
      ]
     },
     "metadata": {},
     "output_type": "display_data"
    },
    {
     "data": {
      "text/html": [
       "<style  type=\"text/css\" >\n",
       "</style><table id=\"T_2e202c34_8e18_11ea_87f4_7c04d0ce8464\" ><thead>    <tr>        <th class=\"blank level0\" ></th>        <th class=\"col_heading level0 col0\" >nodes</th>        <th class=\"col_heading level0 col1\" >tweets</th>    </tr>    <tr>        <th class=\"index_name level0\" >URL</th>        <th class=\"blank\" ></th>        <th class=\"blank\" ></th>    </tr></thead><tbody>\n",
       "                <tr>\n",
       "                        <th id=\"T_2e202c34_8e18_11ea_87f4_7c04d0ce8464level0_row0\" class=\"row_heading level0 row0\" ><a href=\"https://youtu.be/4JR5o_oVH20\">https://youtu.be/4JR5o_oVH20</a></th>\n",
       "                        <td id=\"T_2e202c34_8e18_11ea_87f4_7c04d0ce8464row0_col0\" class=\"data row0 col0\" >5</td>\n",
       "                        <td id=\"T_2e202c34_8e18_11ea_87f4_7c04d0ce8464row0_col1\" class=\"data row0 col1\" >5</td>\n",
       "            </tr>\n",
       "            <tr>\n",
       "                        <th id=\"T_2e202c34_8e18_11ea_87f4_7c04d0ce8464level0_row1\" class=\"row_heading level0 row1\" ><a href=\"https://greatgameindia.com/how-bill-gates-infiltrated-global-health/\">https://greatgameindia.com/how-bill-gates-infiltrated-global-health/</a></th>\n",
       "                        <td id=\"T_2e202c34_8e18_11ea_87f4_7c04d0ce8464row1_col0\" class=\"data row1 col0\" >3</td>\n",
       "                        <td id=\"T_2e202c34_8e18_11ea_87f4_7c04d0ce8464row1_col1\" class=\"data row1 col1\" >3</td>\n",
       "            </tr>\n",
       "            <tr>\n",
       "                        <th id=\"T_2e202c34_8e18_11ea_87f4_7c04d0ce8464level0_row2\" class=\"row_heading level0 row2\" ><a href=\"https://youtu.be/PmeN39295xI\">https://youtu.be/PmeN39295xI</a></th>\n",
       "                        <td id=\"T_2e202c34_8e18_11ea_87f4_7c04d0ce8464row2_col0\" class=\"data row2 col0\" >3</td>\n",
       "                        <td id=\"T_2e202c34_8e18_11ea_87f4_7c04d0ce8464row2_col1\" class=\"data row2 col1\" >3</td>\n",
       "            </tr>\n",
       "            <tr>\n",
       "                        <th id=\"T_2e202c34_8e18_11ea_87f4_7c04d0ce8464level0_row3\" class=\"row_heading level0 row3\" ><a href=\"https://twitter.com/Chicago1Ray/status/1254193216116662272\">https://twitter.com/Chicago1Ray/status/1254193216116662272</a></th>\n",
       "                        <td id=\"T_2e202c34_8e18_11ea_87f4_7c04d0ce8464row3_col0\" class=\"data row3 col0\" >3</td>\n",
       "                        <td id=\"T_2e202c34_8e18_11ea_87f4_7c04d0ce8464row3_col1\" class=\"data row3 col1\" >3</td>\n",
       "            </tr>\n",
       "            <tr>\n",
       "                        <th id=\"T_2e202c34_8e18_11ea_87f4_7c04d0ce8464level0_row4\" class=\"row_heading level0 row4\" ><a href=\"https://youtu.be/N8p5mxZTHdE\">https://youtu.be/N8p5mxZTHdE</a></th>\n",
       "                        <td id=\"T_2e202c34_8e18_11ea_87f4_7c04d0ce8464row4_col0\" class=\"data row4 col0\" >1</td>\n",
       "                        <td id=\"T_2e202c34_8e18_11ea_87f4_7c04d0ce8464row4_col1\" class=\"data row4 col1\" >2</td>\n",
       "            </tr>\n",
       "    </tbody></table>"
      ],
      "text/plain": [
       "<pandas.io.formats.style.Styler at 0x4462b8b38>"
      ]
     },
     "metadata": {},
     "output_type": "display_data"
    },
    {
     "data": {
      "text/html": [
       "<span style=\"color:black\"><h2>...Checking for influence of 5 most active nodes</h2></span>"
      ],
      "text/plain": [
       "<IPython.core.display.HTML object>"
      ]
     },
     "metadata": {},
     "output_type": "display_data"
    },
    {
     "data": {
      "text/html": [
       "<span style=\"color:black\">15618020 @jshakka(@jshakka) is a top account active in:</span>"
      ],
      "text/plain": [
       "<IPython.core.display.HTML object>"
      ]
     },
     "metadata": {},
     "output_type": "display_data"
    },
    {
     "data": {
      "text/html": [
       "<div>\n",
       "<style scoped>\n",
       "    .dataframe tbody tr th:only-of-type {\n",
       "        vertical-align: middle;\n",
       "    }\n",
       "\n",
       "    .dataframe tbody tr th {\n",
       "        vertical-align: top;\n",
       "    }\n",
       "\n",
       "    .dataframe thead th {\n",
       "        text-align: right;\n",
       "    }\n",
       "</style>\n",
       "<table border=\"1\" class=\"dataframe\">\n",
       "  <thead>\n",
       "    <tr style=\"text-align: right;\">\n",
       "      <th></th>\n",
       "      <th>Conspiracy</th>\n",
       "    </tr>\n",
       "  </thead>\n",
       "  <tbody>\n",
       "    <tr>\n",
       "      <th>count</th>\n",
       "      <td>35</td>\n",
       "    </tr>\n",
       "  </tbody>\n",
       "</table>\n",
       "</div>"
      ],
      "text/plain": [
       "       Conspiracy\n",
       "count          35"
      ]
     },
     "metadata": {},
     "output_type": "display_data"
    },
    {
     "data": {
      "text/html": [
       "<span style=\"color:black\">1241374232543662081 Antredec(@antredec) is a top account active in:</span>"
      ],
      "text/plain": [
       "<IPython.core.display.HTML object>"
      ]
     },
     "metadata": {},
     "output_type": "display_data"
    },
    {
     "data": {
      "text/html": [
       "<div>\n",
       "<style scoped>\n",
       "    .dataframe tbody tr th:only-of-type {\n",
       "        vertical-align: middle;\n",
       "    }\n",
       "\n",
       "    .dataframe tbody tr th {\n",
       "        vertical-align: top;\n",
       "    }\n",
       "\n",
       "    .dataframe thead th {\n",
       "        text-align: right;\n",
       "    }\n",
       "</style>\n",
       "<table border=\"1\" class=\"dataframe\">\n",
       "  <thead>\n",
       "    <tr style=\"text-align: right;\">\n",
       "      <th></th>\n",
       "      <th>Conspiracy</th>\n",
       "    </tr>\n",
       "  </thead>\n",
       "  <tbody>\n",
       "    <tr>\n",
       "      <th>count</th>\n",
       "      <td>29</td>\n",
       "    </tr>\n",
       "  </tbody>\n",
       "</table>\n",
       "</div>"
      ],
      "text/plain": [
       "       Conspiracy\n",
       "count          29"
      ]
     },
     "metadata": {},
     "output_type": "display_data"
    },
    {
     "data": {
      "text/html": [
       "<span style=\"color:black\">40056734 Lawrence G(@larryhert_10) is a top account active in:</span>"
      ],
      "text/plain": [
       "<IPython.core.display.HTML object>"
      ]
     },
     "metadata": {},
     "output_type": "display_data"
    },
    {
     "data": {
      "text/html": [
       "<div>\n",
       "<style scoped>\n",
       "    .dataframe tbody tr th:only-of-type {\n",
       "        vertical-align: middle;\n",
       "    }\n",
       "\n",
       "    .dataframe tbody tr th {\n",
       "        vertical-align: top;\n",
       "    }\n",
       "\n",
       "    .dataframe thead th {\n",
       "        text-align: right;\n",
       "    }\n",
       "</style>\n",
       "<table border=\"1\" class=\"dataframe\">\n",
       "  <thead>\n",
       "    <tr style=\"text-align: right;\">\n",
       "      <th></th>\n",
       "      <th>Conspiracy</th>\n",
       "    </tr>\n",
       "  </thead>\n",
       "  <tbody>\n",
       "    <tr>\n",
       "      <th>count</th>\n",
       "      <td>14</td>\n",
       "    </tr>\n",
       "  </tbody>\n",
       "</table>\n",
       "</div>"
      ],
      "text/plain": [
       "       Conspiracy\n",
       "count          14"
      ]
     },
     "metadata": {},
     "output_type": "display_data"
    },
    {
     "data": {
      "text/html": [
       "<span style=\"color:black\">4895085192 Sammy MBA USA 🇺🇸🙏(@sammymbausa) is a top account active in:</span>"
      ],
      "text/plain": [
       "<IPython.core.display.HTML object>"
      ]
     },
     "metadata": {},
     "output_type": "display_data"
    },
    {
     "data": {
      "text/html": [
       "<div>\n",
       "<style scoped>\n",
       "    .dataframe tbody tr th:only-of-type {\n",
       "        vertical-align: middle;\n",
       "    }\n",
       "\n",
       "    .dataframe tbody tr th {\n",
       "        vertical-align: top;\n",
       "    }\n",
       "\n",
       "    .dataframe thead th {\n",
       "        text-align: right;\n",
       "    }\n",
       "</style>\n",
       "<table border=\"1\" class=\"dataframe\">\n",
       "  <thead>\n",
       "    <tr style=\"text-align: right;\">\n",
       "      <th></th>\n",
       "      <th>Conspiracy</th>\n",
       "    </tr>\n",
       "  </thead>\n",
       "  <tbody>\n",
       "    <tr>\n",
       "      <th>count</th>\n",
       "      <td>13</td>\n",
       "    </tr>\n",
       "  </tbody>\n",
       "</table>\n",
       "</div>"
      ],
      "text/plain": [
       "       Conspiracy\n",
       "count          13"
      ]
     },
     "metadata": {},
     "output_type": "display_data"
    },
    {
     "data": {
      "text/html": [
       "<span style=\"color:black\">1133262938893148160 Runs With Scissors(@AGWHOAX1) is a top account active in:</span>"
      ],
      "text/plain": [
       "<IPython.core.display.HTML object>"
      ]
     },
     "metadata": {},
     "output_type": "display_data"
    },
    {
     "data": {
      "text/html": [
       "<div>\n",
       "<style scoped>\n",
       "    .dataframe tbody tr th:only-of-type {\n",
       "        vertical-align: middle;\n",
       "    }\n",
       "\n",
       "    .dataframe tbody tr th {\n",
       "        vertical-align: top;\n",
       "    }\n",
       "\n",
       "    .dataframe thead th {\n",
       "        text-align: right;\n",
       "    }\n",
       "</style>\n",
       "<table border=\"1\" class=\"dataframe\">\n",
       "  <thead>\n",
       "    <tr style=\"text-align: right;\">\n",
       "      <th></th>\n",
       "      <th>Climate Change Denial</th>\n",
       "      <th>Enviromentalists</th>\n",
       "    </tr>\n",
       "  </thead>\n",
       "  <tbody>\n",
       "    <tr>\n",
       "      <th>count</th>\n",
       "      <td>6</td>\n",
       "      <td>6</td>\n",
       "    </tr>\n",
       "  </tbody>\n",
       "</table>\n",
       "</div>"
      ],
      "text/plain": [
       "       Climate Change Denial  Enviromentalists\n",
       "count                      6                 6"
      ]
     },
     "metadata": {},
     "output_type": "display_data"
    },
    {
     "data": {
      "text/html": [
       "<span style=\"color:black\"><h2>...The hits for this search break down as follows across Graphika's tags: </h2></span>"
      ],
      "text/plain": [
       "<IPython.core.display.HTML object>"
      ]
     },
     "metadata": {},
     "output_type": "display_data"
    },
    {
     "data": {
      "text/html": [
       "<span style=\"color:black\"><h3><u>Conspiracy</u></h3></span>"
      ],
      "text/plain": [
       "<IPython.core.display.HTML object>"
      ]
     },
     "metadata": {},
     "output_type": "display_data"
    },
    {
     "data": {
      "text/html": [
       "<div>\n",
       "<style scoped>\n",
       "    .dataframe tbody tr th:only-of-type {\n",
       "        vertical-align: middle;\n",
       "    }\n",
       "\n",
       "    .dataframe tbody tr th {\n",
       "        vertical-align: top;\n",
       "    }\n",
       "\n",
       "    .dataframe thead th {\n",
       "        text-align: right;\n",
       "    }\n",
       "</style>\n",
       "<table border=\"1\" class=\"dataframe\">\n",
       "  <thead>\n",
       "    <tr style=\"text-align: right;\">\n",
       "      <th></th>\n",
       "      <th>hit_value</th>\n",
       "    </tr>\n",
       "  </thead>\n",
       "  <tbody>\n",
       "    <tr>\n",
       "      <th>BillGates</th>\n",
       "      <td>544</td>\n",
       "    </tr>\n",
       "    <tr>\n",
       "      <th>BillGatesIsEvil</th>\n",
       "      <td>105</td>\n",
       "    </tr>\n",
       "    <tr>\n",
       "      <th>Gates</th>\n",
       "      <td>73</td>\n",
       "    </tr>\n",
       "    <tr>\n",
       "      <th>BillGatesVirus</th>\n",
       "      <td>53</td>\n",
       "    </tr>\n",
       "    <tr>\n",
       "      <th>ArrestBillGates</th>\n",
       "      <td>51</td>\n",
       "    </tr>\n",
       "  </tbody>\n",
       "</table>\n",
       "</div>"
      ],
      "text/plain": [
       "                 hit_value\n",
       "BillGates              544\n",
       "BillGatesIsEvil        105\n",
       "Gates                   73\n",
       "BillGatesVirus          53\n",
       "ArrestBillGates         51"
      ]
     },
     "metadata": {},
     "output_type": "display_data"
    },
    {
     "data": {
      "text/html": [
       "<span style=\"color:black\"><h3><u>US Right</u></h3></span>"
      ],
      "text/plain": [
       "<IPython.core.display.HTML object>"
      ]
     },
     "metadata": {},
     "output_type": "display_data"
    },
    {
     "data": {
      "text/html": [
       "<div>\n",
       "<style scoped>\n",
       "    .dataframe tbody tr th:only-of-type {\n",
       "        vertical-align: middle;\n",
       "    }\n",
       "\n",
       "    .dataframe tbody tr th {\n",
       "        vertical-align: top;\n",
       "    }\n",
       "\n",
       "    .dataframe thead th {\n",
       "        text-align: right;\n",
       "    }\n",
       "</style>\n",
       "<table border=\"1\" class=\"dataframe\">\n",
       "  <thead>\n",
       "    <tr style=\"text-align: right;\">\n",
       "      <th></th>\n",
       "      <th>hit_value</th>\n",
       "    </tr>\n",
       "  </thead>\n",
       "  <tbody>\n",
       "    <tr>\n",
       "      <th>BillGates</th>\n",
       "      <td>30</td>\n",
       "    </tr>\n",
       "    <tr>\n",
       "      <th>GatesFoundation</th>\n",
       "      <td>7</td>\n",
       "    </tr>\n",
       "    <tr>\n",
       "      <th>BillGatesIsEvil</th>\n",
       "      <td>5</td>\n",
       "    </tr>\n",
       "    <tr>\n",
       "      <th>BillGatesIsNotOurFriend</th>\n",
       "      <td>5</td>\n",
       "    </tr>\n",
       "    <tr>\n",
       "      <th>BillGatesBioTerrorist</th>\n",
       "      <td>4</td>\n",
       "    </tr>\n",
       "  </tbody>\n",
       "</table>\n",
       "</div>"
      ],
      "text/plain": [
       "                         hit_value\n",
       "BillGates                       30\n",
       "GatesFoundation                  7\n",
       "BillGatesIsEvil                  5\n",
       "BillGatesIsNotOurFriend          5\n",
       "BillGatesBioTerrorist            4"
      ]
     },
     "metadata": {},
     "output_type": "display_data"
    },
    {
     "data": {
      "text/html": [
       "<span style=\"color:black\"><h3><u>India</u></h3></span>"
      ],
      "text/plain": [
       "<IPython.core.display.HTML object>"
      ]
     },
     "metadata": {},
     "output_type": "display_data"
    },
    {
     "data": {
      "text/html": [
       "<div>\n",
       "<style scoped>\n",
       "    .dataframe tbody tr th:only-of-type {\n",
       "        vertical-align: middle;\n",
       "    }\n",
       "\n",
       "    .dataframe tbody tr th {\n",
       "        vertical-align: top;\n",
       "    }\n",
       "\n",
       "    .dataframe thead th {\n",
       "        text-align: right;\n",
       "    }\n",
       "</style>\n",
       "<table border=\"1\" class=\"dataframe\">\n",
       "  <thead>\n",
       "    <tr style=\"text-align: right;\">\n",
       "      <th></th>\n",
       "      <th>hit_value</th>\n",
       "    </tr>\n",
       "  </thead>\n",
       "  <tbody>\n",
       "    <tr>\n",
       "      <th>BillGates</th>\n",
       "      <td>12</td>\n",
       "    </tr>\n",
       "    <tr>\n",
       "      <th>OrderAtTheGates</th>\n",
       "      <td>3</td>\n",
       "    </tr>\n",
       "    <tr>\n",
       "      <th>SayNoToBillGates</th>\n",
       "      <td>1</td>\n",
       "    </tr>\n",
       "    <tr>\n",
       "      <th>BillGatesIsEvil</th>\n",
       "      <td>1</td>\n",
       "    </tr>\n",
       "    <tr>\n",
       "      <th>STFUGates</th>\n",
       "      <td>1</td>\n",
       "    </tr>\n",
       "  </tbody>\n",
       "</table>\n",
       "</div>"
      ],
      "text/plain": [
       "                  hit_value\n",
       "BillGates                12\n",
       "OrderAtTheGates           3\n",
       "SayNoToBillGates          1\n",
       "BillGatesIsEvil           1\n",
       "STFUGates                 1"
      ]
     },
     "metadata": {},
     "output_type": "display_data"
    },
    {
     "data": {
      "text/html": [
       "<span style=\"color:black\"><h3><u>UK Brexit</u></h3></span>"
      ],
      "text/plain": [
       "<IPython.core.display.HTML object>"
      ]
     },
     "metadata": {},
     "output_type": "display_data"
    },
    {
     "data": {
      "text/html": [
       "<div>\n",
       "<style scoped>\n",
       "    .dataframe tbody tr th:only-of-type {\n",
       "        vertical-align: middle;\n",
       "    }\n",
       "\n",
       "    .dataframe tbody tr th {\n",
       "        vertical-align: top;\n",
       "    }\n",
       "\n",
       "    .dataframe thead th {\n",
       "        text-align: right;\n",
       "    }\n",
       "</style>\n",
       "<table border=\"1\" class=\"dataframe\">\n",
       "  <thead>\n",
       "    <tr style=\"text-align: right;\">\n",
       "      <th></th>\n",
       "      <th>hit_value</th>\n",
       "    </tr>\n",
       "  </thead>\n",
       "  <tbody>\n",
       "    <tr>\n",
       "      <th>BillGates</th>\n",
       "      <td>11</td>\n",
       "    </tr>\n",
       "    <tr>\n",
       "      <th>GatesFoundation</th>\n",
       "      <td>2</td>\n",
       "    </tr>\n",
       "    <tr>\n",
       "      <th>BillAndMelindaGatesFoundation</th>\n",
       "      <td>1</td>\n",
       "    </tr>\n",
       "    <tr>\n",
       "      <th>BillGatesVirus</th>\n",
       "      <td>1</td>\n",
       "    </tr>\n",
       "    <tr>\n",
       "      <th>arrestbillgates</th>\n",
       "      <td>1</td>\n",
       "    </tr>\n",
       "  </tbody>\n",
       "</table>\n",
       "</div>"
      ],
      "text/plain": [
       "                               hit_value\n",
       "BillGates                             11\n",
       "GatesFoundation                        2\n",
       "BillAndMelindaGatesFoundation          1\n",
       "BillGatesVirus                         1\n",
       "arrestbillgates                        1"
      ]
     },
     "metadata": {},
     "output_type": "display_data"
    },
    {
     "data": {
      "text/html": [
       "<span style=\"color:black\"><h3><u>AUS Right</u></h3></span>"
      ],
      "text/plain": [
       "<IPython.core.display.HTML object>"
      ]
     },
     "metadata": {},
     "output_type": "display_data"
    },
    {
     "data": {
      "text/html": [
       "<div>\n",
       "<style scoped>\n",
       "    .dataframe tbody tr th:only-of-type {\n",
       "        vertical-align: middle;\n",
       "    }\n",
       "\n",
       "    .dataframe tbody tr th {\n",
       "        vertical-align: top;\n",
       "    }\n",
       "\n",
       "    .dataframe thead th {\n",
       "        text-align: right;\n",
       "    }\n",
       "</style>\n",
       "<table border=\"1\" class=\"dataframe\">\n",
       "  <thead>\n",
       "    <tr style=\"text-align: right;\">\n",
       "      <th></th>\n",
       "      <th>hit_value</th>\n",
       "    </tr>\n",
       "  </thead>\n",
       "  <tbody>\n",
       "    <tr>\n",
       "      <th>BillGates</th>\n",
       "      <td>10</td>\n",
       "    </tr>\n",
       "    <tr>\n",
       "      <th>BillGatesVirus</th>\n",
       "      <td>1</td>\n",
       "    </tr>\n",
       "    <tr>\n",
       "      <th>Gates</th>\n",
       "      <td>1</td>\n",
       "    </tr>\n",
       "    <tr>\n",
       "      <th>GatesFoundation</th>\n",
       "      <td>1</td>\n",
       "    </tr>\n",
       "    <tr>\n",
       "      <th>ArrestBillGates</th>\n",
       "      <td>1</td>\n",
       "    </tr>\n",
       "  </tbody>\n",
       "</table>\n",
       "</div>"
      ],
      "text/plain": [
       "                 hit_value\n",
       "BillGates               10\n",
       "BillGatesVirus           1\n",
       "Gates                    1\n",
       "GatesFoundation          1\n",
       "ArrestBillGates          1"
      ]
     },
     "metadata": {},
     "output_type": "display_data"
    },
    {
     "data": {
      "text/html": [
       "<span style=\"color:black\"><h3><u>Mainstream media</u></h3></span>"
      ],
      "text/plain": [
       "<IPython.core.display.HTML object>"
      ]
     },
     "metadata": {},
     "output_type": "display_data"
    },
    {
     "data": {
      "text/html": [
       "<div>\n",
       "<style scoped>\n",
       "    .dataframe tbody tr th:only-of-type {\n",
       "        vertical-align: middle;\n",
       "    }\n",
       "\n",
       "    .dataframe tbody tr th {\n",
       "        vertical-align: top;\n",
       "    }\n",
       "\n",
       "    .dataframe thead th {\n",
       "        text-align: right;\n",
       "    }\n",
       "</style>\n",
       "<table border=\"1\" class=\"dataframe\">\n",
       "  <thead>\n",
       "    <tr style=\"text-align: right;\">\n",
       "      <th></th>\n",
       "      <th>hit_value</th>\n",
       "    </tr>\n",
       "  </thead>\n",
       "  <tbody>\n",
       "    <tr>\n",
       "      <th>BillGates</th>\n",
       "      <td>8</td>\n",
       "    </tr>\n",
       "    <tr>\n",
       "      <th>GatesAndCoAreEnemiesOfHumanity</th>\n",
       "      <td>1</td>\n",
       "    </tr>\n",
       "    <tr>\n",
       "      <th>gatesfoundation</th>\n",
       "      <td>1</td>\n",
       "    </tr>\n",
       "    <tr>\n",
       "      <th>BillGatesVirus</th>\n",
       "      <td>1</td>\n",
       "    </tr>\n",
       "    <tr>\n",
       "      <th>billgates</th>\n",
       "      <td>1</td>\n",
       "    </tr>\n",
       "  </tbody>\n",
       "</table>\n",
       "</div>"
      ],
      "text/plain": [
       "                                hit_value\n",
       "BillGates                               8\n",
       "GatesAndCoAreEnemiesOfHumanity          1\n",
       "gatesfoundation                         1\n",
       "BillGatesVirus                          1\n",
       "billgates                               1"
      ]
     },
     "metadata": {},
     "output_type": "display_data"
    },
    {
     "data": {
      "text/html": [
       "<span style=\"color:black\"><h3><u>Enviromentalists</u></h3></span>"
      ],
      "text/plain": [
       "<IPython.core.display.HTML object>"
      ]
     },
     "metadata": {},
     "output_type": "display_data"
    },
    {
     "data": {
      "text/html": [
       "<div>\n",
       "<style scoped>\n",
       "    .dataframe tbody tr th:only-of-type {\n",
       "        vertical-align: middle;\n",
       "    }\n",
       "\n",
       "    .dataframe tbody tr th {\n",
       "        vertical-align: top;\n",
       "    }\n",
       "\n",
       "    .dataframe thead th {\n",
       "        text-align: right;\n",
       "    }\n",
       "</style>\n",
       "<table border=\"1\" class=\"dataframe\">\n",
       "  <thead>\n",
       "    <tr style=\"text-align: right;\">\n",
       "      <th></th>\n",
       "      <th>hit_value</th>\n",
       "    </tr>\n",
       "  </thead>\n",
       "  <tbody>\n",
       "    <tr>\n",
       "      <th>BillGates</th>\n",
       "      <td>5</td>\n",
       "    </tr>\n",
       "    <tr>\n",
       "      <th>BillGatesOfHell</th>\n",
       "      <td>4</td>\n",
       "    </tr>\n",
       "    <tr>\n",
       "      <th>GATES</th>\n",
       "      <td>1</td>\n",
       "    </tr>\n",
       "    <tr>\n",
       "      <th>BillGatesFoundation</th>\n",
       "      <td>1</td>\n",
       "    </tr>\n",
       "    <tr>\n",
       "      <th>Gates</th>\n",
       "      <td>1</td>\n",
       "    </tr>\n",
       "  </tbody>\n",
       "</table>\n",
       "</div>"
      ],
      "text/plain": [
       "                     hit_value\n",
       "BillGates                    5\n",
       "BillGatesOfHell              4\n",
       "GATES                        1\n",
       "BillGatesFoundation          1\n",
       "Gates                        1"
      ]
     },
     "metadata": {},
     "output_type": "display_data"
    },
    {
     "data": {
      "text/html": [
       "<span style=\"color:black\"><h3><u>Climate Change Denial</u></h3></span>"
      ],
      "text/plain": [
       "<IPython.core.display.HTML object>"
      ]
     },
     "metadata": {},
     "output_type": "display_data"
    },
    {
     "data": {
      "text/html": [
       "<div>\n",
       "<style scoped>\n",
       "    .dataframe tbody tr th:only-of-type {\n",
       "        vertical-align: middle;\n",
       "    }\n",
       "\n",
       "    .dataframe tbody tr th {\n",
       "        vertical-align: top;\n",
       "    }\n",
       "\n",
       "    .dataframe thead th {\n",
       "        text-align: right;\n",
       "    }\n",
       "</style>\n",
       "<table border=\"1\" class=\"dataframe\">\n",
       "  <thead>\n",
       "    <tr style=\"text-align: right;\">\n",
       "      <th></th>\n",
       "      <th>hit_value</th>\n",
       "    </tr>\n",
       "  </thead>\n",
       "  <tbody>\n",
       "    <tr>\n",
       "      <th>BillGatesOfHell</th>\n",
       "      <td>4</td>\n",
       "    </tr>\n",
       "    <tr>\n",
       "      <th>BillGates</th>\n",
       "      <td>4</td>\n",
       "    </tr>\n",
       "    <tr>\n",
       "      <th>GATES</th>\n",
       "      <td>1</td>\n",
       "    </tr>\n",
       "    <tr>\n",
       "      <th>BillGatesIsNotOurFriend</th>\n",
       "      <td>1</td>\n",
       "    </tr>\n",
       "    <tr>\n",
       "      <th>BillGatesFoundation</th>\n",
       "      <td>1</td>\n",
       "    </tr>\n",
       "  </tbody>\n",
       "</table>\n",
       "</div>"
      ],
      "text/plain": [
       "                         hit_value\n",
       "BillGatesOfHell                  4\n",
       "BillGates                        4\n",
       "GATES                            1\n",
       "BillGatesIsNotOurFriend          1\n",
       "BillGatesFoundation              1"
      ]
     },
     "metadata": {},
     "output_type": "display_data"
    },
    {
     "data": {
      "text/html": [
       "<span style=\"color:black\"><h3><u>UK Left</u></h3></span>"
      ],
      "text/plain": [
       "<IPython.core.display.HTML object>"
      ]
     },
     "metadata": {},
     "output_type": "display_data"
    },
    {
     "data": {
      "text/html": [
       "<div>\n",
       "<style scoped>\n",
       "    .dataframe tbody tr th:only-of-type {\n",
       "        vertical-align: middle;\n",
       "    }\n",
       "\n",
       "    .dataframe tbody tr th {\n",
       "        vertical-align: top;\n",
       "    }\n",
       "\n",
       "    .dataframe thead th {\n",
       "        text-align: right;\n",
       "    }\n",
       "</style>\n",
       "<table border=\"1\" class=\"dataframe\">\n",
       "  <thead>\n",
       "    <tr style=\"text-align: right;\">\n",
       "      <th></th>\n",
       "      <th>hit_value</th>\n",
       "    </tr>\n",
       "  </thead>\n",
       "  <tbody>\n",
       "    <tr>\n",
       "      <th>BillGates</th>\n",
       "      <td>10</td>\n",
       "    </tr>\n",
       "    <tr>\n",
       "      <th>Gates</th>\n",
       "      <td>2</td>\n",
       "    </tr>\n",
       "    <tr>\n",
       "      <th>SayNoToBillGates</th>\n",
       "      <td>1</td>\n",
       "    </tr>\n",
       "    <tr>\n",
       "      <th>BillGatesBioTerrorist</th>\n",
       "      <td>1</td>\n",
       "    </tr>\n",
       "  </tbody>\n",
       "</table>\n",
       "</div>"
      ],
      "text/plain": [
       "                       hit_value\n",
       "BillGates                     10\n",
       "Gates                          2\n",
       "SayNoToBillGates               1\n",
       "BillGatesBioTerrorist          1"
      ]
     },
     "metadata": {},
     "output_type": "display_data"
    },
    {
     "data": {
      "text/html": [
       "<span style=\"color:black\"><h3><u>Sanders Support</u></h3></span>"
      ],
      "text/plain": [
       "<IPython.core.display.HTML object>"
      ]
     },
     "metadata": {},
     "output_type": "display_data"
    },
    {
     "data": {
      "text/html": [
       "<div>\n",
       "<style scoped>\n",
       "    .dataframe tbody tr th:only-of-type {\n",
       "        vertical-align: middle;\n",
       "    }\n",
       "\n",
       "    .dataframe tbody tr th {\n",
       "        vertical-align: top;\n",
       "    }\n",
       "\n",
       "    .dataframe thead th {\n",
       "        text-align: right;\n",
       "    }\n",
       "</style>\n",
       "<table border=\"1\" class=\"dataframe\">\n",
       "  <thead>\n",
       "    <tr style=\"text-align: right;\">\n",
       "      <th></th>\n",
       "      <th>hit_value</th>\n",
       "    </tr>\n",
       "  </thead>\n",
       "  <tbody>\n",
       "    <tr>\n",
       "      <th>BillGatesIsEvil</th>\n",
       "      <td>5</td>\n",
       "    </tr>\n",
       "    <tr>\n",
       "      <th>BillGates</th>\n",
       "      <td>3</td>\n",
       "    </tr>\n",
       "    <tr>\n",
       "      <th>BillGatesVirus</th>\n",
       "      <td>2</td>\n",
       "    </tr>\n",
       "    <tr>\n",
       "      <th>Gates</th>\n",
       "      <td>1</td>\n",
       "    </tr>\n",
       "    <tr>\n",
       "      <th>GatesFoundation</th>\n",
       "      <td>1</td>\n",
       "    </tr>\n",
       "  </tbody>\n",
       "</table>\n",
       "</div>"
      ],
      "text/plain": [
       "                 hit_value\n",
       "BillGatesIsEvil          5\n",
       "BillGates                3\n",
       "BillGatesVirus           2\n",
       "Gates                    1\n",
       "GatesFoundation          1"
      ]
     },
     "metadata": {},
     "output_type": "display_data"
    },
    {
     "data": {
      "text/html": [
       "<span style=\"color:black\"><h2>...The following are the top 5 tweets' texts for each of Graphika's tags: </h2></span>"
      ],
      "text/plain": [
       "<IPython.core.display.HTML object>"
      ]
     },
     "metadata": {},
     "output_type": "display_data"
    },
    {
     "data": {
      "text/html": [
       "<span style=\"color:black\"><h3><u>Conspiracy</u></h3></span>"
      ],
      "text/plain": [
       "<IPython.core.display.HTML object>"
      ]
     },
     "metadata": {},
     "output_type": "display_data"
    },
    {
     "data": {
      "text/html": [
       "<span style=\"color:black\">--> 52 retweet(s) in tag Conspiracy:</span>"
      ],
      "text/plain": [
       "<IPython.core.display.HTML object>"
      ]
     },
     "metadata": {},
     "output_type": "display_data"
    },
    {
     "data": {
      "text/html": [
       "<div>\n",
       "<style scoped>\n",
       "    .dataframe tbody tr th:only-of-type {\n",
       "        vertical-align: middle;\n",
       "    }\n",
       "\n",
       "    .dataframe tbody tr th {\n",
       "        vertical-align: top;\n",
       "    }\n",
       "\n",
       "    .dataframe thead th {\n",
       "        text-align: right;\n",
       "    }\n",
       "</style>\n",
       "<table border=\"1\" class=\"dataframe\">\n",
       "  <thead>\n",
       "    <tr style=\"text-align: right;\">\n",
       "      <th></th>\n",
       "      <th>Conspiracy</th>\n",
       "      <th>Climate Change Denial</th>\n",
       "      <th>Enviromentalists</th>\n",
       "    </tr>\n",
       "  </thead>\n",
       "  <tbody>\n",
       "    <tr>\n",
       "      <th>count</th>\n",
       "      <td>52</td>\n",
       "      <td>1</td>\n",
       "      <td>1</td>\n",
       "    </tr>\n",
       "  </tbody>\n",
       "</table>\n",
       "</div>"
      ],
      "text/plain": [
       "       Conspiracy  Climate Change Denial  Enviromentalists\n",
       "count          52                      1                 1"
      ]
     },
     "metadata": {},
     "output_type": "display_data"
    },
    {
     "data": {
      "text/html": [
       "<span style=\"color:black\"><a href=\"https://twitter.com/HenryMakow/status/1254984509109538822\">If you loathe vaccine pushing globalist eugenicist #BillGates, and if you plan to REFUSE to take ANY vaccine he funds, \"mandatory\" or not, please retweet this. https://t.co/xorA4L3WPl</a></span>"
      ],
      "text/plain": [
       "<IPython.core.display.HTML object>"
      ]
     },
     "metadata": {},
     "output_type": "display_data"
    },
    {
     "data": {
      "text/html": [
       "<span style=\"color:black\">--> 34 retweet(s) in tag Conspiracy:</span>"
      ],
      "text/plain": [
       "<IPython.core.display.HTML object>"
      ]
     },
     "metadata": {},
     "output_type": "display_data"
    },
    {
     "data": {
      "text/html": [
       "<div>\n",
       "<style scoped>\n",
       "    .dataframe tbody tr th:only-of-type {\n",
       "        vertical-align: middle;\n",
       "    }\n",
       "\n",
       "    .dataframe tbody tr th {\n",
       "        vertical-align: top;\n",
       "    }\n",
       "\n",
       "    .dataframe thead th {\n",
       "        text-align: right;\n",
       "    }\n",
       "</style>\n",
       "<table border=\"1\" class=\"dataframe\">\n",
       "  <thead>\n",
       "    <tr style=\"text-align: right;\">\n",
       "      <th></th>\n",
       "      <th>Conspiracy</th>\n",
       "    </tr>\n",
       "  </thead>\n",
       "  <tbody>\n",
       "    <tr>\n",
       "      <th>count</th>\n",
       "      <td>34</td>\n",
       "    </tr>\n",
       "  </tbody>\n",
       "</table>\n",
       "</div>"
      ],
      "text/plain": [
       "       Conspiracy\n",
       "count          34"
      ]
     },
     "metadata": {},
     "output_type": "display_data"
    },
    {
     "data": {
      "text/html": [
       "<span style=\"color:black\"><a href=\"https://twitter.com/Churchmom8/status/1256768249280073729\">#FireFauci #BillGatesIsEvil #BillGatesVirus @POTUS @realDonaldTrump https://t.co/dC0Nhmf1tl</a></span>"
      ],
      "text/plain": [
       "<IPython.core.display.HTML object>"
      ]
     },
     "metadata": {},
     "output_type": "display_data"
    },
    {
     "data": {
      "text/html": [
       "<span style=\"color:black\">--> 29 retweet(s) in tag Conspiracy:</span>"
      ],
      "text/plain": [
       "<IPython.core.display.HTML object>"
      ]
     },
     "metadata": {},
     "output_type": "display_data"
    },
    {
     "data": {
      "text/html": [
       "<div>\n",
       "<style scoped>\n",
       "    .dataframe tbody tr th:only-of-type {\n",
       "        vertical-align: middle;\n",
       "    }\n",
       "\n",
       "    .dataframe tbody tr th {\n",
       "        vertical-align: top;\n",
       "    }\n",
       "\n",
       "    .dataframe thead th {\n",
       "        text-align: right;\n",
       "    }\n",
       "</style>\n",
       "<table border=\"1\" class=\"dataframe\">\n",
       "  <thead>\n",
       "    <tr style=\"text-align: right;\">\n",
       "      <th></th>\n",
       "      <th>Conspiracy</th>\n",
       "      <th>US Right</th>\n",
       "      <th>Mainstream media</th>\n",
       "    </tr>\n",
       "  </thead>\n",
       "  <tbody>\n",
       "    <tr>\n",
       "      <th>count</th>\n",
       "      <td>29</td>\n",
       "      <td>4</td>\n",
       "      <td>1</td>\n",
       "    </tr>\n",
       "  </tbody>\n",
       "</table>\n",
       "</div>"
      ],
      "text/plain": [
       "       Conspiracy  US Right  Mainstream media\n",
       "count          29         4                 1"
      ]
     },
     "metadata": {},
     "output_type": "display_data"
    },
    {
     "data": {
      "text/html": [
       "<span style=\"color:black\"><a href=\"https://twitter.com/clare_lumiere/status/1256485829591142400\">#BillGates paralyzed half a million children with polio vaccines – do we really want him vaccinating the world for coronavirus?\n",
       "\n",
       "Say \"NO\" to his digital certificate @realDonaldTrump!\n",
       "\n",
       "#trumptrain1111\n",
       "#WWG1WGA\n",
       "#QAnon https://t.co/2scUjWrUXc</a></span>"
      ],
      "text/plain": [
       "<IPython.core.display.HTML object>"
      ]
     },
     "metadata": {},
     "output_type": "display_data"
    },
    {
     "data": {
      "text/html": [
       "<span style=\"color:black\">--> 26 retweet(s) in tag Conspiracy:</span>"
      ],
      "text/plain": [
       "<IPython.core.display.HTML object>"
      ]
     },
     "metadata": {},
     "output_type": "display_data"
    },
    {
     "data": {
      "text/html": [
       "<div>\n",
       "<style scoped>\n",
       "    .dataframe tbody tr th:only-of-type {\n",
       "        vertical-align: middle;\n",
       "    }\n",
       "\n",
       "    .dataframe tbody tr th {\n",
       "        vertical-align: top;\n",
       "    }\n",
       "\n",
       "    .dataframe thead th {\n",
       "        text-align: right;\n",
       "    }\n",
       "</style>\n",
       "<table border=\"1\" class=\"dataframe\">\n",
       "  <thead>\n",
       "    <tr style=\"text-align: right;\">\n",
       "      <th></th>\n",
       "      <th>Conspiracy</th>\n",
       "    </tr>\n",
       "  </thead>\n",
       "  <tbody>\n",
       "    <tr>\n",
       "      <th>count</th>\n",
       "      <td>26</td>\n",
       "    </tr>\n",
       "  </tbody>\n",
       "</table>\n",
       "</div>"
      ],
      "text/plain": [
       "       Conspiracy\n",
       "count          26"
      ]
     },
     "metadata": {},
     "output_type": "display_data"
    },
    {
     "data": {
      "text/html": [
       "<span style=\"color:black\"><a href=\"https://twitter.com/terrywtt/status/1254861190687109123\">Game Over!! .@realDonaldTrump no more of this #msm manufactured virus by #fauci and #gates. Don't give anymore credibility to these people. No one has died of anything else but #COVID19 since this fiasco has begun, isn't that interesting? It's Stupid!! Time to get to work!!</a></span>"
      ],
      "text/plain": [
       "<IPython.core.display.HTML object>"
      ]
     },
     "metadata": {},
     "output_type": "display_data"
    },
    {
     "data": {
      "text/html": [
       "<span style=\"color:black\">--> 21 retweet(s) in tag Conspiracy:</span>"
      ],
      "text/plain": [
       "<IPython.core.display.HTML object>"
      ]
     },
     "metadata": {},
     "output_type": "display_data"
    },
    {
     "data": {
      "text/html": [
       "<div>\n",
       "<style scoped>\n",
       "    .dataframe tbody tr th:only-of-type {\n",
       "        vertical-align: middle;\n",
       "    }\n",
       "\n",
       "    .dataframe tbody tr th {\n",
       "        vertical-align: top;\n",
       "    }\n",
       "\n",
       "    .dataframe thead th {\n",
       "        text-align: right;\n",
       "    }\n",
       "</style>\n",
       "<table border=\"1\" class=\"dataframe\">\n",
       "  <thead>\n",
       "    <tr style=\"text-align: right;\">\n",
       "      <th></th>\n",
       "      <th>Conspiracy</th>\n",
       "      <th>UK Brexit</th>\n",
       "      <th>Pro-Palestine</th>\n",
       "      <th>US Right</th>\n",
       "    </tr>\n",
       "  </thead>\n",
       "  <tbody>\n",
       "    <tr>\n",
       "      <th>count</th>\n",
       "      <td>21</td>\n",
       "      <td>1</td>\n",
       "      <td>1</td>\n",
       "      <td>1</td>\n",
       "    </tr>\n",
       "  </tbody>\n",
       "</table>\n",
       "</div>"
      ],
      "text/plain": [
       "       Conspiracy  UK Brexit  Pro-Palestine  US Right\n",
       "count          21          1              1         1"
      ]
     },
     "metadata": {},
     "output_type": "display_data"
    },
    {
     "data": {
      "text/html": [
       "<span style=\"color:black\"><a href=\"https://twitter.com/vikingmom7/status/1256013491414204416\">#BREAKING: #BillGates just released this...NWO hard core push 4 worldwide FORCED #COVID19 vaccination must happen before we open up the world again. Because after all, doesn't Gates own the world? https://t.co/8QtC4vGH89\n",
       "\n",
       "@Inevitable_ET\n",
       "@LotusOak2\n",
       "@Jordan_Sather_ \n",
       "@JUSTICETIME7</a></span>"
      ],
      "text/plain": [
       "<IPython.core.display.HTML object>"
      ]
     },
     "metadata": {},
     "output_type": "display_data"
    },
    {
     "data": {
      "text/html": [
       "<span style=\"color:black\"><h3><u>US Right</u></h3></span>"
      ],
      "text/plain": [
       "<IPython.core.display.HTML object>"
      ]
     },
     "metadata": {},
     "output_type": "display_data"
    },
    {
     "data": {
      "text/html": [
       "<span style=\"color:black\">--> 5 retweet(s) in tag US Right:</span>"
      ],
      "text/plain": [
       "<IPython.core.display.HTML object>"
      ]
     },
     "metadata": {},
     "output_type": "display_data"
    },
    {
     "data": {
      "text/html": [
       "<div>\n",
       "<style scoped>\n",
       "    .dataframe tbody tr th:only-of-type {\n",
       "        vertical-align: middle;\n",
       "    }\n",
       "\n",
       "    .dataframe tbody tr th {\n",
       "        vertical-align: top;\n",
       "    }\n",
       "\n",
       "    .dataframe thead th {\n",
       "        text-align: right;\n",
       "    }\n",
       "</style>\n",
       "<table border=\"1\" class=\"dataframe\">\n",
       "  <thead>\n",
       "    <tr style=\"text-align: right;\">\n",
       "      <th></th>\n",
       "      <th>Conspiracy</th>\n",
       "      <th>US Right</th>\n",
       "      <th>CAN Right</th>\n",
       "      <th>AUS Right</th>\n",
       "      <th>Sanders Support</th>\n",
       "    </tr>\n",
       "  </thead>\n",
       "  <tbody>\n",
       "    <tr>\n",
       "      <th>count</th>\n",
       "      <td>13</td>\n",
       "      <td>5</td>\n",
       "      <td>3</td>\n",
       "      <td>1</td>\n",
       "      <td>1</td>\n",
       "    </tr>\n",
       "  </tbody>\n",
       "</table>\n",
       "</div>"
      ],
      "text/plain": [
       "       Conspiracy  US Right  CAN Right  AUS Right  Sanders Support\n",
       "count          13         5          3          1                1"
      ]
     },
     "metadata": {},
     "output_type": "display_data"
    },
    {
     "data": {
      "text/html": [
       "<span style=\"color:black\"><a href=\"https://twitter.com/dlr1a/status/1255353915706613761\">This is a WONDERFUL ‘Freudian Slip’ from Dr Birx!\n",
       "\n",
       "Who is she REALLY working for?\n",
       "\n",
       "#GatesFoundation #COVID #Coronavirus #Plandemic https://t.co/ShlZP2jfQj</a></span>"
      ],
      "text/plain": [
       "<IPython.core.display.HTML object>"
      ]
     },
     "metadata": {},
     "output_type": "display_data"
    },
    {
     "data": {
      "text/html": [
       "<span style=\"color:black\">--> 4 retweet(s) in tag US Right:</span>"
      ],
      "text/plain": [
       "<IPython.core.display.HTML object>"
      ]
     },
     "metadata": {},
     "output_type": "display_data"
    },
    {
     "data": {
      "text/html": [
       "<div>\n",
       "<style scoped>\n",
       "    .dataframe tbody tr th:only-of-type {\n",
       "        vertical-align: middle;\n",
       "    }\n",
       "\n",
       "    .dataframe tbody tr th {\n",
       "        vertical-align: top;\n",
       "    }\n",
       "\n",
       "    .dataframe thead th {\n",
       "        text-align: right;\n",
       "    }\n",
       "</style>\n",
       "<table border=\"1\" class=\"dataframe\">\n",
       "  <thead>\n",
       "    <tr style=\"text-align: right;\">\n",
       "      <th></th>\n",
       "      <th>Conspiracy</th>\n",
       "      <th>US Right</th>\n",
       "      <th>Mainstream media</th>\n",
       "    </tr>\n",
       "  </thead>\n",
       "  <tbody>\n",
       "    <tr>\n",
       "      <th>count</th>\n",
       "      <td>29</td>\n",
       "      <td>4</td>\n",
       "      <td>1</td>\n",
       "    </tr>\n",
       "  </tbody>\n",
       "</table>\n",
       "</div>"
      ],
      "text/plain": [
       "       Conspiracy  US Right  Mainstream media\n",
       "count          29         4                 1"
      ]
     },
     "metadata": {},
     "output_type": "display_data"
    },
    {
     "data": {
      "text/html": [
       "<span style=\"color:black\"><a href=\"https://twitter.com/trendyelephant/status/1256319303948873735\">#BillGates paralyzed half a million children with polio vaccines – do we really want him vaccinating the world for coronavirus?\n",
       "\n",
       "Say \"NO\" to his digital certificate @realDonaldTrump!\n",
       "\n",
       "#trumptrain1111\n",
       "#WWG1WGA\n",
       "#QAnon https://t.co/2scUjWrUXc</a></span>"
      ],
      "text/plain": [
       "<IPython.core.display.HTML object>"
      ]
     },
     "metadata": {},
     "output_type": "display_data"
    },
    {
     "data": {
      "text/html": [
       "<span style=\"color:black\">--> 3 retweet(s) in tag US Right:</span>"
      ],
      "text/plain": [
       "<IPython.core.display.HTML object>"
      ]
     },
     "metadata": {},
     "output_type": "display_data"
    },
    {
     "data": {
      "text/html": [
       "<div>\n",
       "<style scoped>\n",
       "    .dataframe tbody tr th:only-of-type {\n",
       "        vertical-align: middle;\n",
       "    }\n",
       "\n",
       "    .dataframe tbody tr th {\n",
       "        vertical-align: top;\n",
       "    }\n",
       "\n",
       "    .dataframe thead th {\n",
       "        text-align: right;\n",
       "    }\n",
       "</style>\n",
       "<table border=\"1\" class=\"dataframe\">\n",
       "  <thead>\n",
       "    <tr style=\"text-align: right;\">\n",
       "      <th></th>\n",
       "      <th>Conspiracy</th>\n",
       "      <th>US Right</th>\n",
       "    </tr>\n",
       "  </thead>\n",
       "  <tbody>\n",
       "    <tr>\n",
       "      <th>count</th>\n",
       "      <td>4</td>\n",
       "      <td>3</td>\n",
       "    </tr>\n",
       "  </tbody>\n",
       "</table>\n",
       "</div>"
      ],
      "text/plain": [
       "       Conspiracy  US Right\n",
       "count           4         3"
      ]
     },
     "metadata": {},
     "output_type": "display_data"
    },
    {
     "data": {
      "text/html": [
       "<span style=\"color:black\"><a href=\"https://twitter.com/MrTholian/status/1254817641635577862\">#BillGates is covering for the Chinese Communists #CCP\n",
       "That's reprehensible\n",
       "They don't get a pass\n",
       "They caused the #COVID19 pandemic\n",
       "\n",
       "But he's also helping bankroll a vaccine\n",
       "Which we need badly\n",
       "If we want back to actual normal\n",
       "#RightTake https://t.co/KCJ9evWkpT</a></span>"
      ],
      "text/plain": [
       "<IPython.core.display.HTML object>"
      ]
     },
     "metadata": {},
     "output_type": "display_data"
    },
    {
     "data": {
      "text/html": [
       "<span style=\"color:black\">--> 3 retweet(s) in tag US Right:</span>"
      ],
      "text/plain": [
       "<IPython.core.display.HTML object>"
      ]
     },
     "metadata": {},
     "output_type": "display_data"
    },
    {
     "data": {
      "text/html": [
       "<div>\n",
       "<style scoped>\n",
       "    .dataframe tbody tr th:only-of-type {\n",
       "        vertical-align: middle;\n",
       "    }\n",
       "\n",
       "    .dataframe tbody tr th {\n",
       "        vertical-align: top;\n",
       "    }\n",
       "\n",
       "    .dataframe thead th {\n",
       "        text-align: right;\n",
       "    }\n",
       "</style>\n",
       "<table border=\"1\" class=\"dataframe\">\n",
       "  <thead>\n",
       "    <tr style=\"text-align: right;\">\n",
       "      <th></th>\n",
       "      <th>US Right</th>\n",
       "    </tr>\n",
       "  </thead>\n",
       "  <tbody>\n",
       "    <tr>\n",
       "      <th>count</th>\n",
       "      <td>3</td>\n",
       "    </tr>\n",
       "  </tbody>\n",
       "</table>\n",
       "</div>"
      ],
      "text/plain": [
       "       US Right\n",
       "count         3"
      ]
     },
     "metadata": {},
     "output_type": "display_data"
    },
    {
     "data": {
      "text/html": [
       "<span style=\"color:black\"><a href=\"https://twitter.com/007Dufour007/status/1256196293485047808\">#SayNoToBillGates #SayNoToCoronaVaccine \n",
       "I AM SOVEREIGN AND I DO NOT CONSENT https://t.co/CRuo5DhcxR</a></span>"
      ],
      "text/plain": [
       "<IPython.core.display.HTML object>"
      ]
     },
     "metadata": {},
     "output_type": "display_data"
    },
    {
     "data": {
      "text/html": [
       "<span style=\"color:black\">--> 2 retweet(s) in tag US Right:</span>"
      ],
      "text/plain": [
       "<IPython.core.display.HTML object>"
      ]
     },
     "metadata": {},
     "output_type": "display_data"
    },
    {
     "data": {
      "text/html": [
       "<div>\n",
       "<style scoped>\n",
       "    .dataframe tbody tr th:only-of-type {\n",
       "        vertical-align: middle;\n",
       "    }\n",
       "\n",
       "    .dataframe tbody tr th {\n",
       "        vertical-align: top;\n",
       "    }\n",
       "\n",
       "    .dataframe thead th {\n",
       "        text-align: right;\n",
       "    }\n",
       "</style>\n",
       "<table border=\"1\" class=\"dataframe\">\n",
       "  <thead>\n",
       "    <tr style=\"text-align: right;\">\n",
       "      <th></th>\n",
       "      <th>Conspiracy</th>\n",
       "      <th>US Right</th>\n",
       "    </tr>\n",
       "  </thead>\n",
       "  <tbody>\n",
       "    <tr>\n",
       "      <th>count</th>\n",
       "      <td>12</td>\n",
       "      <td>2</td>\n",
       "    </tr>\n",
       "  </tbody>\n",
       "</table>\n",
       "</div>"
      ],
      "text/plain": [
       "       Conspiracy  US Right\n",
       "count          12         2"
      ]
     },
     "metadata": {},
     "output_type": "display_data"
    },
    {
     "data": {
      "text/html": [
       "<span style=\"color:black\"><a href=\"https://twitter.com/kimfreethinker/status/1255629210598719491\">Wow! @BillGates has a sinister grin.\n",
       "It’s like this news of not opening is fantastic \n",
       "#BillGates \n",
       "#BillGatesIsNotOurFriend \n",
       "\n",
       " https://t.co/YDHyviilLL</a></span>"
      ],
      "text/plain": [
       "<IPython.core.display.HTML object>"
      ]
     },
     "metadata": {},
     "output_type": "display_data"
    },
    {
     "data": {
      "text/html": [
       "<span style=\"color:black\"><h3><u>India</u></h3></span>"
      ],
      "text/plain": [
       "<IPython.core.display.HTML object>"
      ]
     },
     "metadata": {},
     "output_type": "display_data"
    },
    {
     "data": {
      "text/html": [
       "<span style=\"color:black\">--> 2 retweet(s) in tag India:</span>"
      ],
      "text/plain": [
       "<IPython.core.display.HTML object>"
      ]
     },
     "metadata": {},
     "output_type": "display_data"
    },
    {
     "data": {
      "text/html": [
       "<div>\n",
       "<style scoped>\n",
       "    .dataframe tbody tr th:only-of-type {\n",
       "        vertical-align: middle;\n",
       "    }\n",
       "\n",
       "    .dataframe tbody tr th {\n",
       "        vertical-align: top;\n",
       "    }\n",
       "\n",
       "    .dataframe thead th {\n",
       "        text-align: right;\n",
       "    }\n",
       "</style>\n",
       "<table border=\"1\" class=\"dataframe\">\n",
       "  <thead>\n",
       "    <tr style=\"text-align: right;\">\n",
       "      <th></th>\n",
       "      <th>India</th>\n",
       "      <th>Conspiracy</th>\n",
       "    </tr>\n",
       "  </thead>\n",
       "  <tbody>\n",
       "    <tr>\n",
       "      <th>count</th>\n",
       "      <td>2</td>\n",
       "      <td>1</td>\n",
       "    </tr>\n",
       "  </tbody>\n",
       "</table>\n",
       "</div>"
      ],
      "text/plain": [
       "       India  Conspiracy\n",
       "count      2           1"
      ]
     },
     "metadata": {},
     "output_type": "display_data"
    },
    {
     "data": {
      "text/html": [
       "<span style=\"color:black\"><a href=\"https://twitter.com/oommen/status/1255346404140224512\">#OrderAtTheGates: #Globalisation, #Techphobia and the #WorldOrder\n",
       "\n",
       "#COVID19 may have heralded the sudden onset of what ⁦@ianbremmer⁩ calls a #GZero world-one that is at once multipolar, leaderless &amp; likely besieged by conflict\n",
       "\n",
       "For ⁦@orfonline⁩ https://t.co/kyjZAP3Nxc</a></span>"
      ],
      "text/plain": [
       "<IPython.core.display.HTML object>"
      ]
     },
     "metadata": {},
     "output_type": "display_data"
    },
    {
     "data": {
      "text/html": [
       "<span style=\"color:black\">--> 2 retweet(s) in tag India:</span>"
      ],
      "text/plain": [
       "<IPython.core.display.HTML object>"
      ]
     },
     "metadata": {},
     "output_type": "display_data"
    },
    {
     "data": {
      "text/html": [
       "<div>\n",
       "<style scoped>\n",
       "    .dataframe tbody tr th:only-of-type {\n",
       "        vertical-align: middle;\n",
       "    }\n",
       "\n",
       "    .dataframe tbody tr th {\n",
       "        vertical-align: top;\n",
       "    }\n",
       "\n",
       "    .dataframe thead th {\n",
       "        text-align: right;\n",
       "    }\n",
       "</style>\n",
       "<table border=\"1\" class=\"dataframe\">\n",
       "  <thead>\n",
       "    <tr style=\"text-align: right;\">\n",
       "      <th></th>\n",
       "      <th>India</th>\n",
       "    </tr>\n",
       "  </thead>\n",
       "  <tbody>\n",
       "    <tr>\n",
       "      <th>count</th>\n",
       "      <td>2</td>\n",
       "    </tr>\n",
       "  </tbody>\n",
       "</table>\n",
       "</div>"
      ],
      "text/plain": [
       "       India\n",
       "count      2"
      ]
     },
     "metadata": {},
     "output_type": "display_data"
    },
    {
     "data": {
      "text/html": [
       "<span style=\"color:black\"><a href=\"https://twitter.com/GreatGameIndia/status/1256044971322294273\">#FireFaucci #FireBirx #FireFauciNow #BillGatesIsEvil #SayNoToBillGates #ENOUGH https://t.co/TE0GDN7gHn</a></span>"
      ],
      "text/plain": [
       "<IPython.core.display.HTML object>"
      ]
     },
     "metadata": {},
     "output_type": "display_data"
    },
    {
     "data": {
      "text/html": [
       "<span style=\"color:black\">--> 1 retweet(s) in tag India:</span>"
      ],
      "text/plain": [
       "<IPython.core.display.HTML object>"
      ]
     },
     "metadata": {},
     "output_type": "display_data"
    },
    {
     "data": {
      "text/html": [
       "<div>\n",
       "<style scoped>\n",
       "    .dataframe tbody tr th:only-of-type {\n",
       "        vertical-align: middle;\n",
       "    }\n",
       "\n",
       "    .dataframe tbody tr th {\n",
       "        vertical-align: top;\n",
       "    }\n",
       "\n",
       "    .dataframe thead th {\n",
       "        text-align: right;\n",
       "    }\n",
       "</style>\n",
       "<table border=\"1\" class=\"dataframe\">\n",
       "  <thead>\n",
       "    <tr style=\"text-align: right;\">\n",
       "      <th></th>\n",
       "      <th>Conspiracy</th>\n",
       "      <th>India</th>\n",
       "    </tr>\n",
       "  </thead>\n",
       "  <tbody>\n",
       "    <tr>\n",
       "      <th>count</th>\n",
       "      <td>2</td>\n",
       "      <td>1</td>\n",
       "    </tr>\n",
       "  </tbody>\n",
       "</table>\n",
       "</div>"
      ],
      "text/plain": [
       "       Conspiracy  India\n",
       "count           2      1"
      ]
     },
     "metadata": {},
     "output_type": "display_data"
    },
    {
     "data": {
      "text/html": [
       "<span style=\"color:black\"><a href=\"https://twitter.com/GreatGameIndia/status/1255045187073540101\">How #BillGates Infiltrated Global Health\n",
       "https://t.co/73zaDSIS89</a></span>"
      ],
      "text/plain": [
       "<IPython.core.display.HTML object>"
      ]
     },
     "metadata": {},
     "output_type": "display_data"
    },
    {
     "data": {
      "text/html": [
       "<span style=\"color:black\">--> 1 retweet(s) in tag India:</span>"
      ],
      "text/plain": [
       "<IPython.core.display.HTML object>"
      ]
     },
     "metadata": {},
     "output_type": "display_data"
    },
    {
     "data": {
      "text/html": [
       "<div>\n",
       "<style scoped>\n",
       "    .dataframe tbody tr th:only-of-type {\n",
       "        vertical-align: middle;\n",
       "    }\n",
       "\n",
       "    .dataframe tbody tr th {\n",
       "        vertical-align: top;\n",
       "    }\n",
       "\n",
       "    .dataframe thead th {\n",
       "        text-align: right;\n",
       "    }\n",
       "</style>\n",
       "<table border=\"1\" class=\"dataframe\">\n",
       "  <thead>\n",
       "    <tr style=\"text-align: right;\">\n",
       "      <th></th>\n",
       "      <th>India</th>\n",
       "    </tr>\n",
       "  </thead>\n",
       "  <tbody>\n",
       "    <tr>\n",
       "      <th>count</th>\n",
       "      <td>1</td>\n",
       "    </tr>\n",
       "  </tbody>\n",
       "</table>\n",
       "</div>"
      ],
      "text/plain": [
       "       India\n",
       "count      1"
      ]
     },
     "metadata": {},
     "output_type": "display_data"
    },
    {
     "data": {
      "text/html": [
       "<span style=\"color:black\"><a href=\"https://twitter.com/GreatGameIndia/status/1255830528441249794\">#FireFauci (&amp; #STFUGates)! https://t.co/abQj8UAKRR</a></span>"
      ],
      "text/plain": [
       "<IPython.core.display.HTML object>"
      ]
     },
     "metadata": {},
     "output_type": "display_data"
    },
    {
     "data": {
      "text/html": [
       "<span style=\"color:black\">--> 1 retweet(s) in tag India:</span>"
      ],
      "text/plain": [
       "<IPython.core.display.HTML object>"
      ]
     },
     "metadata": {},
     "output_type": "display_data"
    },
    {
     "data": {
      "text/html": [
       "<div>\n",
       "<style scoped>\n",
       "    .dataframe tbody tr th:only-of-type {\n",
       "        vertical-align: middle;\n",
       "    }\n",
       "\n",
       "    .dataframe tbody tr th {\n",
       "        vertical-align: top;\n",
       "    }\n",
       "\n",
       "    .dataframe thead th {\n",
       "        text-align: right;\n",
       "    }\n",
       "</style>\n",
       "<table border=\"1\" class=\"dataframe\">\n",
       "  <thead>\n",
       "    <tr style=\"text-align: right;\">\n",
       "      <th></th>\n",
       "      <th>India</th>\n",
       "    </tr>\n",
       "  </thead>\n",
       "  <tbody>\n",
       "    <tr>\n",
       "      <th>count</th>\n",
       "      <td>1</td>\n",
       "    </tr>\n",
       "  </tbody>\n",
       "</table>\n",
       "</div>"
      ],
      "text/plain": [
       "       India\n",
       "count      1"
      ]
     },
     "metadata": {},
     "output_type": "display_data"
    },
    {
     "data": {
      "text/html": [
       "<span style=\"color:black\"><a href=\"https://twitter.com/Nikunj21129/status/1256096510086754304\">#BillGates agenda in India exposed by Robert Kennedy Jr - the nephew of former American President John F. Kennedy assassinated by the #DeepState\n",
       "https://t.co/3GdabYxsUm</a></span>"
      ],
      "text/plain": [
       "<IPython.core.display.HTML object>"
      ]
     },
     "metadata": {},
     "output_type": "display_data"
    },
    {
     "data": {
      "text/html": [
       "<span style=\"color:black\"><h3><u>UK Brexit</u></h3></span>"
      ],
      "text/plain": [
       "<IPython.core.display.HTML object>"
      ]
     },
     "metadata": {},
     "output_type": "display_data"
    },
    {
     "data": {
      "text/html": [
       "<span style=\"color:black\">--> 2 retweet(s) in tag UK Brexit:</span>"
      ],
      "text/plain": [
       "<IPython.core.display.HTML object>"
      ]
     },
     "metadata": {},
     "output_type": "display_data"
    },
    {
     "data": {
      "text/html": [
       "<div>\n",
       "<style scoped>\n",
       "    .dataframe tbody tr th:only-of-type {\n",
       "        vertical-align: middle;\n",
       "    }\n",
       "\n",
       "    .dataframe tbody tr th {\n",
       "        vertical-align: top;\n",
       "    }\n",
       "\n",
       "    .dataframe thead th {\n",
       "        text-align: right;\n",
       "    }\n",
       "</style>\n",
       "<table border=\"1\" class=\"dataframe\">\n",
       "  <thead>\n",
       "    <tr style=\"text-align: right;\">\n",
       "      <th></th>\n",
       "      <th>UK Brexit</th>\n",
       "    </tr>\n",
       "  </thead>\n",
       "  <tbody>\n",
       "    <tr>\n",
       "      <th>count</th>\n",
       "      <td>2</td>\n",
       "    </tr>\n",
       "  </tbody>\n",
       "</table>\n",
       "</div>"
      ],
      "text/plain": [
       "       UK Brexit\n",
       "count          2"
      ]
     },
     "metadata": {},
     "output_type": "display_data"
    },
    {
     "data": {
      "text/html": [
       "<span style=\"color:black\"><a href=\"https://twitter.com/Carter7Raymond/status/1256603637524168704\">Little Kill Billy Gates? Timestamp 1963? Arrest him, it's NOT too late!\n",
       "#WWG1WGA #QAnon #BillGates #arrestbillgates #TheGreatAwakening #COVID__19 #vaccines #coronavirus https://t.co/ddkvDOlLEe</a></span>"
      ],
      "text/plain": [
       "<IPython.core.display.HTML object>"
      ]
     },
     "metadata": {},
     "output_type": "display_data"
    },
    {
     "data": {
      "text/html": [
       "<span style=\"color:black\">--> 2 retweet(s) in tag UK Brexit:</span>"
      ],
      "text/plain": [
       "<IPython.core.display.HTML object>"
      ]
     },
     "metadata": {},
     "output_type": "display_data"
    },
    {
     "data": {
      "text/html": [
       "<div>\n",
       "<style scoped>\n",
       "    .dataframe tbody tr th:only-of-type {\n",
       "        vertical-align: middle;\n",
       "    }\n",
       "\n",
       "    .dataframe tbody tr th {\n",
       "        vertical-align: top;\n",
       "    }\n",
       "\n",
       "    .dataframe thead th {\n",
       "        text-align: right;\n",
       "    }\n",
       "</style>\n",
       "<table border=\"1\" class=\"dataframe\">\n",
       "  <thead>\n",
       "    <tr style=\"text-align: right;\">\n",
       "      <th></th>\n",
       "      <th>UK Brexit</th>\n",
       "    </tr>\n",
       "  </thead>\n",
       "  <tbody>\n",
       "    <tr>\n",
       "      <th>count</th>\n",
       "      <td>2</td>\n",
       "    </tr>\n",
       "  </tbody>\n",
       "</table>\n",
       "</div>"
      ],
      "text/plain": [
       "       UK Brexit\n",
       "count          2"
      ]
     },
     "metadata": {},
     "output_type": "display_data"
    },
    {
     "data": {
      "text/html": [
       "<span style=\"color:black\"><a href=\"https://twitter.com/mikebro30816865/status/1255497794980380673\">#BillGates is not a doctor or a scientist. He's an INVESTOR and excepts a return on his investments. #BillGatesVirus https://t.co/fNUdwHiXdw</a></span>"
      ],
      "text/plain": [
       "<IPython.core.display.HTML object>"
      ]
     },
     "metadata": {},
     "output_type": "display_data"
    },
    {
     "data": {
      "text/html": [
       "<span style=\"color:black\">--> 1 retweet(s) in tag UK Brexit:</span>"
      ],
      "text/plain": [
       "<IPython.core.display.HTML object>"
      ]
     },
     "metadata": {},
     "output_type": "display_data"
    },
    {
     "data": {
      "text/html": [
       "<div>\n",
       "<style scoped>\n",
       "    .dataframe tbody tr th:only-of-type {\n",
       "        vertical-align: middle;\n",
       "    }\n",
       "\n",
       "    .dataframe tbody tr th {\n",
       "        vertical-align: top;\n",
       "    }\n",
       "\n",
       "    .dataframe thead th {\n",
       "        text-align: right;\n",
       "    }\n",
       "</style>\n",
       "<table border=\"1\" class=\"dataframe\">\n",
       "  <thead>\n",
       "    <tr style=\"text-align: right;\">\n",
       "      <th></th>\n",
       "      <th>UK Brexit</th>\n",
       "      <th>Conspiracy</th>\n",
       "    </tr>\n",
       "  </thead>\n",
       "  <tbody>\n",
       "    <tr>\n",
       "      <th>count</th>\n",
       "      <td>1</td>\n",
       "      <td>1</td>\n",
       "    </tr>\n",
       "  </tbody>\n",
       "</table>\n",
       "</div>"
      ],
      "text/plain": [
       "       UK Brexit  Conspiracy\n",
       "count          1           1"
      ]
     },
     "metadata": {},
     "output_type": "display_data"
    },
    {
     "data": {
      "text/html": [
       "<span style=\"color:black\"><a href=\"https://twitter.com/JasSpin1/status/1255607749116858368\">'The World is being sold a myth, #BillGates has regular access to world leaders ... in effect personally bankrolling hundreds of universities, int'l orgs, NGOs, media outlets...'\n",
       "#coronavirus #COVID19 #Corona #COVID \n",
       "https://t.co/TB0FW7yEq9</a></span>"
      ],
      "text/plain": [
       "<IPython.core.display.HTML object>"
      ]
     },
     "metadata": {},
     "output_type": "display_data"
    },
    {
     "data": {
      "text/html": [
       "<span style=\"color:black\">--> 1 retweet(s) in tag UK Brexit:</span>"
      ],
      "text/plain": [
       "<IPython.core.display.HTML object>"
      ]
     },
     "metadata": {},
     "output_type": "display_data"
    },
    {
     "data": {
      "text/html": [
       "<div>\n",
       "<style scoped>\n",
       "    .dataframe tbody tr th:only-of-type {\n",
       "        vertical-align: middle;\n",
       "    }\n",
       "\n",
       "    .dataframe tbody tr th {\n",
       "        vertical-align: top;\n",
       "    }\n",
       "\n",
       "    .dataframe thead th {\n",
       "        text-align: right;\n",
       "    }\n",
       "</style>\n",
       "<table border=\"1\" class=\"dataframe\">\n",
       "  <thead>\n",
       "    <tr style=\"text-align: right;\">\n",
       "      <th></th>\n",
       "      <th>UK Brexit</th>\n",
       "    </tr>\n",
       "  </thead>\n",
       "  <tbody>\n",
       "    <tr>\n",
       "      <th>count</th>\n",
       "      <td>1</td>\n",
       "    </tr>\n",
       "  </tbody>\n",
       "</table>\n",
       "</div>"
      ],
      "text/plain": [
       "       UK Brexit\n",
       "count          1"
      ]
     },
     "metadata": {},
     "output_type": "display_data"
    },
    {
     "data": {
      "text/html": [
       "<span style=\"color:black\"><a href=\"https://twitter.com/kheatherbrown/status/1257033267628425217\">@LondonRealTV @2Malarkey @davidicke It's a small world! #Vallance #Fauci #GatesFoundation #RockefellerFoundation 👇 https://t.co/O28JJ95Jno</a></span>"
      ],
      "text/plain": [
       "<IPython.core.display.HTML object>"
      ]
     },
     "metadata": {},
     "output_type": "display_data"
    },
    {
     "data": {
      "text/html": [
       "<span style=\"color:black\">--> 1 retweet(s) in tag UK Brexit:</span>"
      ],
      "text/plain": [
       "<IPython.core.display.HTML object>"
      ]
     },
     "metadata": {},
     "output_type": "display_data"
    },
    {
     "data": {
      "text/html": [
       "<div>\n",
       "<style scoped>\n",
       "    .dataframe tbody tr th:only-of-type {\n",
       "        vertical-align: middle;\n",
       "    }\n",
       "\n",
       "    .dataframe tbody tr th {\n",
       "        vertical-align: top;\n",
       "    }\n",
       "\n",
       "    .dataframe thead th {\n",
       "        text-align: right;\n",
       "    }\n",
       "</style>\n",
       "<table border=\"1\" class=\"dataframe\">\n",
       "  <thead>\n",
       "    <tr style=\"text-align: right;\">\n",
       "      <th></th>\n",
       "      <th>Conspiracy</th>\n",
       "      <th>US Right</th>\n",
       "      <th>UK Brexit</th>\n",
       "    </tr>\n",
       "  </thead>\n",
       "  <tbody>\n",
       "    <tr>\n",
       "      <th>count</th>\n",
       "      <td>2</td>\n",
       "      <td>1</td>\n",
       "      <td>1</td>\n",
       "    </tr>\n",
       "  </tbody>\n",
       "</table>\n",
       "</div>"
      ],
      "text/plain": [
       "       Conspiracy  US Right  UK Brexit\n",
       "count           2         1          1"
      ]
     },
     "metadata": {},
     "output_type": "display_data"
    },
    {
     "data": {
      "text/html": [
       "<span style=\"color:black\"><a href=\"https://twitter.com/LSW1261267251/status/1256963794842071040\">#Event201 #Orwell #Globalism #BigBrother #NWO\n",
       "\n",
       "#BillGates:\n",
       "-Not an Engineer\n",
       "-Never finished college \n",
       "-Not a Doctor\n",
       "-Not an Epidemiologist\n",
       "-Not a Virologist\n",
       "-Unelected\n",
       "-Visited #Epstein's pedo island\n",
       " countless times\n",
       "-Documentated thief\n",
       "-Owns virus patents\n",
       "-Owns vaccine companies https://t.co/7BniAoG8jP</a></span>"
      ],
      "text/plain": [
       "<IPython.core.display.HTML object>"
      ]
     },
     "metadata": {},
     "output_type": "display_data"
    },
    {
     "data": {
      "text/html": [
       "<span style=\"color:black\"><h3><u>AUS Right</u></h3></span>"
      ],
      "text/plain": [
       "<IPython.core.display.HTML object>"
      ]
     },
     "metadata": {},
     "output_type": "display_data"
    },
    {
     "data": {
      "text/html": [
       "<span style=\"color:black\">--> 3 retweet(s) in tag AUS Right:</span>"
      ],
      "text/plain": [
       "<IPython.core.display.HTML object>"
      ]
     },
     "metadata": {},
     "output_type": "display_data"
    },
    {
     "data": {
      "text/html": [
       "<div>\n",
       "<style scoped>\n",
       "    .dataframe tbody tr th:only-of-type {\n",
       "        vertical-align: middle;\n",
       "    }\n",
       "\n",
       "    .dataframe tbody tr th {\n",
       "        vertical-align: top;\n",
       "    }\n",
       "\n",
       "    .dataframe thead th {\n",
       "        text-align: right;\n",
       "    }\n",
       "</style>\n",
       "<table border=\"1\" class=\"dataframe\">\n",
       "  <thead>\n",
       "    <tr style=\"text-align: right;\">\n",
       "      <th></th>\n",
       "      <th>AUS Right</th>\n",
       "    </tr>\n",
       "  </thead>\n",
       "  <tbody>\n",
       "    <tr>\n",
       "      <th>count</th>\n",
       "      <td>3</td>\n",
       "    </tr>\n",
       "  </tbody>\n",
       "</table>\n",
       "</div>"
      ],
      "text/plain": [
       "       AUS Right\n",
       "count          3"
      ]
     },
     "metadata": {},
     "output_type": "display_data"
    },
    {
     "data": {
      "text/html": [
       "<span style=\"color:black\"><a href=\"https://twitter.com/Arthur89367695/status/1255310315039981568\">@globalnews #ArrestBillGates #BillGatesVirus #MonsantoMan #GlyphosateGates #Gavi https://t.co/Ut69SSq4NC</a></span>"
      ],
      "text/plain": [
       "<IPython.core.display.HTML object>"
      ]
     },
     "metadata": {},
     "output_type": "display_data"
    },
    {
     "data": {
      "text/html": [
       "<span style=\"color:black\">--> 2 retweet(s) in tag AUS Right:</span>"
      ],
      "text/plain": [
       "<IPython.core.display.HTML object>"
      ]
     },
     "metadata": {},
     "output_type": "display_data"
    },
    {
     "data": {
      "text/html": [
       "<div>\n",
       "<style scoped>\n",
       "    .dataframe tbody tr th:only-of-type {\n",
       "        vertical-align: middle;\n",
       "    }\n",
       "\n",
       "    .dataframe tbody tr th {\n",
       "        vertical-align: top;\n",
       "    }\n",
       "\n",
       "    .dataframe thead th {\n",
       "        text-align: right;\n",
       "    }\n",
       "</style>\n",
       "<table border=\"1\" class=\"dataframe\">\n",
       "  <thead>\n",
       "    <tr style=\"text-align: right;\">\n",
       "      <th></th>\n",
       "      <th>AUS Right</th>\n",
       "    </tr>\n",
       "  </thead>\n",
       "  <tbody>\n",
       "    <tr>\n",
       "      <th>count</th>\n",
       "      <td>2</td>\n",
       "    </tr>\n",
       "  </tbody>\n",
       "</table>\n",
       "</div>"
      ],
      "text/plain": [
       "       AUS Right\n",
       "count          2"
      ]
     },
     "metadata": {},
     "output_type": "display_data"
    },
    {
     "data": {
      "text/html": [
       "<span style=\"color:black\"><a href=\"https://twitter.com/Moonah85055221/status/1257082649706786816\">In #BillGates own words \"we are taking genetically modified organisms and we are injecting them into little kids arms, we just shoot them right into the vein\"\n",
       "#BigPharma #Vaccines https://t.co/p67EMAgGWJ</a></span>"
      ],
      "text/plain": [
       "<IPython.core.display.HTML object>"
      ]
     },
     "metadata": {},
     "output_type": "display_data"
    },
    {
     "data": {
      "text/html": [
       "<span style=\"color:black\">--> 2 retweet(s) in tag AUS Right:</span>"
      ],
      "text/plain": [
       "<IPython.core.display.HTML object>"
      ]
     },
     "metadata": {},
     "output_type": "display_data"
    },
    {
     "data": {
      "text/html": [
       "<div>\n",
       "<style scoped>\n",
       "    .dataframe tbody tr th:only-of-type {\n",
       "        vertical-align: middle;\n",
       "    }\n",
       "\n",
       "    .dataframe tbody tr th {\n",
       "        vertical-align: top;\n",
       "    }\n",
       "\n",
       "    .dataframe thead th {\n",
       "        text-align: right;\n",
       "    }\n",
       "</style>\n",
       "<table border=\"1\" class=\"dataframe\">\n",
       "  <thead>\n",
       "    <tr style=\"text-align: right;\">\n",
       "      <th></th>\n",
       "      <th>AUS Right</th>\n",
       "    </tr>\n",
       "  </thead>\n",
       "  <tbody>\n",
       "    <tr>\n",
       "      <th>count</th>\n",
       "      <td>2</td>\n",
       "    </tr>\n",
       "  </tbody>\n",
       "</table>\n",
       "</div>"
      ],
      "text/plain": [
       "       AUS Right\n",
       "count          2"
      ]
     },
     "metadata": {},
     "output_type": "display_data"
    },
    {
     "data": {
      "text/html": [
       "<span style=\"color:black\"><a href=\"https://twitter.com/BryanD43988355/status/1254731336721432577\">#BillGates says Trump’s blame game on China is a distraction. \n",
       "\n",
       "Gates blames Trump for the economic destruction of America.\n",
       "\n",
       "Bill Gates is a Globalist and a Shrill for the #WHO Trump and the rest of the world have every right to blame China.\n",
       "#WuhanVirus #BillGatesIsNotOurFriend https://t.co/80OFOZLW76</a></span>"
      ],
      "text/plain": [
       "<IPython.core.display.HTML object>"
      ]
     },
     "metadata": {},
     "output_type": "display_data"
    },
    {
     "data": {
      "text/html": [
       "<span style=\"color:black\">--> 1 retweet(s) in tag AUS Right:</span>"
      ],
      "text/plain": [
       "<IPython.core.display.HTML object>"
      ]
     },
     "metadata": {},
     "output_type": "display_data"
    },
    {
     "data": {
      "text/html": [
       "<div>\n",
       "<style scoped>\n",
       "    .dataframe tbody tr th:only-of-type {\n",
       "        vertical-align: middle;\n",
       "    }\n",
       "\n",
       "    .dataframe tbody tr th {\n",
       "        vertical-align: top;\n",
       "    }\n",
       "\n",
       "    .dataframe thead th {\n",
       "        text-align: right;\n",
       "    }\n",
       "</style>\n",
       "<table border=\"1\" class=\"dataframe\">\n",
       "  <thead>\n",
       "    <tr style=\"text-align: right;\">\n",
       "      <th></th>\n",
       "      <th>Conspiracy</th>\n",
       "      <th>US Right</th>\n",
       "      <th>CAN Right</th>\n",
       "      <th>AUS Right</th>\n",
       "      <th>Sanders Support</th>\n",
       "    </tr>\n",
       "  </thead>\n",
       "  <tbody>\n",
       "    <tr>\n",
       "      <th>count</th>\n",
       "      <td>13</td>\n",
       "      <td>5</td>\n",
       "      <td>3</td>\n",
       "      <td>1</td>\n",
       "      <td>1</td>\n",
       "    </tr>\n",
       "  </tbody>\n",
       "</table>\n",
       "</div>"
      ],
      "text/plain": [
       "       Conspiracy  US Right  CAN Right  AUS Right  Sanders Support\n",
       "count          13         5          3          1                1"
      ]
     },
     "metadata": {},
     "output_type": "display_data"
    },
    {
     "data": {
      "text/html": [
       "<span style=\"color:black\"><a href=\"https://twitter.com/Joanna78891895/status/1255182140884410368\">This is a WONDERFUL ‘Freudian Slip’ from Dr Birx!\n",
       "\n",
       "Who is she REALLY working for?\n",
       "\n",
       "#GatesFoundation #COVID #Coronavirus #Plandemic https://t.co/ShlZP2jfQj</a></span>"
      ],
      "text/plain": [
       "<IPython.core.display.HTML object>"
      ]
     },
     "metadata": {},
     "output_type": "display_data"
    },
    {
     "data": {
      "text/html": [
       "<span style=\"color:black\">--> 1 retweet(s) in tag AUS Right:</span>"
      ],
      "text/plain": [
       "<IPython.core.display.HTML object>"
      ]
     },
     "metadata": {},
     "output_type": "display_data"
    },
    {
     "data": {
      "text/html": [
       "<div>\n",
       "<style scoped>\n",
       "    .dataframe tbody tr th:only-of-type {\n",
       "        vertical-align: middle;\n",
       "    }\n",
       "\n",
       "    .dataframe tbody tr th {\n",
       "        vertical-align: top;\n",
       "    }\n",
       "\n",
       "    .dataframe thead th {\n",
       "        text-align: right;\n",
       "    }\n",
       "</style>\n",
       "<table border=\"1\" class=\"dataframe\">\n",
       "  <thead>\n",
       "    <tr style=\"text-align: right;\">\n",
       "      <th></th>\n",
       "      <th>AUS Right</th>\n",
       "    </tr>\n",
       "  </thead>\n",
       "  <tbody>\n",
       "    <tr>\n",
       "      <th>count</th>\n",
       "      <td>1</td>\n",
       "    </tr>\n",
       "  </tbody>\n",
       "</table>\n",
       "</div>"
      ],
      "text/plain": [
       "       AUS Right\n",
       "count          1"
      ]
     },
     "metadata": {},
     "output_type": "display_data"
    },
    {
     "data": {
      "text/html": [
       "<span style=\"color:black\"><a href=\"https://twitter.com/GetMyGist/status/1256699354917765124\">Since Warren Buffett is trending:\n",
       "\n",
       "It's interesting @WarrenBuffett, how close you &amp; #BillGates are, &amp; how LITTLE you both care about #Children.\n",
       "\n",
       "#Windfarm subsidies ... the ONLY reason? \n",
       "Are you sure?\n",
       "\n",
       "Not to cover-up what #Wolbachia does to 🐦 that consume #Wolbachia-infected🦟? https://t.co/bueaNcnRbD</a></span>"
      ],
      "text/plain": [
       "<IPython.core.display.HTML object>"
      ]
     },
     "metadata": {},
     "output_type": "display_data"
    },
    {
     "data": {
      "text/html": [
       "<span style=\"color:black\"><h3><u>Mainstream media</u></h3></span>"
      ],
      "text/plain": [
       "<IPython.core.display.HTML object>"
      ]
     },
     "metadata": {},
     "output_type": "display_data"
    },
    {
     "data": {
      "text/html": [
       "<span style=\"color:black\">--> 1 retweet(s) in tag Mainstream media:</span>"
      ],
      "text/plain": [
       "<IPython.core.display.HTML object>"
      ]
     },
     "metadata": {},
     "output_type": "display_data"
    },
    {
     "data": {
      "text/html": [
       "<div>\n",
       "<style scoped>\n",
       "    .dataframe tbody tr th:only-of-type {\n",
       "        vertical-align: middle;\n",
       "    }\n",
       "\n",
       "    .dataframe tbody tr th {\n",
       "        vertical-align: top;\n",
       "    }\n",
       "\n",
       "    .dataframe thead th {\n",
       "        text-align: right;\n",
       "    }\n",
       "</style>\n",
       "<table border=\"1\" class=\"dataframe\">\n",
       "  <thead>\n",
       "    <tr style=\"text-align: right;\">\n",
       "      <th></th>\n",
       "      <th>Mainstream media</th>\n",
       "    </tr>\n",
       "  </thead>\n",
       "  <tbody>\n",
       "    <tr>\n",
       "      <th>count</th>\n",
       "      <td>1</td>\n",
       "    </tr>\n",
       "  </tbody>\n",
       "</table>\n",
       "</div>"
      ],
      "text/plain": [
       "       Mainstream media\n",
       "count                 1"
      ]
     },
     "metadata": {},
     "output_type": "display_data"
    },
    {
     "data": {
      "text/html": [
       "<span style=\"color:black\"><a href=\"https://twitter.com/Learner4123/status/1255731179472523270\">@ZaidZamanHamid @ImranKhanPTI is talking to a man (#BillGatesBioTerrorist) when he should shun him away from Pakistan. Bill Gates &amp; all his mafias &amp; philanthropic activities need to be banned. Even if that means taking the worst possible sanctions. After all IK is Ertugurul Ghazi!!!</a></span>"
      ],
      "text/plain": [
       "<IPython.core.display.HTML object>"
      ]
     },
     "metadata": {},
     "output_type": "display_data"
    },
    {
     "data": {
      "text/html": [
       "<span style=\"color:black\">--> 1 retweet(s) in tag Mainstream media:</span>"
      ],
      "text/plain": [
       "<IPython.core.display.HTML object>"
      ]
     },
     "metadata": {},
     "output_type": "display_data"
    },
    {
     "data": {
      "text/html": [
       "<div>\n",
       "<style scoped>\n",
       "    .dataframe tbody tr th:only-of-type {\n",
       "        vertical-align: middle;\n",
       "    }\n",
       "\n",
       "    .dataframe tbody tr th {\n",
       "        vertical-align: top;\n",
       "    }\n",
       "\n",
       "    .dataframe thead th {\n",
       "        text-align: right;\n",
       "    }\n",
       "</style>\n",
       "<table border=\"1\" class=\"dataframe\">\n",
       "  <thead>\n",
       "    <tr style=\"text-align: right;\">\n",
       "      <th></th>\n",
       "      <th>Conspiracy</th>\n",
       "      <th>Pro-Palestine</th>\n",
       "      <th>Mainstream media</th>\n",
       "      <th>UK Left</th>\n",
       "      <th>Alt Media/Conspiracy</th>\n",
       "    </tr>\n",
       "  </thead>\n",
       "  <tbody>\n",
       "    <tr>\n",
       "      <th>count</th>\n",
       "      <td>6</td>\n",
       "      <td>3</td>\n",
       "      <td>1</td>\n",
       "      <td>1</td>\n",
       "      <td>1</td>\n",
       "    </tr>\n",
       "  </tbody>\n",
       "</table>\n",
       "</div>"
      ],
      "text/plain": [
       "       Conspiracy  Pro-Palestine  Mainstream media  UK Left  \\\n",
       "count           6              3                 1        1   \n",
       "\n",
       "       Alt Media/Conspiracy  \n",
       "count                     1  "
      ]
     },
     "metadata": {},
     "output_type": "display_data"
    },
    {
     "data": {
      "text/html": [
       "<span style=\"color:black\"><a href=\"https://twitter.com/ISCOSEU/status/1255922469149585414\">#BillGates ghoulish interview during which he is highly amused by \"bio-terrorism\" threat and is already talking about Pandemic 2 (Pandemic 1 is over his shoulder) - not mapped out at all (sarcasm)... who stands to gain?  Not the #LittlePeople. #Covid1984 https://t.co/GCzBTZsI9r</a></span>"
      ],
      "text/plain": [
       "<IPython.core.display.HTML object>"
      ]
     },
     "metadata": {},
     "output_type": "display_data"
    },
    {
     "data": {
      "text/html": [
       "<span style=\"color:black\">--> 1 retweet(s) in tag Mainstream media:</span>"
      ],
      "text/plain": [
       "<IPython.core.display.HTML object>"
      ]
     },
     "metadata": {},
     "output_type": "display_data"
    },
    {
     "data": {
      "text/html": [
       "<div>\n",
       "<style scoped>\n",
       "    .dataframe tbody tr th:only-of-type {\n",
       "        vertical-align: middle;\n",
       "    }\n",
       "\n",
       "    .dataframe tbody tr th {\n",
       "        vertical-align: top;\n",
       "    }\n",
       "\n",
       "    .dataframe thead th {\n",
       "        text-align: right;\n",
       "    }\n",
       "</style>\n",
       "<table border=\"1\" class=\"dataframe\">\n",
       "  <thead>\n",
       "    <tr style=\"text-align: right;\">\n",
       "      <th></th>\n",
       "      <th>Mainstream media</th>\n",
       "    </tr>\n",
       "  </thead>\n",
       "  <tbody>\n",
       "    <tr>\n",
       "      <th>count</th>\n",
       "      <td>1</td>\n",
       "    </tr>\n",
       "  </tbody>\n",
       "</table>\n",
       "</div>"
      ],
      "text/plain": [
       "       Mainstream media\n",
       "count                 1"
      ]
     },
     "metadata": {},
     "output_type": "display_data"
    },
    {
     "data": {
      "text/html": [
       "<span style=\"color:black\"><a href=\"https://twitter.com/RussianShroom/status/1256082220273590272\">For the second time this month, the #Chinese #Liaoning carrier #battlegroup with two #destroyers, two #frigates, and one fast combat support ship, entered the #EastChinaSea after traveling north between the #Okinawa main island and the #Miyako Island\n",
       "\n",
       "https://t.co/4z10mBfN27</a></span>"
      ],
      "text/plain": [
       "<IPython.core.display.HTML object>"
      ]
     },
     "metadata": {},
     "output_type": "display_data"
    },
    {
     "data": {
      "text/html": [
       "<span style=\"color:black\">--> 1 retweet(s) in tag Mainstream media:</span>"
      ],
      "text/plain": [
       "<IPython.core.display.HTML object>"
      ]
     },
     "metadata": {},
     "output_type": "display_data"
    },
    {
     "data": {
      "text/html": [
       "<div>\n",
       "<style scoped>\n",
       "    .dataframe tbody tr th:only-of-type {\n",
       "        vertical-align: middle;\n",
       "    }\n",
       "\n",
       "    .dataframe tbody tr th {\n",
       "        vertical-align: top;\n",
       "    }\n",
       "\n",
       "    .dataframe thead th {\n",
       "        text-align: right;\n",
       "    }\n",
       "</style>\n",
       "<table border=\"1\" class=\"dataframe\">\n",
       "  <thead>\n",
       "    <tr style=\"text-align: right;\">\n",
       "      <th></th>\n",
       "      <th>Mainstream media</th>\n",
       "      <th>Conspiracy</th>\n",
       "    </tr>\n",
       "  </thead>\n",
       "  <tbody>\n",
       "    <tr>\n",
       "      <th>count</th>\n",
       "      <td>1</td>\n",
       "      <td>1</td>\n",
       "    </tr>\n",
       "  </tbody>\n",
       "</table>\n",
       "</div>"
      ],
      "text/plain": [
       "       Mainstream media  Conspiracy\n",
       "count                 1           1"
      ]
     },
     "metadata": {},
     "output_type": "display_data"
    },
    {
     "data": {
      "text/html": [
       "<span style=\"color:black\"><a href=\"https://twitter.com/raglanhalzz708/status/1255328305672327171\">@BreesAnna Please investigate this Anna:\n",
       "32 members of the newly formed UK Gov Vaccine Network funded by #gatesfoundation\n",
       "UK company Mologic making the testing kits (£225 a pop) funded by #Gates</a></span>"
      ],
      "text/plain": [
       "<IPython.core.display.HTML object>"
      ]
     },
     "metadata": {},
     "output_type": "display_data"
    },
    {
     "data": {
      "text/html": [
       "<span style=\"color:black\">--> 1 retweet(s) in tag Mainstream media:</span>"
      ],
      "text/plain": [
       "<IPython.core.display.HTML object>"
      ]
     },
     "metadata": {},
     "output_type": "display_data"
    },
    {
     "data": {
      "text/html": [
       "<div>\n",
       "<style scoped>\n",
       "    .dataframe tbody tr th:only-of-type {\n",
       "        vertical-align: middle;\n",
       "    }\n",
       "\n",
       "    .dataframe tbody tr th {\n",
       "        vertical-align: top;\n",
       "    }\n",
       "\n",
       "    .dataframe thead th {\n",
       "        text-align: right;\n",
       "    }\n",
       "</style>\n",
       "<table border=\"1\" class=\"dataframe\">\n",
       "  <thead>\n",
       "    <tr style=\"text-align: right;\">\n",
       "      <th></th>\n",
       "      <th>Mainstream media</th>\n",
       "      <th>Conspiracy</th>\n",
       "    </tr>\n",
       "  </thead>\n",
       "  <tbody>\n",
       "    <tr>\n",
       "      <th>count</th>\n",
       "      <td>1</td>\n",
       "      <td>1</td>\n",
       "    </tr>\n",
       "  </tbody>\n",
       "</table>\n",
       "</div>"
      ],
      "text/plain": [
       "       Mainstream media  Conspiracy\n",
       "count                 1           1"
      ]
     },
     "metadata": {},
     "output_type": "display_data"
    },
    {
     "data": {
      "text/html": [
       "<span style=\"color:black\"><a href=\"https://twitter.com/eltheus/status/1256583420710354946\">@CameraPhyllis #EconomicTerrorism \n",
       "#GatesAndCoAreEnemiesOfHumanity\n",
       "#TheyThoughtWeWouldFollowTheStars https://t.co/HDGYH5UcIE</a></span>"
      ],
      "text/plain": [
       "<IPython.core.display.HTML object>"
      ]
     },
     "metadata": {},
     "output_type": "display_data"
    },
    {
     "data": {
      "text/html": [
       "<span style=\"color:black\"><h3><u>Enviromentalists</u></h3></span>"
      ],
      "text/plain": [
       "<IPython.core.display.HTML object>"
      ]
     },
     "metadata": {},
     "output_type": "display_data"
    },
    {
     "data": {
      "text/html": [
       "<span style=\"color:black\">--> 1 retweet(s) in tag Enviromentalists:</span>"
      ],
      "text/plain": [
       "<IPython.core.display.HTML object>"
      ]
     },
     "metadata": {},
     "output_type": "display_data"
    },
    {
     "data": {
      "text/html": [
       "<div>\n",
       "<style scoped>\n",
       "    .dataframe tbody tr th:only-of-type {\n",
       "        vertical-align: middle;\n",
       "    }\n",
       "\n",
       "    .dataframe tbody tr th {\n",
       "        vertical-align: top;\n",
       "    }\n",
       "\n",
       "    .dataframe thead th {\n",
       "        text-align: right;\n",
       "    }\n",
       "</style>\n",
       "<table border=\"1\" class=\"dataframe\">\n",
       "  <thead>\n",
       "    <tr style=\"text-align: right;\">\n",
       "      <th></th>\n",
       "      <th>Climate Change Denial</th>\n",
       "      <th>Enviromentalists</th>\n",
       "    </tr>\n",
       "  </thead>\n",
       "  <tbody>\n",
       "    <tr>\n",
       "      <th>count</th>\n",
       "      <td>1</td>\n",
       "      <td>1</td>\n",
       "    </tr>\n",
       "  </tbody>\n",
       "</table>\n",
       "</div>"
      ],
      "text/plain": [
       "       Climate Change Denial  Enviromentalists\n",
       "count                      1                 1"
      ]
     },
     "metadata": {},
     "output_type": "display_data"
    },
    {
     "data": {
      "text/html": [
       "<span style=\"color:black\"><a href=\"https://twitter.com/FatcatGermany/status/1256700950405922816\">Jetzt wird die Systempresse von #BillGates gerettet: #BillGates-Stiftung zahlt größere Summen an:\n",
       "- #DieZeit \n",
       "- #Guardian \n",
       "- #DerSpiegel \n",
       "\n",
       "#Medien #Unparteiisch? #Uneingenommen? #Gekauft???? https://t.co/XiEX50L8A6</a></span>"
      ],
      "text/plain": [
       "<IPython.core.display.HTML object>"
      ]
     },
     "metadata": {},
     "output_type": "display_data"
    },
    {
     "data": {
      "text/html": [
       "<span style=\"color:black\">--> 1 retweet(s) in tag Enviromentalists:</span>"
      ],
      "text/plain": [
       "<IPython.core.display.HTML object>"
      ]
     },
     "metadata": {},
     "output_type": "display_data"
    },
    {
     "data": {
      "text/html": [
       "<div>\n",
       "<style scoped>\n",
       "    .dataframe tbody tr th:only-of-type {\n",
       "        vertical-align: middle;\n",
       "    }\n",
       "\n",
       "    .dataframe tbody tr th {\n",
       "        vertical-align: top;\n",
       "    }\n",
       "\n",
       "    .dataframe thead th {\n",
       "        text-align: right;\n",
       "    }\n",
       "</style>\n",
       "<table border=\"1\" class=\"dataframe\">\n",
       "  <thead>\n",
       "    <tr style=\"text-align: right;\">\n",
       "      <th></th>\n",
       "      <th>Conspiracy</th>\n",
       "      <th>Climate Change Denial</th>\n",
       "      <th>Pro-Palestine</th>\n",
       "      <th>Enviromentalists</th>\n",
       "    </tr>\n",
       "  </thead>\n",
       "  <tbody>\n",
       "    <tr>\n",
       "      <th>count</th>\n",
       "      <td>3</td>\n",
       "      <td>1</td>\n",
       "      <td>1</td>\n",
       "      <td>1</td>\n",
       "    </tr>\n",
       "  </tbody>\n",
       "</table>\n",
       "</div>"
      ],
      "text/plain": [
       "       Conspiracy  Climate Change Denial  Pro-Palestine  Enviromentalists\n",
       "count           3                      1              1                 1"
      ]
     },
     "metadata": {},
     "output_type": "display_data"
    },
    {
     "data": {
      "text/html": [
       "<span style=\"color:black\"><a href=\"https://twitter.com/Carbongate/status/1256990659497594883\">Does ANYONE still believe the #WHO, #Tedros or their financier #BillGates after #Event201 &amp; #COVID__19  or anything they pretend to know about #Science or #Vaccines ? https://t.co/TsUCkhuIV2</a></span>"
      ],
      "text/plain": [
       "<IPython.core.display.HTML object>"
      ]
     },
     "metadata": {},
     "output_type": "display_data"
    },
    {
     "data": {
      "text/html": [
       "<span style=\"color:black\">--> 1 retweet(s) in tag Enviromentalists:</span>"
      ],
      "text/plain": [
       "<IPython.core.display.HTML object>"
      ]
     },
     "metadata": {},
     "output_type": "display_data"
    },
    {
     "data": {
      "text/html": [
       "<div>\n",
       "<style scoped>\n",
       "    .dataframe tbody tr th:only-of-type {\n",
       "        vertical-align: middle;\n",
       "    }\n",
       "\n",
       "    .dataframe tbody tr th {\n",
       "        vertical-align: top;\n",
       "    }\n",
       "\n",
       "    .dataframe thead th {\n",
       "        text-align: right;\n",
       "    }\n",
       "</style>\n",
       "<table border=\"1\" class=\"dataframe\">\n",
       "  <thead>\n",
       "    <tr style=\"text-align: right;\">\n",
       "      <th></th>\n",
       "      <th>Climate Change Denial</th>\n",
       "      <th>Enviromentalists</th>\n",
       "    </tr>\n",
       "  </thead>\n",
       "  <tbody>\n",
       "    <tr>\n",
       "      <th>count</th>\n",
       "      <td>1</td>\n",
       "      <td>1</td>\n",
       "    </tr>\n",
       "  </tbody>\n",
       "</table>\n",
       "</div>"
      ],
      "text/plain": [
       "       Climate Change Denial  Enviromentalists\n",
       "count                      1                 1"
      ]
     },
     "metadata": {},
     "output_type": "display_data"
    },
    {
     "data": {
      "text/html": [
       "<span style=\"color:black\"><a href=\"https://twitter.com/beefyfarmer/status/1255846140353720320\">Well done @AldiUK, found my old deerstalker, #drinkapintamilkaday #milkpintchallenge &amp; #shutthebleedinfarmgates @NFUtweets @KemMinnick @AbiReader @1GarethWynJones @pile_joanne @ffionhooson0 @FoodHeroes_UK @mission4milk @thejuleshudson https://t.co/OYDnEqgdUn</a></span>"
      ],
      "text/plain": [
       "<IPython.core.display.HTML object>"
      ]
     },
     "metadata": {},
     "output_type": "display_data"
    },
    {
     "data": {
      "text/html": [
       "<span style=\"color:black\">--> 1 retweet(s) in tag Enviromentalists:</span>"
      ],
      "text/plain": [
       "<IPython.core.display.HTML object>"
      ]
     },
     "metadata": {},
     "output_type": "display_data"
    },
    {
     "data": {
      "text/html": [
       "<div>\n",
       "<style scoped>\n",
       "    .dataframe tbody tr th:only-of-type {\n",
       "        vertical-align: middle;\n",
       "    }\n",
       "\n",
       "    .dataframe tbody tr th {\n",
       "        vertical-align: top;\n",
       "    }\n",
       "\n",
       "    .dataframe thead th {\n",
       "        text-align: right;\n",
       "    }\n",
       "</style>\n",
       "<table border=\"1\" class=\"dataframe\">\n",
       "  <thead>\n",
       "    <tr style=\"text-align: right;\">\n",
       "      <th></th>\n",
       "      <th>Climate Change Denial</th>\n",
       "      <th>Conspiracy</th>\n",
       "      <th>Enviromentalists</th>\n",
       "    </tr>\n",
       "  </thead>\n",
       "  <tbody>\n",
       "    <tr>\n",
       "      <th>count</th>\n",
       "      <td>1</td>\n",
       "      <td>1</td>\n",
       "      <td>1</td>\n",
       "    </tr>\n",
       "  </tbody>\n",
       "</table>\n",
       "</div>"
      ],
      "text/plain": [
       "       Climate Change Denial  Conspiracy  Enviromentalists\n",
       "count                      1           1                 1"
      ]
     },
     "metadata": {},
     "output_type": "display_data"
    },
    {
     "data": {
      "text/html": [
       "<span style=\"color:black\"><a href=\"https://twitter.com/aan_het_typen/status/1257004261956898816\">In de VS krijgen steeds meer mensen door dat deze man níét het beste voorheeft met de wereld. #BillGates in een sinistere creep. Hij moet gestopt worden! #StopBillGates #StopDeLockdown https://t.co/lCZTXh7Zhu</a></span>"
      ],
      "text/plain": [
       "<IPython.core.display.HTML object>"
      ]
     },
     "metadata": {},
     "output_type": "display_data"
    },
    {
     "data": {
      "text/html": [
       "<span style=\"color:black\">--> 1 retweet(s) in tag Enviromentalists:</span>"
      ],
      "text/plain": [
       "<IPython.core.display.HTML object>"
      ]
     },
     "metadata": {},
     "output_type": "display_data"
    },
    {
     "data": {
      "text/html": [
       "<div>\n",
       "<style scoped>\n",
       "    .dataframe tbody tr th:only-of-type {\n",
       "        vertical-align: middle;\n",
       "    }\n",
       "\n",
       "    .dataframe tbody tr th {\n",
       "        vertical-align: top;\n",
       "    }\n",
       "\n",
       "    .dataframe thead th {\n",
       "        text-align: right;\n",
       "    }\n",
       "</style>\n",
       "<table border=\"1\" class=\"dataframe\">\n",
       "  <thead>\n",
       "    <tr style=\"text-align: right;\">\n",
       "      <th></th>\n",
       "      <th>Enviromentalists</th>\n",
       "    </tr>\n",
       "  </thead>\n",
       "  <tbody>\n",
       "    <tr>\n",
       "      <th>count</th>\n",
       "      <td>1</td>\n",
       "    </tr>\n",
       "  </tbody>\n",
       "</table>\n",
       "</div>"
      ],
      "text/plain": [
       "       Enviromentalists\n",
       "count                 1"
      ]
     },
     "metadata": {},
     "output_type": "display_data"
    },
    {
     "data": {
      "text/html": [
       "<span style=\"color:black\"><a href=\"https://twitter.com/AnneIbiza13/status/1254867883978559488\">L' #OMS est financée a 80% par des fonds privés dont la fondation #Gates\n",
       "Comme toute les institutions internationales et ça, dans le but de faire valoir leurs intérêts au détriment des peuples.\n",
       "Ces gens font de l'argent sur le malheur dans l'unique but d'imposer leur idéologie ‼️</a></span>"
      ],
      "text/plain": [
       "<IPython.core.display.HTML object>"
      ]
     },
     "metadata": {},
     "output_type": "display_data"
    },
    {
     "data": {
      "text/html": [
       "<span style=\"color:black\"><h3><u>Climate Change Denial</u></h3></span>"
      ],
      "text/plain": [
       "<IPython.core.display.HTML object>"
      ]
     },
     "metadata": {},
     "output_type": "display_data"
    },
    {
     "data": {
      "text/html": [
       "<span style=\"color:black\">--> 1 retweet(s) in tag Climate Change Denial:</span>"
      ],
      "text/plain": [
       "<IPython.core.display.HTML object>"
      ]
     },
     "metadata": {},
     "output_type": "display_data"
    },
    {
     "data": {
      "text/html": [
       "<div>\n",
       "<style scoped>\n",
       "    .dataframe tbody tr th:only-of-type {\n",
       "        vertical-align: middle;\n",
       "    }\n",
       "\n",
       "    .dataframe tbody tr th {\n",
       "        vertical-align: top;\n",
       "    }\n",
       "\n",
       "    .dataframe thead th {\n",
       "        text-align: right;\n",
       "    }\n",
       "</style>\n",
       "<table border=\"1\" class=\"dataframe\">\n",
       "  <thead>\n",
       "    <tr style=\"text-align: right;\">\n",
       "      <th></th>\n",
       "      <th>Climate Change Denial</th>\n",
       "    </tr>\n",
       "  </thead>\n",
       "  <tbody>\n",
       "    <tr>\n",
       "      <th>count</th>\n",
       "      <td>1</td>\n",
       "    </tr>\n",
       "  </tbody>\n",
       "</table>\n",
       "</div>"
      ],
      "text/plain": [
       "       Climate Change Denial\n",
       "count                      1"
      ]
     },
     "metadata": {},
     "output_type": "display_data"
    },
    {
     "data": {
      "text/html": [
       "<span style=\"color:black\"><a href=\"https://twitter.com/LogicFarmer/status/1254763012080037890\">@chenweihua #BillGatesIsNotOurFriend #CCPVirus https://t.co/pq0UgKeo0M</a></span>"
      ],
      "text/plain": [
       "<IPython.core.display.HTML object>"
      ]
     },
     "metadata": {},
     "output_type": "display_data"
    },
    {
     "data": {
      "text/html": [
       "<span style=\"color:black\">--> 1 retweet(s) in tag Climate Change Denial:</span>"
      ],
      "text/plain": [
       "<IPython.core.display.HTML object>"
      ]
     },
     "metadata": {},
     "output_type": "display_data"
    },
    {
     "data": {
      "text/html": [
       "<div>\n",
       "<style scoped>\n",
       "    .dataframe tbody tr th:only-of-type {\n",
       "        vertical-align: middle;\n",
       "    }\n",
       "\n",
       "    .dataframe tbody tr th {\n",
       "        vertical-align: top;\n",
       "    }\n",
       "\n",
       "    .dataframe thead th {\n",
       "        text-align: right;\n",
       "    }\n",
       "</style>\n",
       "<table border=\"1\" class=\"dataframe\">\n",
       "  <thead>\n",
       "    <tr style=\"text-align: right;\">\n",
       "      <th></th>\n",
       "      <th>Climate Change Denial</th>\n",
       "      <th>Enviromentalists</th>\n",
       "    </tr>\n",
       "  </thead>\n",
       "  <tbody>\n",
       "    <tr>\n",
       "      <th>count</th>\n",
       "      <td>1</td>\n",
       "      <td>1</td>\n",
       "    </tr>\n",
       "  </tbody>\n",
       "</table>\n",
       "</div>"
      ],
      "text/plain": [
       "       Climate Change Denial  Enviromentalists\n",
       "count                      1                 1"
      ]
     },
     "metadata": {},
     "output_type": "display_data"
    },
    {
     "data": {
      "text/html": [
       "<span style=\"color:black\"><a href=\"https://twitter.com/FatcatGermany/status/1256700950405922816\">Jetzt wird die Systempresse von #BillGates gerettet: #BillGates-Stiftung zahlt größere Summen an:\n",
       "- #DieZeit \n",
       "- #Guardian \n",
       "- #DerSpiegel \n",
       "\n",
       "#Medien #Unparteiisch? #Uneingenommen? #Gekauft???? https://t.co/XiEX50L8A6</a></span>"
      ],
      "text/plain": [
       "<IPython.core.display.HTML object>"
      ]
     },
     "metadata": {},
     "output_type": "display_data"
    },
    {
     "data": {
      "text/html": [
       "<span style=\"color:black\">--> 1 retweet(s) in tag Climate Change Denial:</span>"
      ],
      "text/plain": [
       "<IPython.core.display.HTML object>"
      ]
     },
     "metadata": {},
     "output_type": "display_data"
    },
    {
     "data": {
      "text/html": [
       "<div>\n",
       "<style scoped>\n",
       "    .dataframe tbody tr th:only-of-type {\n",
       "        vertical-align: middle;\n",
       "    }\n",
       "\n",
       "    .dataframe tbody tr th {\n",
       "        vertical-align: top;\n",
       "    }\n",
       "\n",
       "    .dataframe thead th {\n",
       "        text-align: right;\n",
       "    }\n",
       "</style>\n",
       "<table border=\"1\" class=\"dataframe\">\n",
       "  <thead>\n",
       "    <tr style=\"text-align: right;\">\n",
       "      <th></th>\n",
       "      <th>Climate Change Denial</th>\n",
       "      <th>Enviromentalists</th>\n",
       "    </tr>\n",
       "  </thead>\n",
       "  <tbody>\n",
       "    <tr>\n",
       "      <th>count</th>\n",
       "      <td>1</td>\n",
       "      <td>1</td>\n",
       "    </tr>\n",
       "  </tbody>\n",
       "</table>\n",
       "</div>"
      ],
      "text/plain": [
       "       Climate Change Denial  Enviromentalists\n",
       "count                      1                 1"
      ]
     },
     "metadata": {},
     "output_type": "display_data"
    },
    {
     "data": {
      "text/html": [
       "<span style=\"color:black\"><a href=\"https://twitter.com/yota_berlin/status/1257180644595118080\">Die globale #ImpfAgenda und die #BillGatesFoundation führen in der Schweiz zu #Swissmedic.\n",
       "\n",
       "Ziel, die Regulierungssysteme in ressourcenarmen Ländern zu stärken.\n",
       "\n",
       "https://t.co/THzUj6t9Y2\n",
       "\n",
       "#coronaAgenda #CoronaInfoCH\n",
       "#coronavirus #coronakrise\n",
       "@infosperber \n",
       "@Zeitpunkt8\n",
       "@Weltwoche https://t.co/EGcekKfa9v</a></span>"
      ],
      "text/plain": [
       "<IPython.core.display.HTML object>"
      ]
     },
     "metadata": {},
     "output_type": "display_data"
    },
    {
     "data": {
      "text/html": [
       "<span style=\"color:black\">--> 1 retweet(s) in tag Climate Change Denial:</span>"
      ],
      "text/plain": [
       "<IPython.core.display.HTML object>"
      ]
     },
     "metadata": {},
     "output_type": "display_data"
    },
    {
     "data": {
      "text/html": [
       "<div>\n",
       "<style scoped>\n",
       "    .dataframe tbody tr th:only-of-type {\n",
       "        vertical-align: middle;\n",
       "    }\n",
       "\n",
       "    .dataframe tbody tr th {\n",
       "        vertical-align: top;\n",
       "    }\n",
       "\n",
       "    .dataframe thead th {\n",
       "        text-align: right;\n",
       "    }\n",
       "</style>\n",
       "<table border=\"1\" class=\"dataframe\">\n",
       "  <thead>\n",
       "    <tr style=\"text-align: right;\">\n",
       "      <th></th>\n",
       "      <th>Conspiracy</th>\n",
       "      <th>Climate Change Denial</th>\n",
       "      <th>Pro-Palestine</th>\n",
       "      <th>Enviromentalists</th>\n",
       "    </tr>\n",
       "  </thead>\n",
       "  <tbody>\n",
       "    <tr>\n",
       "      <th>count</th>\n",
       "      <td>3</td>\n",
       "      <td>1</td>\n",
       "      <td>1</td>\n",
       "      <td>1</td>\n",
       "    </tr>\n",
       "  </tbody>\n",
       "</table>\n",
       "</div>"
      ],
      "text/plain": [
       "       Conspiracy  Climate Change Denial  Pro-Palestine  Enviromentalists\n",
       "count           3                      1              1                 1"
      ]
     },
     "metadata": {},
     "output_type": "display_data"
    },
    {
     "data": {
      "text/html": [
       "<span style=\"color:black\"><a href=\"https://twitter.com/Carbongate/status/1256990659497594883\">Does ANYONE still believe the #WHO, #Tedros or their financier #BillGates after #Event201 &amp; #COVID__19  or anything they pretend to know about #Science or #Vaccines ? https://t.co/TsUCkhuIV2</a></span>"
      ],
      "text/plain": [
       "<IPython.core.display.HTML object>"
      ]
     },
     "metadata": {},
     "output_type": "display_data"
    },
    {
     "data": {
      "text/html": [
       "<span style=\"color:black\">--> 1 retweet(s) in tag Climate Change Denial:</span>"
      ],
      "text/plain": [
       "<IPython.core.display.HTML object>"
      ]
     },
     "metadata": {},
     "output_type": "display_data"
    },
    {
     "data": {
      "text/html": [
       "<div>\n",
       "<style scoped>\n",
       "    .dataframe tbody tr th:only-of-type {\n",
       "        vertical-align: middle;\n",
       "    }\n",
       "\n",
       "    .dataframe tbody tr th {\n",
       "        vertical-align: top;\n",
       "    }\n",
       "\n",
       "    .dataframe thead th {\n",
       "        text-align: right;\n",
       "    }\n",
       "</style>\n",
       "<table border=\"1\" class=\"dataframe\">\n",
       "  <thead>\n",
       "    <tr style=\"text-align: right;\">\n",
       "      <th></th>\n",
       "      <th>Climate Change Denial</th>\n",
       "      <th>Enviromentalists</th>\n",
       "    </tr>\n",
       "  </thead>\n",
       "  <tbody>\n",
       "    <tr>\n",
       "      <th>count</th>\n",
       "      <td>1</td>\n",
       "      <td>1</td>\n",
       "    </tr>\n",
       "  </tbody>\n",
       "</table>\n",
       "</div>"
      ],
      "text/plain": [
       "       Climate Change Denial  Enviromentalists\n",
       "count                      1                 1"
      ]
     },
     "metadata": {},
     "output_type": "display_data"
    },
    {
     "data": {
      "text/html": [
       "<span style=\"color:black\"><a href=\"https://twitter.com/beefyfarmer/status/1255846140353720320\">Well done @AldiUK, found my old deerstalker, #drinkapintamilkaday #milkpintchallenge &amp; #shutthebleedinfarmgates @NFUtweets @KemMinnick @AbiReader @1GarethWynJones @pile_joanne @ffionhooson0 @FoodHeroes_UK @mission4milk @thejuleshudson https://t.co/OYDnEqgdUn</a></span>"
      ],
      "text/plain": [
       "<IPython.core.display.HTML object>"
      ]
     },
     "metadata": {},
     "output_type": "display_data"
    },
    {
     "data": {
      "text/html": [
       "<span style=\"color:black\"><h3><u>UK Left</u></h3></span>"
      ],
      "text/plain": [
       "<IPython.core.display.HTML object>"
      ]
     },
     "metadata": {},
     "output_type": "display_data"
    },
    {
     "data": {
      "text/html": [
       "<span style=\"color:black\">--> 2 retweet(s) in tag UK Left:</span>"
      ],
      "text/plain": [
       "<IPython.core.display.HTML object>"
      ]
     },
     "metadata": {},
     "output_type": "display_data"
    },
    {
     "data": {
      "text/html": [
       "<div>\n",
       "<style scoped>\n",
       "    .dataframe tbody tr th:only-of-type {\n",
       "        vertical-align: middle;\n",
       "    }\n",
       "\n",
       "    .dataframe tbody tr th {\n",
       "        vertical-align: top;\n",
       "    }\n",
       "\n",
       "    .dataframe thead th {\n",
       "        text-align: right;\n",
       "    }\n",
       "</style>\n",
       "<table border=\"1\" class=\"dataframe\">\n",
       "  <thead>\n",
       "    <tr style=\"text-align: right;\">\n",
       "      <th></th>\n",
       "      <th>UK Left</th>\n",
       "      <th>US Right</th>\n",
       "    </tr>\n",
       "  </thead>\n",
       "  <tbody>\n",
       "    <tr>\n",
       "      <th>count</th>\n",
       "      <td>2</td>\n",
       "      <td>1</td>\n",
       "    </tr>\n",
       "  </tbody>\n",
       "</table>\n",
       "</div>"
      ],
      "text/plain": [
       "       UK Left  US Right\n",
       "count        2         1"
      ]
     },
     "metadata": {},
     "output_type": "display_data"
    },
    {
     "data": {
      "text/html": [
       "<span style=\"color:black\"><a href=\"https://twitter.com/theaceofspuds/status/1254874930405138432\">@nw_nicholas How is #BillGates allowed to fund #BBC and promote his agenda, when I fund  the BBC but they ignore my agenda? https://t.co/Iz66VuyBvF</a></span>"
      ],
      "text/plain": [
       "<IPython.core.display.HTML object>"
      ]
     },
     "metadata": {},
     "output_type": "display_data"
    },
    {
     "data": {
      "text/html": [
       "<span style=\"color:black\">--> 1 retweet(s) in tag UK Left:</span>"
      ],
      "text/plain": [
       "<IPython.core.display.HTML object>"
      ]
     },
     "metadata": {},
     "output_type": "display_data"
    },
    {
     "data": {
      "text/html": [
       "<div>\n",
       "<style scoped>\n",
       "    .dataframe tbody tr th:only-of-type {\n",
       "        vertical-align: middle;\n",
       "    }\n",
       "\n",
       "    .dataframe tbody tr th {\n",
       "        vertical-align: top;\n",
       "    }\n",
       "\n",
       "    .dataframe thead th {\n",
       "        text-align: right;\n",
       "    }\n",
       "</style>\n",
       "<table border=\"1\" class=\"dataframe\">\n",
       "  <thead>\n",
       "    <tr style=\"text-align: right;\">\n",
       "      <th></th>\n",
       "      <th>Conspiracy</th>\n",
       "      <th>UK Left</th>\n",
       "    </tr>\n",
       "  </thead>\n",
       "  <tbody>\n",
       "    <tr>\n",
       "      <th>count</th>\n",
       "      <td>2</td>\n",
       "      <td>1</td>\n",
       "    </tr>\n",
       "  </tbody>\n",
       "</table>\n",
       "</div>"
      ],
      "text/plain": [
       "       Conspiracy  UK Left\n",
       "count           2        1"
      ]
     },
     "metadata": {},
     "output_type": "display_data"
    },
    {
     "data": {
      "text/html": [
       "<span style=\"color:black\"><a href=\"https://twitter.com/paulfitter/status/1256485546093936641\">Dangerous man #BillGates. Here he's spreading more #covid19 fear coupled with new fear of 'bioterrorism'. Can he predict what's happening because he is helping drive the pandemic &amp; finds that idea amusing? Yet he's @Conservatives @BorisJohnson virus guru (untrained unqualified) https://t.co/m6qyPbzqS3</a></span>"
      ],
      "text/plain": [
       "<IPython.core.display.HTML object>"
      ]
     },
     "metadata": {},
     "output_type": "display_data"
    },
    {
     "data": {
      "text/html": [
       "<span style=\"color:black\">--> 1 retweet(s) in tag UK Left:</span>"
      ],
      "text/plain": [
       "<IPython.core.display.HTML object>"
      ]
     },
     "metadata": {},
     "output_type": "display_data"
    },
    {
     "data": {
      "text/html": [
       "<div>\n",
       "<style scoped>\n",
       "    .dataframe tbody tr th:only-of-type {\n",
       "        vertical-align: middle;\n",
       "    }\n",
       "\n",
       "    .dataframe tbody tr th {\n",
       "        vertical-align: top;\n",
       "    }\n",
       "\n",
       "    .dataframe thead th {\n",
       "        text-align: right;\n",
       "    }\n",
       "</style>\n",
       "<table border=\"1\" class=\"dataframe\">\n",
       "  <thead>\n",
       "    <tr style=\"text-align: right;\">\n",
       "      <th></th>\n",
       "      <th>Conspiracy</th>\n",
       "      <th>Pro-Palestine</th>\n",
       "      <th>Mainstream media</th>\n",
       "      <th>UK Left</th>\n",
       "      <th>Alt Media/Conspiracy</th>\n",
       "    </tr>\n",
       "  </thead>\n",
       "  <tbody>\n",
       "    <tr>\n",
       "      <th>count</th>\n",
       "      <td>6</td>\n",
       "      <td>3</td>\n",
       "      <td>1</td>\n",
       "      <td>1</td>\n",
       "      <td>1</td>\n",
       "    </tr>\n",
       "  </tbody>\n",
       "</table>\n",
       "</div>"
      ],
      "text/plain": [
       "       Conspiracy  Pro-Palestine  Mainstream media  UK Left  \\\n",
       "count           6              3                 1        1   \n",
       "\n",
       "       Alt Media/Conspiracy  \n",
       "count                     1  "
      ]
     },
     "metadata": {},
     "output_type": "display_data"
    },
    {
     "data": {
      "text/html": [
       "<span style=\"color:black\"><a href=\"https://twitter.com/gunnergee/status/1255920255379136512\">#BillGates ghoulish interview during which he is highly amused by \"bio-terrorism\" threat and is already talking about Pandemic 2 (Pandemic 1 is over his shoulder) - not mapped out at all (sarcasm)... who stands to gain?  Not the #LittlePeople. #Covid1984 https://t.co/GCzBTZsI9r</a></span>"
      ],
      "text/plain": [
       "<IPython.core.display.HTML object>"
      ]
     },
     "metadata": {},
     "output_type": "display_data"
    },
    {
     "data": {
      "text/html": [
       "<span style=\"color:black\">--> 1 retweet(s) in tag UK Left:</span>"
      ],
      "text/plain": [
       "<IPython.core.display.HTML object>"
      ]
     },
     "metadata": {},
     "output_type": "display_data"
    },
    {
     "data": {
      "text/html": [
       "<div>\n",
       "<style scoped>\n",
       "    .dataframe tbody tr th:only-of-type {\n",
       "        vertical-align: middle;\n",
       "    }\n",
       "\n",
       "    .dataframe tbody tr th {\n",
       "        vertical-align: top;\n",
       "    }\n",
       "\n",
       "    .dataframe thead th {\n",
       "        text-align: right;\n",
       "    }\n",
       "</style>\n",
       "<table border=\"1\" class=\"dataframe\">\n",
       "  <thead>\n",
       "    <tr style=\"text-align: right;\">\n",
       "      <th></th>\n",
       "      <th>UK Left</th>\n",
       "      <th>US Right</th>\n",
       "    </tr>\n",
       "  </thead>\n",
       "  <tbody>\n",
       "    <tr>\n",
       "      <th>count</th>\n",
       "      <td>1</td>\n",
       "      <td>1</td>\n",
       "    </tr>\n",
       "  </tbody>\n",
       "</table>\n",
       "</div>"
      ],
      "text/plain": [
       "       UK Left  US Right\n",
       "count        1         1"
      ]
     },
     "metadata": {},
     "output_type": "display_data"
    },
    {
     "data": {
      "text/html": [
       "<span style=\"color:black\"><a href=\"https://twitter.com/petros_berhe/status/1256703513167568897\">I'm sure God would bless us a thousandfold when we #SayNoToBillGates &amp; #NoToNewNormal 😊 https://t.co/rQUwf5Czsn</a></span>"
      ],
      "text/plain": [
       "<IPython.core.display.HTML object>"
      ]
     },
     "metadata": {},
     "output_type": "display_data"
    },
    {
     "data": {
      "text/html": [
       "<span style=\"color:black\">--> 1 retweet(s) in tag UK Left:</span>"
      ],
      "text/plain": [
       "<IPython.core.display.HTML object>"
      ]
     },
     "metadata": {},
     "output_type": "display_data"
    },
    {
     "data": {
      "text/html": [
       "<div>\n",
       "<style scoped>\n",
       "    .dataframe tbody tr th:only-of-type {\n",
       "        vertical-align: middle;\n",
       "    }\n",
       "\n",
       "    .dataframe tbody tr th {\n",
       "        vertical-align: top;\n",
       "    }\n",
       "\n",
       "    .dataframe thead th {\n",
       "        text-align: right;\n",
       "    }\n",
       "</style>\n",
       "<table border=\"1\" class=\"dataframe\">\n",
       "  <thead>\n",
       "    <tr style=\"text-align: right;\">\n",
       "      <th></th>\n",
       "      <th>SMM</th>\n",
       "      <th>UK Left</th>\n",
       "      <th>US Right</th>\n",
       "      <th>Conspiracy</th>\n",
       "    </tr>\n",
       "  </thead>\n",
       "  <tbody>\n",
       "    <tr>\n",
       "      <th>count</th>\n",
       "      <td>1</td>\n",
       "      <td>1</td>\n",
       "      <td>1</td>\n",
       "      <td>1</td>\n",
       "    </tr>\n",
       "  </tbody>\n",
       "</table>\n",
       "</div>"
      ],
      "text/plain": [
       "       SMM  UK Left  US Right  Conspiracy\n",
       "count    1        1         1           1"
      ]
     },
     "metadata": {},
     "output_type": "display_data"
    },
    {
     "data": {
      "text/html": [
       "<span style=\"color:black\"><a href=\"https://twitter.com/TAsaurus/status/1255227174430400512\">what the fuck...#NWO #BillGates #5G #COVID19 #killbill #Diktatur #QAnon #agenda2020 #Agenda21 https://t.co/6wOAPcnoTh</a></span>"
      ],
      "text/plain": [
       "<IPython.core.display.HTML object>"
      ]
     },
     "metadata": {},
     "output_type": "display_data"
    },
    {
     "data": {
      "text/html": [
       "<span style=\"color:black\"><h3><u>Sanders Support</u></h3></span>"
      ],
      "text/plain": [
       "<IPython.core.display.HTML object>"
      ]
     },
     "metadata": {},
     "output_type": "display_data"
    },
    {
     "data": {
      "text/html": [
       "<span style=\"color:black\">--> 3 retweet(s) in tag Sanders Support:</span>"
      ],
      "text/plain": [
       "<IPython.core.display.HTML object>"
      ]
     },
     "metadata": {},
     "output_type": "display_data"
    },
    {
     "data": {
      "text/html": [
       "<div>\n",
       "<style scoped>\n",
       "    .dataframe tbody tr th:only-of-type {\n",
       "        vertical-align: middle;\n",
       "    }\n",
       "\n",
       "    .dataframe tbody tr th {\n",
       "        vertical-align: top;\n",
       "    }\n",
       "\n",
       "    .dataframe thead th {\n",
       "        text-align: right;\n",
       "    }\n",
       "</style>\n",
       "<table border=\"1\" class=\"dataframe\">\n",
       "  <thead>\n",
       "    <tr style=\"text-align: right;\">\n",
       "      <th></th>\n",
       "      <th>Conspiracy</th>\n",
       "      <th>Sanders Support</th>\n",
       "    </tr>\n",
       "  </thead>\n",
       "  <tbody>\n",
       "    <tr>\n",
       "      <th>count</th>\n",
       "      <td>6</td>\n",
       "      <td>3</td>\n",
       "    </tr>\n",
       "  </tbody>\n",
       "</table>\n",
       "</div>"
      ],
      "text/plain": [
       "       Conspiracy  Sanders Support\n",
       "count           6                3"
      ]
     },
     "metadata": {},
     "output_type": "display_data"
    },
    {
     "data": {
      "text/html": [
       "<span style=\"color:black\"><a href=\"https://twitter.com/KathyJoLloyd2/status/1254839210227490823\">Bill Gates, not DJT, is running the show. The slip of the year.\n",
       "\n",
       "#2020election #Gates #GatesHacked #BillGatesIsEvil #BillGatesFoundation #QAnon #DeepState #IlluminatiAgenda #Agenda2020 #Event201 #arrestbillgates #TheStorm #TheStormIsHere \n",
       "\n",
       "The storm &amp; plan were for you... https://t.co/6gsCIgR1Gy</a></span>"
      ],
      "text/plain": [
       "<IPython.core.display.HTML object>"
      ]
     },
     "metadata": {},
     "output_type": "display_data"
    },
    {
     "data": {
      "text/html": [
       "<span style=\"color:black\">--> 1 retweet(s) in tag Sanders Support:</span>"
      ],
      "text/plain": [
       "<IPython.core.display.HTML object>"
      ]
     },
     "metadata": {},
     "output_type": "display_data"
    },
    {
     "data": {
      "text/html": [
       "<div>\n",
       "<style scoped>\n",
       "    .dataframe tbody tr th:only-of-type {\n",
       "        vertical-align: middle;\n",
       "    }\n",
       "\n",
       "    .dataframe tbody tr th {\n",
       "        vertical-align: top;\n",
       "    }\n",
       "\n",
       "    .dataframe thead th {\n",
       "        text-align: right;\n",
       "    }\n",
       "</style>\n",
       "<table border=\"1\" class=\"dataframe\">\n",
       "  <thead>\n",
       "    <tr style=\"text-align: right;\">\n",
       "      <th></th>\n",
       "      <th>Conspiracy</th>\n",
       "      <th>US Right</th>\n",
       "      <th>CAN Right</th>\n",
       "      <th>AUS Right</th>\n",
       "      <th>Sanders Support</th>\n",
       "    </tr>\n",
       "  </thead>\n",
       "  <tbody>\n",
       "    <tr>\n",
       "      <th>count</th>\n",
       "      <td>13</td>\n",
       "      <td>5</td>\n",
       "      <td>3</td>\n",
       "      <td>1</td>\n",
       "      <td>1</td>\n",
       "    </tr>\n",
       "  </tbody>\n",
       "</table>\n",
       "</div>"
      ],
      "text/plain": [
       "       Conspiracy  US Right  CAN Right  AUS Right  Sanders Support\n",
       "count          13         5          3          1                1"
      ]
     },
     "metadata": {},
     "output_type": "display_data"
    },
    {
     "data": {
      "text/html": [
       "<span style=\"color:black\"><a href=\"https://twitter.com/SamualLClemens/status/1255168827383353344\">This is a WONDERFUL ‘Freudian Slip’ from Dr Birx!\n",
       "\n",
       "Who is she REALLY working for?\n",
       "\n",
       "#GatesFoundation #COVID #Coronavirus #Plandemic https://t.co/ShlZP2jfQj</a></span>"
      ],
      "text/plain": [
       "<IPython.core.display.HTML object>"
      ]
     },
     "metadata": {},
     "output_type": "display_data"
    },
    {
     "data": {
      "text/html": [
       "<span style=\"color:black\">--> 1 retweet(s) in tag Sanders Support:</span>"
      ],
      "text/plain": [
       "<IPython.core.display.HTML object>"
      ]
     },
     "metadata": {},
     "output_type": "display_data"
    },
    {
     "data": {
      "text/html": [
       "<div>\n",
       "<style scoped>\n",
       "    .dataframe tbody tr th:only-of-type {\n",
       "        vertical-align: middle;\n",
       "    }\n",
       "\n",
       "    .dataframe tbody tr th {\n",
       "        vertical-align: top;\n",
       "    }\n",
       "\n",
       "    .dataframe thead th {\n",
       "        text-align: right;\n",
       "    }\n",
       "</style>\n",
       "<table border=\"1\" class=\"dataframe\">\n",
       "  <thead>\n",
       "    <tr style=\"text-align: right;\">\n",
       "      <th></th>\n",
       "      <th>Sanders Support</th>\n",
       "    </tr>\n",
       "  </thead>\n",
       "  <tbody>\n",
       "    <tr>\n",
       "      <th>count</th>\n",
       "      <td>1</td>\n",
       "    </tr>\n",
       "  </tbody>\n",
       "</table>\n",
       "</div>"
      ],
      "text/plain": [
       "       Sanders Support\n",
       "count                1"
      ]
     },
     "metadata": {},
     "output_type": "display_data"
    },
    {
     "data": {
      "text/html": [
       "<span style=\"color:black\"><a href=\"https://twitter.com/InLWithLBeingL/status/1256953111937245185\">#BillGates\n",
       "\n",
       "The Age When Press Organisations Are Run by — Not Just Funded by — Plutocrats \n",
       "https://t.co/Zx10uSKN5d</a></span>"
      ],
      "text/plain": [
       "<IPython.core.display.HTML object>"
      ]
     },
     "metadata": {},
     "output_type": "display_data"
    }
   ],
   "source": [
    "analysis_result = analyze_hit(fetched_hits)"
   ]
  },
  {
   "cell_type": "code",
   "execution_count": 97,
   "metadata": {},
   "outputs": [
    {
     "name": "stdout",
     "output_type": "stream",
     "text": [
      "...Getting 5 tweets\n",
      "...Done!\n"
     ]
    },
    {
     "data": {
      "text/html": [
       "<div>\n",
       "<style scoped>\n",
       "    .dataframe tbody tr th:only-of-type {\n",
       "        vertical-align: middle;\n",
       "    }\n",
       "\n",
       "    .dataframe tbody tr th {\n",
       "        vertical-align: top;\n",
       "    }\n",
       "\n",
       "    .dataframe thead th {\n",
       "        text-align: right;\n",
       "    }\n",
       "</style>\n",
       "<table border=\"1\" class=\"dataframe\">\n",
       "  <thead>\n",
       "    <tr style=\"text-align: right;\">\n",
       "      <th></th>\n",
       "      <th>retweet_screen_name</th>\n",
       "      <th>retweet_tweet_id</th>\n",
       "      <th>user_id</th>\n",
       "      <th>retweet</th>\n",
       "      <th>text</th>\n",
       "      <th>author</th>\n",
       "      <th>screen_name</th>\n",
       "      <th>tweet_id</th>\n",
       "      <th>time</th>\n",
       "      <th>mentions</th>\n",
       "      <th>hashtags</th>\n",
       "      <th>urls</th>\n",
       "    </tr>\n",
       "  </thead>\n",
       "  <tbody>\n",
       "    <tr>\n",
       "      <th>0</th>\n",
       "      <td>None</td>\n",
       "      <td>None</td>\n",
       "      <td>822462665910063105</td>\n",
       "      <td>False</td>\n",
       "      <td>b'\\xe2\\x80\\x9c\\xf0\\x9d\\x90\\x93\\xf0\\x9d\\x90\\xa1...</td>\n",
       "      <td>Girl♥️Bot</td>\n",
       "      <td>AMErikaNGIRLLL</td>\n",
       "      <td>1256225671455682561</td>\n",
       "      <td>2020-05-01 14:15:14</td>\n",
       "      <td>[Tesla]</td>\n",
       "      <td>[ElonMusk, FlashbackFriday, fridaymorning, Sat...</td>\n",
       "      <td>[]</td>\n",
       "    </tr>\n",
       "    <tr>\n",
       "      <th>1</th>\n",
       "      <td>None</td>\n",
       "      <td>None</td>\n",
       "      <td>1216793092134723586</td>\n",
       "      <td>False</td>\n",
       "      <td>b'Elon Musk says shelter-in-place orders are \"...</td>\n",
       "      <td>Just the News</td>\n",
       "      <td>JustTheNews</td>\n",
       "      <td>1255956546862940160</td>\n",
       "      <td>2020-04-30 20:25:49</td>\n",
       "      <td>[]</td>\n",
       "      <td>[jtnreports, elonmusk]</td>\n",
       "      <td>[http://ow.ly/MCUZ50ztudg]</td>\n",
       "    </tr>\n",
       "    <tr>\n",
       "      <th>2</th>\n",
       "      <td>None</td>\n",
       "      <td>None</td>\n",
       "      <td>28395645</td>\n",
       "      <td>False</td>\n",
       "      <td>b'Is it possible that going on Joe Rogan\\xe2\\x...</td>\n",
       "      <td>Tom Arnold</td>\n",
       "      <td>TomArnold</td>\n",
       "      <td>1255716271372423169</td>\n",
       "      <td>2020-04-30 04:31:03</td>\n",
       "      <td>[]</td>\n",
       "      <td>[ElonMusk]</td>\n",
       "      <td>[]</td>\n",
       "    </tr>\n",
       "    <tr>\n",
       "      <th>3</th>\n",
       "      <td>None</td>\n",
       "      <td>None</td>\n",
       "      <td>430421961</td>\n",
       "      <td>False</td>\n",
       "      <td>b'Another day arguing over #Tesla &amp;amp; #ElonM...</td>\n",
       "      <td>Susan Li</td>\n",
       "      <td>SusanLiTV</td>\n",
       "      <td>1255558219629502472</td>\n",
       "      <td>2020-04-29 18:03:01</td>\n",
       "      <td>[]</td>\n",
       "      <td>[Tesla, ElonMusk, Musk, marketcap, Tesla, elec...</td>\n",
       "      <td>[]</td>\n",
       "    </tr>\n",
       "    <tr>\n",
       "      <th>4</th>\n",
       "      <td>None</td>\n",
       "      <td>None</td>\n",
       "      <td>741977462028926976</td>\n",
       "      <td>False</td>\n",
       "      <td>b\"ICYMI an immigrant entrepreneur is the loude...</td>\n",
       "      <td>Rosie memos</td>\n",
       "      <td>almostjingo</td>\n",
       "      <td>1255574260023611392</td>\n",
       "      <td>2020-04-29 19:06:45</td>\n",
       "      <td>[]</td>\n",
       "      <td>[ElonMusk]</td>\n",
       "      <td>[]</td>\n",
       "    </tr>\n",
       "  </tbody>\n",
       "</table>\n",
       "</div>"
      ],
      "text/plain": [
       "  retweet_screen_name retweet_tweet_id              user_id  retweet  \\\n",
       "0                None             None   822462665910063105    False   \n",
       "1                None             None  1216793092134723586    False   \n",
       "2                None             None             28395645    False   \n",
       "3                None             None            430421961    False   \n",
       "4                None             None   741977462028926976    False   \n",
       "\n",
       "                                                text         author  \\\n",
       "0  b'\\xe2\\x80\\x9c\\xf0\\x9d\\x90\\x93\\xf0\\x9d\\x90\\xa1...      Girl♥️Bot   \n",
       "1  b'Elon Musk says shelter-in-place orders are \"...  Just the News   \n",
       "2  b'Is it possible that going on Joe Rogan\\xe2\\x...     Tom Arnold   \n",
       "3  b'Another day arguing over #Tesla &amp; #ElonM...       Susan Li   \n",
       "4  b\"ICYMI an immigrant entrepreneur is the loude...    Rosie memos   \n",
       "\n",
       "      screen_name             tweet_id                time mentions  \\\n",
       "0  AMErikaNGIRLLL  1256225671455682561 2020-05-01 14:15:14  [Tesla]   \n",
       "1     JustTheNews  1255956546862940160 2020-04-30 20:25:49       []   \n",
       "2       TomArnold  1255716271372423169 2020-04-30 04:31:03       []   \n",
       "3       SusanLiTV  1255558219629502472 2020-04-29 18:03:01       []   \n",
       "4     almostjingo  1255574260023611392 2020-04-29 19:06:45       []   \n",
       "\n",
       "                                            hashtags  \\\n",
       "0  [ElonMusk, FlashbackFriday, fridaymorning, Sat...   \n",
       "1                             [jtnreports, elonmusk]   \n",
       "2                                         [ElonMusk]   \n",
       "3  [Tesla, ElonMusk, Musk, marketcap, Tesla, elec...   \n",
       "4                                         [ElonMusk]   \n",
       "\n",
       "                         urls  \n",
       "0                          []  \n",
       "1  [http://ow.ly/MCUZ50ztudg]  \n",
       "2                          []  \n",
       "3                          []  \n",
       "4                          []  "
      ]
     },
     "execution_count": 97,
     "metadata": {},
     "output_type": "execute_result"
    }
   ],
   "source": [
    "get_full_tweets(analysis_result.retweet_tweet_id.value_counts().index.values.tolist()[:5])"
   ]
  },
  {
   "cell_type": "markdown",
   "metadata": {},
   "source": [
    "### Run this cell to search by either message_id or node_id\n",
    "You may enter the type of search and ID to lookup"
   ]
  },
  {
   "cell_type": "code",
   "execution_count": 84,
   "metadata": {},
   "outputs": [],
   "source": [
    "lookup_type = input('>> Please enter either message_id for tweets, or node_id for users: ')\n",
    "lookup_id = input('>> Please enter an ID to search: ')\n",
    "fetched_hits[fetched_hits[lookup_type] == lookup_id]"
   ]
  },
  {
   "cell_type": "markdown",
   "metadata": {},
   "source": [
    "### Run this cell to view a full tweet\n",
    "You may enter the type of search and an ID to lookup\n",
    "\n",
    "The result will contain the screen name of a user, and all other information"
   ]
  },
  {
   "cell_type": "code",
   "execution_count": null,
   "metadata": {},
   "outputs": [],
   "source": [
    "tweet_result = api.get_status(input('>> Please enter tweet ID to search: '))._json\n",
    "tweet_result"
   ]
  }
 ],
 "metadata": {
  "kernelspec": {
   "display_name": "Python 3",
   "language": "python",
   "name": "python3"
  },
  "language_info": {
   "codemirror_mode": {
    "name": "ipython",
    "version": 3
   },
   "file_extension": ".py",
   "mimetype": "text/x-python",
   "name": "python",
   "nbconvert_exporter": "python",
   "pygments_lexer": "ipython3",
   "version": "3.6.4"
  }
 },
 "nbformat": 4,
 "nbformat_minor": 2
}
