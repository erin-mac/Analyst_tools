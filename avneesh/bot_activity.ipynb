{
 "cells": [
  {
   "cell_type": "code",
   "execution_count": 136,
   "metadata": {},
   "outputs": [],
   "source": [
    "seeds = ['1116667990060277760',\\\n",
    " '1036736559939112960',\\\n",
    " '2545545694',\\\n",
    " '57108843',\\\n",
    " '763393864229093376',\\\n",
    " '34661052',\\\n",
    " '1049876475917275137',\\\n",
    " '29276200',\\\n",
    " '728819442621153280']"
   ]
  },
  {
   "cell_type": "code",
   "execution_count": 127,
   "metadata": {},
   "outputs": [],
   "source": [
    "def get_bot_activity(df,botlist,tot_tweets):\n",
    "    \"\"\"\n",
    "    This function calculates the share of activity in a map on a given set of nodes\n",
    "    Inputs:\n",
    "        df: Subset of nodes dataframe based on given seedlist of nodes\n",
    "        botlist: Given seedlist of nodes\n",
    "        tot_tweets: Total number of tweets\n",
    "    Outputs:\n",
    "        bot_stats: A dictionary of calculcated stats on the given dataframe\n",
    "    \"\"\"\n",
    "    bot_stats = {'bot_tweets':0,'total_tweets':tot_tweets}\n",
    "    for bot in botlist:\n",
    "        bot_stats['bot_tweets'] = bot_stats['bot_tweets'] + df[df.node_id == bot].shape[0]\n",
    "    bot_stats['bot_share_percent'] = 100*(bot_stats['bot_tweets']/bot_stats['total_tweets'])\n",
    "    for group in df.group_name.value_counts().index.tolist():\n",
    "        bot_stats[group+'_count'] = df.group_name.value_counts()[group]\n",
    "        bot_stats[group+'_share'] = 100*(bot_stats[group+'_count']/bot_stats['total_tweets'])\n",
    "    return bot_stats"
   ]
  },
  {
   "cell_type": "code",
   "execution_count": 130,
   "metadata": {},
   "outputs": [],
   "source": [
    "def run_bot_activity_report(debug = False):\n",
    "    \"\"\"\n",
    "    This function runs the entirety of the Bot Activity Report (focused on a given seedlist of nodes)\n",
    "    Inputs:\n",
    "        debug: A Boolean to limit the amount of data pulled and processed for debugging purposes\n",
    "    Outputs:\n",
    "        result: The resulting Map Activity dataframe with both nodes and hits data\n",
    "    \"\"\"\n",
    "    global debug_opt\n",
    "    debug_opt = debug\n",
    "    global map_id\n",
    "    global map_features\n",
    "    global map_feature_data\n",
    "    \n",
    "    input_map_id = int(input('>> Enter map ID: '))\n",
    "    feature_type = input('>> What type of hit would you like to explore? (hashtags,retweets,urls)\\n')\n",
    "    if not debug_opt:\n",
    "        seeds = list(input('>> Enter comma-separated seedlist: '))\n",
    "    \n",
    "    if input_map_id != map_id:\n",
    "        print('...Fetching map data')\n",
    "        map_id = input_map_id\n",
    "        map_features = {'hashtags':pd.DataFrame(),'urls':pd.DataFrame(),'retweets':pd.DataFrame()}\n",
    "    if map_features[feature_type].empty:\n",
    "        print('...Fetching {} data'.format(feature_type))\n",
    "        map_features[feature_type] = get_map_hits(feature_type,map_id)\n",
    "        \n",
    "        \n",
    "#     hits_data = get_map_hits(hit_type,map_id)\n",
    "#     display(hits_data)\n",
    "#     return\n",
    "    case_sensitive = input(\">> Is this search case sensitive? (y/n) \\n\")\n",
    "    if case_sensitive == 'n':\n",
    "        case_sensitive = False\n",
    "    else:\n",
    "        case_sensitive = True\n",
    "        \n",
    "    hits_list = input('>> Enter a comma-separated list of hits you would like to examine: ')\n",
    "    hits_list = hits_list.split(',')\n",
    "    hits = {}\n",
    "    for hit in hits_list:\n",
    "        hit = hit.strip()\n",
    "        hits_subset = map_features[feature_type][map_features[feature_type].hit_value == hit]\n",
    "        hits_subset = map_features[feature_type][map_features[feature_type].hit_value.str.contains(hit,case=case_sensitive)]\n",
    "        if not hits_subset.empty:\n",
    "            hits[hit] = get_bot_activity(hits_subset,seeds,map_features[feature_type].shape[0])\n",
    "        else:\n",
    "            print('...{} is not present in map {}'.format(hit,map_id))\n",
    "    result = pd.DataFrame(hits).transpose().fillna(0)\n",
    "    display(result)\n",
    "    if input('>> Do you want to save the bot activity results to a CSV? (y/n) \\n') == 'y':\n",
    "            print_csv(result)\n",
    "    return"
   ]
  }
 ],
 "metadata": {
  "kernelspec": {
   "display_name": "Python 3",
   "language": "python",
   "name": "python3"
  },
  "language_info": {
   "codemirror_mode": {
    "name": "ipython",
    "version": 3
   },
   "file_extension": ".py",
   "mimetype": "text/x-python",
   "name": "python",
   "nbconvert_exporter": "python",
   "pygments_lexer": "ipython3",
   "version": "3.6.4"
  }
 },
 "nbformat": 4,
 "nbformat_minor": 2
}
