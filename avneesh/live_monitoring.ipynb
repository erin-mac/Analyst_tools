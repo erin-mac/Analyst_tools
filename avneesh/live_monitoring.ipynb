{
 "cells": [
  {
   "cell_type": "code",
   "execution_count": 20,
   "metadata": {},
   "outputs": [],
   "source": [
    "%run graphika_trending.ipynb\n",
    "%run misc_functions.ipynb\n",
    "%run connect_to_api.ipynb"
   ]
  },
  {
   "cell_type": "code",
   "execution_count": 16,
   "metadata": {},
   "outputs": [
    {
     "name": "stdout",
     "output_type": "stream",
     "text": [
      ">> Enter which type of hit you would like to look up (hashtags,urls,media): media\n"
     ]
    }
   ],
   "source": [
    "new_trends = get_today_trends()"
   ]
  },
  {
   "cell_type": "code",
   "execution_count": 21,
   "metadata": {},
   "outputs": [
    {
     "name": "stdout",
     "output_type": "stream",
     "text": [
      ">> Enter term to search: \n",
      "...Searching results\n",
      ">> Enter how many of the top hits you would like to view: 5\n",
      "...Getting a summary of top 5 hits\n",
      "...Done!\n"
     ]
    },
    {
     "data": {
      "text/html": [
       "<div>\n",
       "<style scoped>\n",
       "    .dataframe tbody tr th:only-of-type {\n",
       "        vertical-align: middle;\n",
       "    }\n",
       "\n",
       "    .dataframe tbody tr th {\n",
       "        vertical-align: top;\n",
       "    }\n",
       "\n",
       "    .dataframe thead th {\n",
       "        text-align: right;\n",
       "    }\n",
       "</style>\n",
       "<table border=\"1\" class=\"dataframe\">\n",
       "  <thead>\n",
       "    <tr style=\"text-align: right;\">\n",
       "      <th></th>\n",
       "      <th>hit_count</th>\n",
       "      <th>hit_share</th>\n",
       "      <th>tweet_count</th>\n",
       "      <th>tweet_share</th>\n",
       "      <th>map_count</th>\n",
       "      <th>node_count</th>\n",
       "      <th>node_share</th>\n",
       "    </tr>\n",
       "    <tr>\n",
       "      <th>hit_value</th>\n",
       "      <th></th>\n",
       "      <th></th>\n",
       "      <th></th>\n",
       "      <th></th>\n",
       "      <th></th>\n",
       "      <th></th>\n",
       "      <th></th>\n",
       "    </tr>\n",
       "  </thead>\n",
       "  <tbody>\n",
       "    <tr>\n",
       "      <th>www.youtube.com/watch?v=6SmKIRrAYn4</th>\n",
       "      <td>56</td>\n",
       "      <td>0.31</td>\n",
       "      <td>56</td>\n",
       "      <td>0.32</td>\n",
       "      <td>1</td>\n",
       "      <td>1</td>\n",
       "      <td>0.02</td>\n",
       "    </tr>\n",
       "    <tr>\n",
       "      <th>www.youtube.com/watch?v=8d5E2sr3Zjc</th>\n",
       "      <td>21</td>\n",
       "      <td>0.11</td>\n",
       "      <td>21</td>\n",
       "      <td>0.12</td>\n",
       "      <td>1</td>\n",
       "      <td>1</td>\n",
       "      <td>0.02</td>\n",
       "    </tr>\n",
       "    <tr>\n",
       "      <th>twitter.com/KingOfQueenz/status/1245216838125928448/video/1</th>\n",
       "      <td>14</td>\n",
       "      <td>0.08</td>\n",
       "      <td>13</td>\n",
       "      <td>0.07</td>\n",
       "      <td>2</td>\n",
       "      <td>13</td>\n",
       "      <td>0.25</td>\n",
       "    </tr>\n",
       "    <tr>\n",
       "      <th>twitter.com/HOT97/status/1245324455687184384/photo/1</th>\n",
       "      <td>14</td>\n",
       "      <td>0.08</td>\n",
       "      <td>13</td>\n",
       "      <td>0.07</td>\n",
       "      <td>2</td>\n",
       "      <td>13</td>\n",
       "      <td>0.25</td>\n",
       "    </tr>\n",
       "    <tr>\n",
       "      <th>twitter.com/NickCannon/status/1245187190495166464/video/1</th>\n",
       "      <td>14</td>\n",
       "      <td>0.08</td>\n",
       "      <td>14</td>\n",
       "      <td>0.08</td>\n",
       "      <td>2</td>\n",
       "      <td>14</td>\n",
       "      <td>0.27</td>\n",
       "    </tr>\n",
       "  </tbody>\n",
       "</table>\n",
       "</div>"
      ],
      "text/plain": [
       "                                                    hit_count  hit_share  \\\n",
       "hit_value                                                                  \n",
       "www.youtube.com/watch?v=6SmKIRrAYn4                        56       0.31   \n",
       "www.youtube.com/watch?v=8d5E2sr3Zjc                        21       0.11   \n",
       "twitter.com/KingOfQueenz/status/124521683812592...         14       0.08   \n",
       "twitter.com/HOT97/status/1245324455687184384/ph...         14       0.08   \n",
       "twitter.com/NickCannon/status/12451871904951664...         14       0.08   \n",
       "\n",
       "                                                    tweet_count  tweet_share  \\\n",
       "hit_value                                                                      \n",
       "www.youtube.com/watch?v=6SmKIRrAYn4                          56         0.32   \n",
       "www.youtube.com/watch?v=8d5E2sr3Zjc                          21         0.12   \n",
       "twitter.com/KingOfQueenz/status/124521683812592...           13         0.07   \n",
       "twitter.com/HOT97/status/1245324455687184384/ph...           13         0.07   \n",
       "twitter.com/NickCannon/status/12451871904951664...           14         0.08   \n",
       "\n",
       "                                                    map_count  node_count  \\\n",
       "hit_value                                                                   \n",
       "www.youtube.com/watch?v=6SmKIRrAYn4                         1           1   \n",
       "www.youtube.com/watch?v=8d5E2sr3Zjc                         1           1   \n",
       "twitter.com/KingOfQueenz/status/124521683812592...          2          13   \n",
       "twitter.com/HOT97/status/1245324455687184384/ph...          2          13   \n",
       "twitter.com/NickCannon/status/12451871904951664...          2          14   \n",
       "\n",
       "                                                    node_share  \n",
       "hit_value                                                       \n",
       "www.youtube.com/watch?v=6SmKIRrAYn4                       0.02  \n",
       "www.youtube.com/watch?v=8d5E2sr3Zjc                       0.02  \n",
       "twitter.com/KingOfQueenz/status/124521683812592...        0.25  \n",
       "twitter.com/HOT97/status/1245324455687184384/ph...        0.25  \n",
       "twitter.com/NickCannon/status/12451871904951664...        0.27  "
      ]
     },
     "execution_count": 21,
     "metadata": {},
     "output_type": "execute_result"
    }
   ],
   "source": [
    "get_top_x_trends(search_trends(new_trends,auto = True))"
   ]
  },
  {
   "cell_type": "markdown",
   "metadata": {},
   "source": [
    "highest participation cluster lightup"
   ]
  }
 ],
 "metadata": {
  "kernelspec": {
   "display_name": "Python 3",
   "language": "python",
   "name": "python3"
  },
  "language_info": {
   "codemirror_mode": {
    "name": "ipython",
    "version": 3
   },
   "file_extension": ".py",
   "mimetype": "text/x-python",
   "name": "python",
   "nbconvert_exporter": "python",
   "pygments_lexer": "ipython3",
   "version": "3.6.4"
  }
 },
 "nbformat": 4,
 "nbformat_minor": 2
}
