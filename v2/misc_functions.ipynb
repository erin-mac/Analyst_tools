{
 "cells": [
  {
   "cell_type": "code",
   "execution_count": 1,
   "metadata": {},
   "outputs": [],
   "source": [
    "import pandas as pd\n",
    "#Set it to None to display all columns/rows in the dataframe\n",
    "pd.set_option('display.max_columns', None)\n",
    "pd.set_option('display.min_rows',100)"
   ]
  },
  {
   "cell_type": "code",
   "execution_count": 1,
   "metadata": {},
   "outputs": [],
   "source": [
    "def print_csv(df):\n",
    "    filename = input('Enter filename: ')\n",
    "    try:\n",
    "        df.to_csv('./{}.csv'.format(filename))\n",
    "    except:\n",
    "        print('Error')\n",
    "        return\n",
    "    print('{}.csv stored to the same directory as this file!'.format(filename))"
   ]
  },
  {
   "cell_type": "code",
   "execution_count": 4,
   "metadata": {},
   "outputs": [],
   "source": [
    "def get_node_metadata(tocheck_id,map_id):\n",
    "    url = 'https://api.graphika.com/maps/{}/nodes/{}'.format(map_id,tocheck_id)\n",
    "#     print(url)\n",
    "    r = requests.get(url, auth = (username,pswd))\n",
    "    try:\n",
    "        return pd.DataFrame([r.json()])\n",
    "    except:\n",
    "        print('**Permission denied for map {}**'.format(map_id))\n",
    "        return 'Unknown'"
   ]
  },
  {
   "cell_type": "code",
   "execution_count": null,
   "metadata": {},
   "outputs": [],
   "source": [
    "def get_map_counts(df):\n",
    "    how_many_in_map = {}\n",
    "    for mid in df.groupby('map_id').groups:\n",
    "        how_many = df.groupby('map_id').get_group(mid).shape[0]\n",
    "        how_many_in_map[mid] = [how_many,100*(how_many/len(df))]\n",
    "        \n",
    "    return pd.DataFrame.from_dict(how_many_in_map,orient='index',columns=['count','percent']).sort_values(['count'],ascending = False)"
   ]
  },
  {
   "cell_type": "code",
   "execution_count": 2,
   "metadata": {},
   "outputs": [],
   "source": [
    "def get_map_name(map_id):\n",
    "    url = 'https://api.graphika.com/maps/{}'.format(map_id)\n",
    "    r = requests.get(url,auth=(username,pswd))\n",
    "    try:\n",
    "        return r.json()['name']\n",
    "    except:\n",
    "        print('**Permission denied for map {}**'.format(map_id))\n",
    "        return 'Unknown'"
   ]
  },
  {
   "cell_type": "code",
   "execution_count": null,
   "metadata": {},
   "outputs": [],
   "source": [
    "def get_map_ids(ids_to_check_list):\n",
    "    check_for_tweet(ids_to_check_list[0])\n",
    "    maps_dict = {}\n",
    "    for an_id in ids_to_check_list:\n",
    "        maps_dict[an_id] = check_for_tweet(an_id).time\n",
    "\n",
    "    for k in maps_dict.keys():\n",
    "        start_date = maps_dict[k].values[0]\n",
    "        end_date = maps_dict[k].values[0] + np.timedelta64(7,'D')\n",
    "        rtrs = get_rtrs(k)\n",
    "        maps_dict[k] = get_map_counts(get_retweet_data('retweets',k,start_date,end_date))\n",
    "\n",
    "    return maps_dict"
   ]
  },
  {
   "cell_type": "code",
   "execution_count": 3,
   "metadata": {},
   "outputs": [],
   "source": [
    "def check_graphika_data(df,get_metadata = False):\n",
    "    all_nodes = set(df.user_id.tolist())\n",
    "    print('From this search, {} nodes were returned'.format(len(all_nodes)))\n",
    "    result_node_df = pd.DataFrame()\n",
    "\n",
    "    for node_id in all_nodes:\n",
    "        result_node_df = result_node_df.append(get_hit('nodes',node_id,how_many = 10,get_groups = get_metadata,get_clusters = get_metadata,get_nodenames = get_metadata))\n",
    "\n",
    "    map_summary_table = get_map_counts(result_node_df)\n",
    "    top_maps = map_summary_table.index.tolist()[:3]\n",
    "    top_names = [get_map_name(top_maps[0]),get_map_name(top_maps[1]),get_map_name(top_maps[2])]\n",
    "    print('The map that have the most of these nodes are \\n{} \\n{} \\nand {}'.format(top_names[0],top_names[1],top_names[2]))\n",
    "    display(get_map_counts(result_node_df))\n",
    "    \n",
    "    if input('>> Would you like to save a table of which maps these nodes appear in? (y/n) \\n') == 'y':\n",
    "        print_csv(result_node_df.set_index('map_id'))\n",
    "    return result_node_df.set_index('map_id')\n",
    "    # current_df = get_hit('nodes','2972164989',how_many = 10)\n",
    "    # set(current_df.map_id.tolist())\n",
    "    # current_df = newtemp[newtemp.map_id == 1687]"
   ]
  },
  {
   "cell_type": "code",
   "execution_count": null,
   "metadata": {},
   "outputs": [],
   "source": [
    "# def node_finder(node_id,get_groups = True,get_clusters = True,get_nodenames = True):\n",
    "#     query = \"SELECT * FROM \\\n",
    "#     \\\n",
    "#     ( \\\n",
    "#     SELECT \\\n",
    "#     * \\\n",
    "#     FROM \\\n",
    "#     hits_twitter_tweets \\\n",
    "#     JOIN \\\n",
    "#     map_nodes on map_nodes.node_id = hits_twitter_tweets.node_id \\\n",
    "#     WHERE \\\n",
    "#     hits_twitter_tweets.node_id = '{}' \\\n",
    "#     ) s;\".format(node_id)\n",
    "    \n",
    "#     r = cur.execute(query)\n",
    "#     hits = cur.fetchall()\n",
    "#     hits_df = pd.DataFrame(hits, columns=[\"id\",\"hit_value\", \"node_id\", \"message_id\",\"hit_time\",\"params\",\"id_2\",\"node_id2\",\"map_id\",\"cluster_id\"])\n",
    "    \n",
    "#     hits_df[\"node_id\"] = hits_df[\"node_id\"].astype(\"str\")\n",
    "#     hits_df[\"message_id\"] = hits_df[\"message_id\"].astype(\"str\")\n",
    "#     hits_df[\"hit_type\"] = 'tweets'\n",
    "#     hits_df.drop(columns = ['node_id2','id_2','id','params'],inplace = True)\n",
    "    \n",
    "#     if get_groups:\n",
    "#         groupname_values = hits_df.apply(groupname_lookup,axis = 1,result_type = 'reduce')\n",
    "#         hits_df.insert(loc = hits_df.shape[1]-1,column = 'group_name', value = groupname_values)\n",
    "        \n",
    "#     if get_clusters:\n",
    "#         clustername_values = hits_df.apply(clustername_lookup,axis = 1,result_type = 'reduce')\n",
    "#         hits_df.insert(loc = hits_df.shape[1]-1,column = 'cluster_name', value = clustername_values)\n",
    "        \n",
    "#     if get_nodenames:\n",
    "#         nodename_values = hits_df.apply(nodename_lookup,axis = 1,result_type = 'reduce')\n",
    "#         hits_df.insert(loc = hits_df.shape[1]-1,column = 'node_name', value = nodename_values)\n",
    "\n",
    "    \n",
    "#     return hits_df"
   ]
  }
 ],
 "metadata": {
  "kernelspec": {
   "display_name": "Python 3",
   "language": "python",
   "name": "python3"
  },
  "language_info": {
   "codemirror_mode": {
    "name": "ipython",
    "version": 3
   },
   "file_extension": ".py",
   "mimetype": "text/x-python",
   "name": "python",
   "nbconvert_exporter": "python",
   "pygments_lexer": "ipython3",
   "version": "3.6.4"
  }
 },
 "nbformat": 4,
 "nbformat_minor": 2
}
