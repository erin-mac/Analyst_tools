{
 "cells": [
  {
   "cell_type": "code",
   "execution_count": 8,
   "metadata": {},
   "outputs": [],
   "source": [
    "import pandas as pd\n",
    "from datetime import datetime,timedelta\n",
    "# %run ./connect_to_api.ipynb"
   ]
  },
  {
   "cell_type": "code",
   "execution_count": 3,
   "metadata": {},
   "outputs": [],
   "source": [
    "def write_query(table,value,limit = 10,col = 'hit_value'):\n",
    "    if limit == False:\n",
    "        limit = ''\n",
    "    else:\n",
    "        limit = 'LIMIT ' + str(limit)\n",
    "    q = \"SELECT * FROM \\\n",
    "    \\\n",
    "    ( \\\n",
    "    SELECT \\\n",
    "    * \\\n",
    "    FROM \\\n",
    "    hits_twitter_{0} \\\n",
    "    JOIN \\\n",
    "    map_nodes on map_nodes.node_id = hits_twitter_{0}.node_id \\\n",
    "    WHERE \\\n",
    "    hits_twitter_{0}.{3} = '{1}' \\\n",
    "    ) s \\\n",
    "    \\\n",
    "    {2};;\".format(table, value, limit, col)\n",
    "    return q"
   ]
  },
  {
   "cell_type": "code",
   "execution_count": 4,
   "metadata": {},
   "outputs": [],
   "source": [
    "def get_hit(hit_type, hit_value, how_many = 10,sort_by = 'id',get_groups = True,get_clusters = True,get_nodenames = True):\n",
    "    if hit_type == 'nodes':\n",
    "        hit_type == 'tweets'\n",
    "        query = write_query('tweets',hit_value,how_many,'node_id')\n",
    "    else:\n",
    "        query = write_query(hit_type,hit_value,how_many)\n",
    "    \n",
    "    r = cur.execute(query)\n",
    "    hits = cur.fetchall()\n",
    "    hits_df = pd.DataFrame(hits, columns=[\"id\",\"hit_value\", \"node_id\", \"message_id\",\"hit_time\",\"params\",\"id_2\",\"node_id2\",\"map_id\",\"cluster_id\"])\n",
    "    \n",
    "    hits_df[\"node_id\"] = hits_df[\"node_id\"].astype(\"str\")\n",
    "    hits_df[\"message_id\"] = hits_df[\"message_id\"].astype(\"str\")\n",
    "    hits_df[\"hit_type\"] = hit_type\n",
    "    hits_df.drop_duplicates([sort_by],inplace = True)\n",
    "    hits_df.drop(columns = ['node_id2','id_2','id','params'],inplace = True)\n",
    "    \n",
    "    date_values = hits_df.apply(date_extractor,axis = 1,result_type = 'reduce')\n",
    "    hits_df.insert(loc = hits_df.shape[1]-1,column = 'date', value = date_values)\n",
    "        \n",
    "    if get_groups:\n",
    "        groupname_values = hits_df.apply(groupname_lookup,axis = 1,result_type = 'reduce')\n",
    "        hits_df.insert(loc = hits_df.shape[1]-1,column = 'group_name', value = groupname_values)\n",
    "        \n",
    "    if get_clusters:\n",
    "        clustername_values = hits_df.apply(clustername_lookup,axis = 1,result_type = 'reduce')\n",
    "        hits_df.insert(loc = hits_df.shape[1]-1,column = 'cluster_name', value = clustername_values)\n",
    "        \n",
    "    if get_nodenames:\n",
    "        nodename_values = hits_df.apply(nodename_lookup,axis = 1,result_type = 'reduce')\n",
    "        hits_df.insert(loc = hits_df.shape[1]-1,column = 'node_name', value = nodename_values)\n",
    "\n",
    "    return hits_df.set_index(['hit_value'])"
   ]
  },
  {
   "cell_type": "code",
   "execution_count": 5,
   "metadata": {},
   "outputs": [],
   "source": [
    "def clustername_lookup(rcvd_series):\n",
    "    map_id = rcvd_series['map_id']\n",
    "    cluster_id = rcvd_series['cluster_id']\n",
    "    url = 'https://api.graphika.com/maps/{}/clusters/{}'.format(map_id,cluster_id)\n",
    "    r = requests.get(url, auth = (username,pswd))\n",
    "    try:\n",
    "        return r.json()['name']\n",
    "    except:\n",
    "        return '**Map access needed**'"
   ]
  },
  {
   "cell_type": "code",
   "execution_count": 6,
   "metadata": {},
   "outputs": [],
   "source": [
    "def nodename_lookup(rcvd_series):\n",
    "    map_id = rcvd_series['map_id']\n",
    "    node_id = rcvd_series['node_id']\n",
    "#     cluster_id = rcvd_series['cluster_id']\n",
    "    url = 'https://api.graphika.com/maps/{}/nodes/{}'.format(map_id,node_id)\n",
    "    r = requests.get(url, auth = (username,pswd))\n",
    "    try:\n",
    "        return r.json()['name']\n",
    "    except:\n",
    "        return '**Map access needed**'"
   ]
  },
  {
   "cell_type": "code",
   "execution_count": 7,
   "metadata": {},
   "outputs": [],
   "source": [
    "def groupname_lookup(rcvd_series):\n",
    "    map_id = rcvd_series['map_id']\n",
    "    cluster_id = rcvd_series['cluster_id']\n",
    "    url = 'https://api.graphika.com/maps/{}/clusters/{}'.format(map_id,cluster_id)\n",
    "    r = requests.get(url, auth = (username,pswd))\n",
    "    try:\n",
    "        group_id = r.json()['group_no']\n",
    "        url = 'https://api.graphika.com/maps/{}/groups/{}'.format(map_id,group_id)\n",
    "        r = requests.get(url, auth = (username,pswd))\n",
    "        return r.json()['name']\n",
    "    except:\n",
    "        return '**Map access needed**'"
   ]
  },
  {
   "cell_type": "code",
   "execution_count": 8,
   "metadata": {},
   "outputs": [],
   "source": [
    "def date_extractor(rcvd_series):\n",
    "    return datetime.strftime(rcvd_series.hit_time,'%d-%b-%Y %H00')"
   ]
  },
  {
   "cell_type": "code",
   "execution_count": 11,
   "metadata": {},
   "outputs": [],
   "source": [
    "def get_summary(result):\n",
    "    hitcounts_dict = {'node_id':[],'message_id':[],'map_id':[],'hit_time':[],'date':[]}\n",
    "    for k in hitcounts_dict:\n",
    "        hitcounts_dict[k].append(result[k].nunique())\n",
    "        hitcounts_dict[k].append(result[k].value_counts())\n",
    "    print('For the given hit value, there are:')\n",
    "    for k in hitcounts_dict:\n",
    "        print('---> {} unique {}s'.format(hitcounts_dict[k][0],k))\n",
    "    return hitcounts_dict\n"
   ]
  },
  {
   "cell_type": "code",
   "execution_count": 119,
   "metadata": {},
   "outputs": [],
   "source": [
    "def get_segment_data(level,get_density = True):\n",
    "    map_id = 2232\n",
    "    group_id = 0\n",
    "    cluster_id = 1\n",
    "#     map_id = rcvd_series['map_id']\n",
    "#     cluster_id = rcvd_series['cluster_id']\n",
    "    %run group_density_getter.ipynb\n",
    "    get_group_density(map_id)\n",
    "    if level == 'map':\n",
    "        url = 'https://api.graphika.com/maps/{}'.format(map_id)\n",
    "    elif level == 'group':\n",
    "        url = 'https://api.graphika.com/maps/{}/group/{}'.format(map_id,group_id)\n",
    "    elif level == 'cluster':\n",
    "        url = 'https://api.graphika.com/maps/{}/clusters/{}'.format(map_id,cluster_id)\n",
    "    r = requests.get(url, auth = (username,pswd))\n",
    "    try:\n",
    "        return r.json()['num_nodes']\n",
    "    except:\n",
    "        return '**Map access needed**'"
   ]
  },
  {
   "cell_type": "markdown",
   "metadata": {},
   "source": [
    "\n",
    "## For a given segment (map/group/cluster): Density, number of nodes, influence, number of tweets"
   ]
  }
 ],
 "metadata": {
  "kernelspec": {
   "display_name": "Python 3",
   "language": "python",
   "name": "python3"
  },
  "language_info": {
   "codemirror_mode": {
    "name": "ipython",
    "version": 3
   },
   "file_extension": ".py",
   "mimetype": "text/x-python",
   "name": "python",
   "nbconvert_exporter": "python",
   "pygments_lexer": "ipython3",
   "version": "3.6.4"
  }
 },
 "nbformat": 4,
 "nbformat_minor": 2
}
